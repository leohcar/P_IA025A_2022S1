{
  "nbformat": 4,
  "nbformat_minor": 0,
  "metadata": {
    "colab": {
      "name": "Proyecto_encoder_resnet",
      "provenance": [],
      "collapsed_sections": [],
      "include_colab_link": true
    },
    "kernelspec": {
      "name": "python3",
      "display_name": "Python 3"
    },
    "language_info": {
      "name": "python"
    },
    "accelerator": "GPU",
    "gpuClass": "standard"
  },
  "cells": [
    {
      "cell_type": "markdown",
      "metadata": {
        "id": "view-in-github",
        "colab_type": "text"
      },
      "source": [
        "<a href=\"https://colab.research.google.com/github/leohcar/P_IA025A_2022S1/blob/main/entrega_final/Proyecto_encoder_resnet18.ipynb\" target=\"_parent\"><img src=\"https://colab.research.google.com/assets/colab-badge.svg\" alt=\"Open In Colab\"/></a>"
      ]
    },
    {
      "cell_type": "markdown",
      "source": [
        "# Encoder"
      ],
      "metadata": {
        "id": "k3m40JYHf-UB"
      }
    },
    {
      "cell_type": "code",
      "execution_count": null,
      "metadata": {
        "id": "WFKQOen_f3J8",
        "colab": {
          "base_uri": "https://localhost:8080/"
        },
        "outputId": "b62a0ab2-8143-4386-f54a-000aeb4317ef"
      },
      "outputs": [
        {
          "output_type": "stream",
          "name": "stdout",
          "text": [
            "Meu nome é Carlos Leonardo Ancasi Hinostroza\n"
          ]
        }
      ],
      "source": [
        "nome = 'Carlos Leonardo Ancasi Hinostroza'\n",
        "\n",
        "print(f'Meu nome é {nome}')"
      ]
    },
    {
      "cell_type": "markdown",
      "source": [
        "# Importação das bibliotecas"
      ],
      "metadata": {
        "id": "zVxl_iLNgGTB"
      }
    },
    {
      "cell_type": "code",
      "source": [
        "import collections\n",
        "import itertools\n",
        "import functools\n",
        "import math\n",
        "import random\n",
        "\n",
        "import torch\n",
        "import torchvision\n",
        "import torch.nn as nn\n",
        "import numpy as np\n",
        "from torch.utils.data import DataLoader\n",
        "from tqdm import tqdm_notebook\n",
        "\n",
        "from torchvision.datasets import MNIST"
      ],
      "metadata": {
        "id": "iwnitOBZgDBT"
      },
      "execution_count": null,
      "outputs": []
    },
    {
      "cell_type": "code",
      "source": [
        "# Check which GPU we are using\n",
        "!nvidia-smi"
      ],
      "metadata": {
        "colab": {
          "base_uri": "https://localhost:8080/"
        },
        "id": "DhwSJHu-xa-i",
        "outputId": "3714a39d-1ef5-4660-eaaa-5b76339ad63a"
      },
      "execution_count": null,
      "outputs": [
        {
          "output_type": "stream",
          "name": "stdout",
          "text": [
            "Fri Jul 15 23:19:08 2022       \n",
            "+-----------------------------------------------------------------------------+\n",
            "| NVIDIA-SMI 460.32.03    Driver Version: 460.32.03    CUDA Version: 11.2     |\n",
            "|-------------------------------+----------------------+----------------------+\n",
            "| GPU  Name        Persistence-M| Bus-Id        Disp.A | Volatile Uncorr. ECC |\n",
            "| Fan  Temp  Perf  Pwr:Usage/Cap|         Memory-Usage | GPU-Util  Compute M. |\n",
            "|                               |                      |               MIG M. |\n",
            "|===============================+======================+======================|\n",
            "|   0  Tesla T4            Off  | 00000000:00:04.0 Off |                    0 |\n",
            "| N/A   41C    P8    10W /  70W |      3MiB / 15109MiB |      0%      Default |\n",
            "|                               |                      |                  N/A |\n",
            "+-------------------------------+----------------------+----------------------+\n",
            "                                                                               \n",
            "+-----------------------------------------------------------------------------+\n",
            "| Processes:                                                                  |\n",
            "|  GPU   GI   CI        PID   Type   Process name                  GPU Memory |\n",
            "|        ID   ID                                                   Usage      |\n",
            "|=============================================================================|\n",
            "|  No running processes found                                                 |\n",
            "+-----------------------------------------------------------------------------+\n"
          ]
        }
      ]
    },
    {
      "cell_type": "code",
      "source": [
        "device = torch.device('cpu')\n",
        "if torch.cuda.is_available():\n",
        "    device = torch.device('cuda')\n",
        "print('GPU available:', device)"
      ],
      "metadata": {
        "id": "MFMJaJoAgfWh",
        "colab": {
          "base_uri": "https://localhost:8080/"
        },
        "outputId": "81ba02ea-7352-4b47-b0b9-9e412e64c744"
      },
      "execution_count": null,
      "outputs": [
        {
          "output_type": "stream",
          "name": "stdout",
          "text": [
            "GPU available: cuda\n"
          ]
        }
      ]
    },
    {
      "cell_type": "code",
      "source": [
        "random.seed(123)\n",
        "np.random.seed(123)\n",
        "torch.manual_seed(123)"
      ],
      "metadata": {
        "id": "nQ7nrCOfgmxp",
        "colab": {
          "base_uri": "https://localhost:8080/"
        },
        "outputId": "e4ce948b-53a8-45f6-f829-9f73fcbffb29"
      },
      "execution_count": null,
      "outputs": [
        {
          "output_type": "execute_result",
          "data": {
            "text/plain": [
              "<torch._C.Generator at 0x7febe9c39870>"
            ]
          },
          "metadata": {},
          "execution_count": 5
        }
      ]
    },
    {
      "cell_type": "markdown",
      "source": [
        "#Dataset e dataloader"
      ],
      "metadata": {
        "id": "qiGkG6Z7gqMl"
      }
    },
    {
      "cell_type": "code",
      "source": [
        "!mkdir ./data\n",
        "\n",
        "# transform = torchvision.transforms.Compose(\n",
        "#     [torchvision.transforms.Resize([224,224]),\n",
        "#      torchvision.transforms.ToTensor(),\n",
        "#      torchvision.transforms.Normalize((0.5,0.5,0.5),(0.5,0.5,0.5))])\n",
        "transform = torchvision.transforms.Compose(\n",
        "     [torchvision.transforms.ToTensor(),\n",
        "     torchvision.transforms.Normalize((0.5,0.5,0.5),(0.5,0.5,0.5))])\n",
        "\n",
        "train_dataset = torchvision.datasets.CIFAR100(root='./data', train=True,\n",
        "                                             download=True, transform=transform)\n",
        "\n",
        "test_dataset = torchvision.datasets.CIFAR100(root='./data', train=False,\n",
        "                                            download=True, transform=transform)"
      ],
      "metadata": {
        "id": "HzsxWm4zgptJ",
        "colab": {
          "base_uri": "https://localhost:8080/"
        },
        "outputId": "dbc5bd55-f806-448d-863f-28643fa28c51"
      },
      "execution_count": 25,
      "outputs": [
        {
          "output_type": "stream",
          "name": "stdout",
          "text": [
            "mkdir: cannot create directory ‘./data’: File exists\n",
            "Files already downloaded and verified\n",
            "Files already downloaded and verified\n"
          ]
        }
      ]
    },
    {
      "cell_type": "code",
      "source": [
        "print(f'numero de imagenes {len(train_dataset)}')\n",
        "img, target = train_dataset[0]\n",
        "print(img.size())"
      ],
      "metadata": {
        "colab": {
          "base_uri": "https://localhost:8080/"
        },
        "id": "vNiG6o-Y9khm",
        "outputId": "4683e363-68a2-43ba-95e5-aff686a360e5"
      },
      "execution_count": 26,
      "outputs": [
        {
          "output_type": "stream",
          "name": "stdout",
          "text": [
            "numero de imagenes 50000\n",
            "torch.Size([3, 32, 32])\n"
          ]
        }
      ]
    },
    {
      "cell_type": "code",
      "source": [
        "train_size = 40000\n",
        "val_size = 10000\n",
        "\n",
        "train_dataset, val_dataset = torch.utils.data.random_split(train_dataset, [train_size, val_size])"
      ],
      "metadata": {
        "id": "eKBHExbNjJbh"
      },
      "execution_count": 27,
      "outputs": []
    },
    {
      "cell_type": "code",
      "source": [
        "batch_size = 50\n",
        "\n",
        "train_dataloader = DataLoader(train_dataset, batch_size=batch_size, shuffle=True)\n",
        "val_dataloader = DataLoader(val_dataset, batch_size=batch_size, shuffle=False)\n",
        "test_dataloader = DataLoader(test_dataset, batch_size=batch_size, shuffle=False)\n",
        "\n",
        "print('Número de minibatches de trenamento:', len(train_dataloader))\n",
        "print('Número de minibatches de validação:', len(val_dataloader))\n",
        "print('Número de minibatches de teste:', len(test_dataloader))\n",
        "\n",
        "x_train, y_train = next(iter(train_dataloader))\n",
        "print(\"\\nDimensões dos dados de um minibatch:\", x_train.size())\n",
        "print(\"Valores mínimo e máximo dos pixels: \", torch.min(x_train), torch.max(x_train))\n",
        "print(\"Tipo dos dados das imagens:         \", type(x_train))\n",
        "print(\"Tipo das classes das imagens:       \", type(y_train))"
      ],
      "metadata": {
        "id": "dCAtbFAfjbep",
        "colab": {
          "base_uri": "https://localhost:8080/"
        },
        "outputId": "8724ad68-2737-45f1-8b3c-03dca72b63bd"
      },
      "execution_count": 28,
      "outputs": [
        {
          "output_type": "stream",
          "name": "stdout",
          "text": [
            "Número de minibatches de trenamento: 800\n",
            "Número de minibatches de validação: 200\n",
            "Número de minibatches de teste: 200\n",
            "\n",
            "Dimensões dos dados de um minibatch: torch.Size([50, 3, 32, 32])\n",
            "Valores mínimo e máximo dos pixels:  tensor(-1.) tensor(1.)\n",
            "Tipo dos dados das imagens:          <class 'torch.Tensor'>\n",
            "Tipo das classes das imagens:        <class 'torch.Tensor'>\n"
          ]
        }
      ]
    },
    {
      "cell_type": "markdown",
      "source": [
        "#Bloco Básico da Resnet"
      ],
      "metadata": {
        "id": "gZTWV8YEj8bZ"
      }
    },
    {
      "cell_type": "code",
      "source": [
        "from collections import OrderedDict\n",
        "from torch import nn\n",
        "from torch import Tensor\n",
        "\n",
        "\n",
        "class MyBlock(nn.Module):\n",
        "\n",
        "    def __init__(\n",
        "        self,\n",
        "        inplanes: int,\n",
        "        planes: int,\n",
        "        identity_downsample=None,\n",
        "        stride: int = 1,\n",
        "    ) -> None:\n",
        "        super(MyBlock, self).__init__()\n",
        "        # Escreva seu código aqui.\n",
        "        self.conv1 = nn.Conv2d(inplanes, planes, kernel_size=3, stride=stride, bias=False, padding=1)\n",
        "        self.bn1 = nn.BatchNorm2d(planes)\n",
        "        self.relu = nn.ReLU(inplace=True)\n",
        "        self.conv2 = nn.Conv2d(planes, planes, kernel_size=3, stride=1, bias=False, padding=1)\n",
        "        self.bn2 = nn.BatchNorm2d(planes)\n",
        "\n",
        "        self.identity_downsample = identity_downsample\n",
        "        self.stride = stride\n",
        "\n",
        "    def forward(self, x: Tensor) -> Tensor:\n",
        "        # Escreva seu código aqui.\n",
        "        identity = x\n",
        "\n",
        "        out = self.conv1(x)\n",
        "        out = self.bn1(out)\n",
        "        out = self.relu(out)\n",
        "\n",
        "        out = self.conv2(out)\n",
        "        out = self.bn2(out)\n",
        "        \n",
        "        if self.identity_downsample is not None:\n",
        "            identity = self.identity_downsample(x)\n",
        "        out += identity\n",
        "        out = self.relu(out)\n",
        "        return out"
      ],
      "metadata": {
        "id": "FRUodY_gj5cz"
      },
      "execution_count": 11,
      "outputs": []
    },
    {
      "cell_type": "code",
      "source": [
        "class CNN_resnet(nn.Module):\n",
        "    def __init__(self, image_channels, num_classes):\n",
        "\n",
        "        super(CNN_resnet,self).__init__()\n",
        "\n",
        "        self.conv1 = nn.Conv2d(image_channels, 64, kernel_size=7, stride=2, padding=3)\n",
        "        self.bn1 = nn.BatchNorm2d(64)\n",
        "        self.relu = nn.ReLU()\n",
        "        self.maxpool = nn.MaxPool2d(kernel_size=3, stride=2, padding=1)\n",
        "\n",
        "        #resnet layers\n",
        "        self.layer1 = self.__make_layer(64, 64, stride=1)\n",
        "        self.layer2 = self.__make_layer(64, 128, stride=2)\n",
        "        self.layer3 = self.__make_layer(128, 256, stride=2)\n",
        "        self.layer4 = self.__make_layer(256, 512, stride=2)\n",
        "\n",
        "        self.avgpool = nn.AdaptiveAvgPool2d((1,1))\n",
        "\n",
        "        self.fc = nn.Linear(512, num_classes)\n",
        "      \n",
        "    def __make_layer(self, in_channels, out_channels, stride):\n",
        "\n",
        "        identity_downsample = None\n",
        "        \n",
        "        if stride != 1:\n",
        "            identity_downsample = nn.Sequential(nn.Conv2d(in_channels, out_channels, kernel_size=1, stride=stride, padding=0,bias=False),\n",
        "                nn.BatchNorm2d(out_channels))\n",
        "        return nn.Sequential(MyBlock(in_channels, out_channels, identity_downsample=identity_downsample, stride=stride),\n",
        "            MyBlock(out_channels, out_channels),\n",
        "            nn.Dropout(0.3))\n",
        "    \n",
        "    def forward(self, x):\n",
        "\n",
        "        out = self.conv1(x)\n",
        "        out = self.bn1(out)\n",
        "        out = self.relu(out)\n",
        "        out = self.maxpool(out)\n",
        "\n",
        "        out = self.layer1(out)\n",
        "        out = self.layer2(out)\n",
        "        out = self.layer3(out)\n",
        "        out = self.layer4(out)\n",
        "\n",
        "        out = self.avgpool(out)\n",
        "        out = out.view(x.shape[0], -1)\n",
        "        out = self.fc(out)\n",
        "        return out\n"
      ],
      "metadata": {
        "id": "6bCvEnhxoICS"
      },
      "execution_count": 12,
      "outputs": []
    },
    {
      "cell_type": "code",
      "source": [
        "model = CNN_resnet(3,100).to(device)"
      ],
      "metadata": {
        "id": "k9TVLjRcoHaW"
      },
      "execution_count": 13,
      "outputs": []
    },
    {
      "cell_type": "code",
      "source": [
        "num_params = sum(p.numel() for p in model.parameters() if p.requires_grad)\n",
        "print(f'Number of model parameters: {num_params}')"
      ],
      "metadata": {
        "colab": {
          "base_uri": "https://localhost:8080/"
        },
        "id": "88LjgPiXCHTW",
        "outputId": "d1e746bd-606b-4bdd-aa39-ee8865a50d44"
      },
      "execution_count": 14,
      "outputs": [
        {
          "output_type": "stream",
          "name": "stdout",
          "text": [
            "Number of model parameters: 11227876\n"
          ]
        }
      ]
    },
    {
      "cell_type": "code",
      "source": [
        "from google.colab import drive\n",
        "drive.mount('/content/drive')"
      ],
      "metadata": {
        "colab": {
          "base_uri": "https://localhost:8080/"
        },
        "id": "2rdvOfJDzAGG",
        "outputId": "629d22e1-3797-451f-f1ac-50a5ba7336da"
      },
      "execution_count": 15,
      "outputs": [
        {
          "output_type": "stream",
          "name": "stdout",
          "text": [
            "Mounted at /content/drive\n"
          ]
        }
      ]
    },
    {
      "cell_type": "code",
      "source": [
        "model_save_name = 'model_resnet18.pt'\n",
        "path_modelo = F\"/content/drive/My Drive/modelo_proyecto/entrega_03/pre_trained/{model_save_name}\""
      ],
      "metadata": {
        "id": "5GrUOps4zBPK"
      },
      "execution_count": 20,
      "outputs": []
    },
    {
      "cell_type": "code",
      "source": [
        "# Iniciar o treinamento\n",
        "from tqdm import tqdm\n",
        "\n",
        "n_epochs = 40\n",
        "lr = 3.3e-4\n",
        "\n",
        "img_channels = 3\n",
        "num_classes = 100\n",
        "\n",
        "model = CNN_resnet(img_channels,num_classes).to(device)\n",
        "\n",
        "# train_dataloader = DataLoader(train_dataset, batch_size=batch_size, shuffle=True)\n",
        "# val_dataloader = DataLoader(val_dataset, batch_size=batch_size, shuffle=False)\n",
        "# test_dataloader = DataLoader(test_dataset, batch_size=batch_size, shuffle=False)\n",
        "\n",
        "optimizer = torch.optim.Adam(model.parameters(), lr=lr)\n",
        "\n",
        "checkpoint = {\n",
        "    'img_channels': img_channels,\n",
        "    'num_classes': num_classes,\n",
        "    'model_state_dict': model.state_dict(),\n",
        "    'optimizer_state_dict' : optimizer.state_dict(),\n",
        "    'epochs': [],\n",
        "    'loss_train': [],\n",
        "    'loss_val': [],\n",
        "    'accuracy_history': [],\n",
        "    }\n",
        "torch.save(checkpoint, path_modelo)\n",
        "\n",
        "def train_step(input_ids, target_ids):\n",
        "    model.train()\n",
        "    model.zero_grad()\n",
        "    logits = model(input_ids)\n",
        "    logits = logits.reshape(-1, logits.shape[-1])\n",
        "    target_ids = target_ids.reshape(-1)\n",
        "    loss = nn.functional.cross_entropy(logits, target_ids)\n",
        "    loss.backward()\n",
        "    optimizer.step()\n",
        "\n",
        "    return loss.item()\n",
        "\n",
        "def validation_step(input_ids, target_ids):\n",
        "    model.eval()\n",
        "    logits = model(input_ids)\n",
        "    logits = logits.reshape(-1, logits.shape[-1])\n",
        "    target_ids = target_ids.reshape(-1)\n",
        "    loss = nn.functional.cross_entropy(logits, target_ids)\n",
        "\n",
        "    _, y_pred = torch.max(logits,1)\n",
        "    accuracy_item = (y_pred.cpu().numpy() == target_ids.cpu().numpy()).mean()\n",
        "\n",
        "    return accuracy_item,loss.item()\n",
        "\n",
        "epochs = []\n",
        "loss_history = []\n",
        "loss_epoch_end = []\n",
        "accuracy_history = []\n",
        "total_trained_samples = 0\n",
        "\n",
        "with torch.no_grad():\n",
        "    loss_accuracy = [list(validation_step(val_input_ids.to(device), val_target_ids.to(device)))\n",
        "        for val_input_ids, val_target_ids in val_dataloader]\n",
        "    \n",
        "    mean_accuracy = np.array(loss_accuracy)[:,0].mean()\n",
        "    mean_loss = np.array(loss_accuracy)[:,1].mean()\n",
        "    print(f'Accuracy: {mean_accuracy} Loss_Val: {mean_loss}')\n",
        "    accuracy_history.append(mean_accuracy.item())\n",
        "\n",
        "    checkpoint['accuracy_history'].append(mean_accuracy.item())\n",
        "    checkpoint['loss_val'].append(mean_loss.item())\n",
        "    torch.save(checkpoint, path_modelo)\n",
        "    \n",
        "for i in range(n_epochs):\n",
        "    for x_train, y_train in tqdm(train_dataloader, total=len(train_dataloader), desc='Training'):\n",
        "        loss = train_step(x_train.to(device), y_train.to(device))\n",
        "        \n",
        "        total_trained_samples += x_train.size(0)\n",
        "        epochs.append(total_trained_samples / len(train_dataset))\n",
        "        loss_history.append(loss)\n",
        "    \n",
        "    loss_epoch_end.append(loss)\n",
        "    print(f'Epoch: {i:d}/{n_epochs - 1:d} Loss_Train: {loss}')\n",
        "    checkpoint['epochs'].append(i)\n",
        "    checkpoint['loss_train'].append(loss)\n",
        "    \n",
        "    with torch.no_grad():\n",
        "        loss_accuracy = [validation_step(val_input_ids.to(device), val_target_ids.to(device))\n",
        "            for val_input_ids, val_target_ids in val_dataloader]\n",
        "        \n",
        "        mean_accuracy = np.array(loss_accuracy)[:,0].mean()\n",
        "        mean_loss = np.array(loss_accuracy)[:,1].mean()\n",
        "        print(f'Accuracy: {mean_accuracy} Loss_Val: {mean_loss}')\n",
        "        accuracy_history.append(mean_accuracy.item())\n",
        "\n",
        "        checkpoint['accuracy_history'].append(mean_accuracy.item())\n",
        "        checkpoint['loss_val'].append(mean_loss.item())\n",
        "\n",
        "    torch.save(checkpoint, path_modelo)\n"
      ],
      "metadata": {
        "colab": {
          "base_uri": "https://localhost:8080/"
        },
        "id": "c8TRb8reCLOt",
        "outputId": "b82d50ea-b96a-4f67-f12d-ee806fa9b713"
      },
      "execution_count": 29,
      "outputs": [
        {
          "metadata": {
            "tags": null
          },
          "name": "stdout",
          "output_type": "stream",
          "text": [
            "Accuracy: 0.0032 Loss_Val: 4.605641009807587\n"
          ]
        },
        {
          "metadata": {
            "tags": null
          },
          "name": "stderr",
          "output_type": "stream",
          "text": [
            "Training: 100%|██████████| 800/800 [00:23<00:00, 34.44it/s]\n"
          ]
        },
        {
          "metadata": {
            "tags": null
          },
          "name": "stdout",
          "output_type": "stream",
          "text": [
            "Epoch: 0/39 Loss_Train: 3.846428632736206\n",
            "Accuracy: 0.14730000000000001 Loss_Val: 3.54482910990715\n"
          ]
        },
        {
          "metadata": {
            "tags": null
          },
          "name": "stderr",
          "output_type": "stream",
          "text": [
            "Training: 100%|██████████| 800/800 [00:23<00:00, 33.92it/s]\n"
          ]
        },
        {
          "metadata": {
            "tags": null
          },
          "name": "stdout",
          "output_type": "stream",
          "text": [
            "Epoch: 1/39 Loss_Train: 3.246673345565796\n",
            "Accuracy: 0.2086 Loss_Val: 3.18628985285759\n"
          ]
        },
        {
          "metadata": {
            "tags": null
          },
          "name": "stderr",
          "output_type": "stream",
          "text": [
            "Training: 100%|██████████| 800/800 [00:23<00:00, 34.45it/s]\n"
          ]
        },
        {
          "metadata": {
            "tags": null
          },
          "name": "stdout",
          "output_type": "stream",
          "text": [
            "Epoch: 2/39 Loss_Train: 3.2936792373657227\n",
            "Accuracy: 0.2675 Loss_Val: 2.88251137137413\n"
          ]
        },
        {
          "metadata": {
            "tags": null
          },
          "name": "stderr",
          "output_type": "stream",
          "text": [
            "Training: 100%|██████████| 800/800 [00:23<00:00, 34.63it/s]\n"
          ]
        },
        {
          "metadata": {
            "tags": null
          },
          "name": "stdout",
          "output_type": "stream",
          "text": [
            "Epoch: 3/39 Loss_Train: 3.0336556434631348\n",
            "Accuracy: 0.309 Loss_Val: 2.6866303157806395\n"
          ]
        },
        {
          "metadata": {
            "tags": null
          },
          "name": "stderr",
          "output_type": "stream",
          "text": [
            "Training: 100%|██████████| 800/800 [00:24<00:00, 32.93it/s]\n"
          ]
        },
        {
          "metadata": {
            "tags": null
          },
          "name": "stdout",
          "output_type": "stream",
          "text": [
            "Epoch: 4/39 Loss_Train: 2.2428290843963623\n",
            "Accuracy: 0.3395 Loss_Val: 2.5438458639383317\n"
          ]
        },
        {
          "metadata": {
            "tags": null
          },
          "name": "stderr",
          "output_type": "stream",
          "text": [
            "Training: 100%|██████████| 800/800 [00:23<00:00, 34.12it/s]\n"
          ]
        },
        {
          "metadata": {
            "tags": null
          },
          "name": "stdout",
          "output_type": "stream",
          "text": [
            "Epoch: 5/39 Loss_Train: 2.662595748901367\n",
            "Accuracy: 0.35109999999999997 Loss_Val: 2.5077577418088914\n"
          ]
        },
        {
          "metadata": {
            "tags": null
          },
          "name": "stderr",
          "output_type": "stream",
          "text": [
            "Training: 100%|██████████| 800/800 [00:23<00:00, 34.23it/s]\n"
          ]
        },
        {
          "metadata": {
            "tags": null
          },
          "name": "stdout",
          "output_type": "stream",
          "text": [
            "Epoch: 6/39 Loss_Train: 2.351717472076416\n",
            "Accuracy: 0.3749 Loss_Val: 2.38758623957634\n"
          ]
        },
        {
          "metadata": {
            "tags": null
          },
          "name": "stderr",
          "output_type": "stream",
          "text": [
            "Training: 100%|██████████| 800/800 [00:23<00:00, 33.82it/s]\n"
          ]
        },
        {
          "metadata": {
            "tags": null
          },
          "name": "stdout",
          "output_type": "stream",
          "text": [
            "Epoch: 7/39 Loss_Train: 2.4963905811309814\n",
            "Accuracy: 0.39879999999999993 Loss_Val: 2.2814665234088896\n"
          ]
        },
        {
          "metadata": {
            "tags": null
          },
          "name": "stderr",
          "output_type": "stream",
          "text": [
            "Training: 100%|██████████| 800/800 [00:23<00:00, 34.59it/s]\n"
          ]
        },
        {
          "metadata": {
            "tags": null
          },
          "name": "stdout",
          "output_type": "stream",
          "text": [
            "Epoch: 8/39 Loss_Train: 2.739902973175049\n",
            "Accuracy: 0.401 Loss_Val: 2.29738469183445\n"
          ]
        },
        {
          "metadata": {
            "tags": null
          },
          "name": "stderr",
          "output_type": "stream",
          "text": [
            "Training: 100%|██████████| 800/800 [00:23<00:00, 33.36it/s]\n"
          ]
        },
        {
          "metadata": {
            "tags": null
          },
          "name": "stdout",
          "output_type": "stream",
          "text": [
            "Epoch: 9/39 Loss_Train: 2.345350980758667\n",
            "Accuracy: 0.40819999999999995 Loss_Val: 2.2584400177001953\n"
          ]
        },
        {
          "metadata": {
            "tags": null
          },
          "name": "stderr",
          "output_type": "stream",
          "text": [
            "Training: 100%|██████████| 800/800 [00:23<00:00, 34.67it/s]\n"
          ]
        },
        {
          "metadata": {
            "tags": null
          },
          "name": "stdout",
          "output_type": "stream",
          "text": [
            "Epoch: 10/39 Loss_Train: 1.6906341314315796\n",
            "Accuracy: 0.4274 Loss_Val: 2.1640653306245805\n"
          ]
        },
        {
          "metadata": {
            "tags": null
          },
          "name": "stderr",
          "output_type": "stream",
          "text": [
            "Training: 100%|██████████| 800/800 [00:23<00:00, 34.77it/s]\n"
          ]
        },
        {
          "metadata": {
            "tags": null
          },
          "name": "stdout",
          "output_type": "stream",
          "text": [
            "Epoch: 11/39 Loss_Train: 2.1376595497131348\n",
            "Accuracy: 0.42440000000000005 Loss_Val: 2.2294707083702088\n"
          ]
        },
        {
          "metadata": {
            "tags": null
          },
          "name": "stderr",
          "output_type": "stream",
          "text": [
            "Training: 100%|██████████| 800/800 [00:23<00:00, 33.34it/s]\n"
          ]
        },
        {
          "metadata": {
            "tags": null
          },
          "name": "stdout",
          "output_type": "stream",
          "text": [
            "Epoch: 12/39 Loss_Train: 2.253255605697632\n",
            "Accuracy: 0.4361 Loss_Val: 2.1525906884670256\n"
          ]
        },
        {
          "metadata": {
            "tags": null
          },
          "name": "stderr",
          "output_type": "stream",
          "text": [
            "Training: 100%|██████████| 800/800 [00:23<00:00, 34.72it/s]\n"
          ]
        },
        {
          "metadata": {
            "tags": null
          },
          "name": "stdout",
          "output_type": "stream",
          "text": [
            "Epoch: 13/39 Loss_Train: 1.646735429763794\n",
            "Accuracy: 0.4414 Loss_Val: 2.1526274770498275\n"
          ]
        },
        {
          "metadata": {
            "tags": null
          },
          "name": "stderr",
          "output_type": "stream",
          "text": [
            "Training: 100%|██████████| 800/800 [00:24<00:00, 33.27it/s]\n"
          ]
        },
        {
          "metadata": {
            "tags": null
          },
          "name": "stdout",
          "output_type": "stream",
          "text": [
            "Epoch: 14/39 Loss_Train: 1.8661328554153442\n",
            "Accuracy: 0.4606 Loss_Val: 2.0698008638620378\n"
          ]
        },
        {
          "metadata": {
            "tags": null
          },
          "name": "stderr",
          "output_type": "stream",
          "text": [
            "Training: 100%|██████████| 800/800 [00:23<00:00, 34.65it/s]\n"
          ]
        },
        {
          "metadata": {
            "tags": null
          },
          "name": "stdout",
          "output_type": "stream",
          "text": [
            "Epoch: 15/39 Loss_Train: 1.8430442810058594\n",
            "Accuracy: 0.45880000000000004 Loss_Val: 2.0967905431985856\n"
          ]
        },
        {
          "metadata": {
            "tags": null
          },
          "name": "stderr",
          "output_type": "stream",
          "text": [
            "Training: 100%|██████████| 800/800 [00:23<00:00, 34.39it/s]\n"
          ]
        },
        {
          "metadata": {
            "tags": null
          },
          "name": "stdout",
          "output_type": "stream",
          "text": [
            "Epoch: 16/39 Loss_Train: 2.2465317249298096\n",
            "Accuracy: 0.4611 Loss_Val: 2.1088500595092774\n"
          ]
        },
        {
          "metadata": {
            "tags": null
          },
          "name": "stderr",
          "output_type": "stream",
          "text": [
            "Training: 100%|██████████| 800/800 [00:24<00:00, 33.32it/s]\n"
          ]
        },
        {
          "metadata": {
            "tags": null
          },
          "name": "stdout",
          "output_type": "stream",
          "text": [
            "Epoch: 17/39 Loss_Train: 1.776902675628662\n",
            "Accuracy: 0.46010000000000006 Loss_Val: 2.1313809925317764\n"
          ]
        },
        {
          "metadata": {
            "tags": null
          },
          "name": "stderr",
          "output_type": "stream",
          "text": [
            "Training: 100%|██████████| 800/800 [00:23<00:00, 34.52it/s]\n"
          ]
        },
        {
          "metadata": {
            "tags": null
          },
          "name": "stdout",
          "output_type": "stream",
          "text": [
            "Epoch: 18/39 Loss_Train: 1.4952446222305298\n",
            "Accuracy: 0.46760000000000007 Loss_Val: 2.111932091712952\n"
          ]
        },
        {
          "metadata": {
            "tags": null
          },
          "name": "stderr",
          "output_type": "stream",
          "text": [
            "Training: 100%|██████████| 800/800 [00:23<00:00, 34.27it/s]\n"
          ]
        },
        {
          "metadata": {
            "tags": null
          },
          "name": "stdout",
          "output_type": "stream",
          "text": [
            "Epoch: 19/39 Loss_Train: 1.6045188903808594\n",
            "Accuracy: 0.46070000000000005 Loss_Val: 2.125393649339676\n"
          ]
        },
        {
          "metadata": {
            "tags": null
          },
          "name": "stderr",
          "output_type": "stream",
          "text": [
            "Training: 100%|██████████| 800/800 [00:22<00:00, 34.97it/s]\n"
          ]
        },
        {
          "metadata": {
            "tags": null
          },
          "name": "stdout",
          "output_type": "stream",
          "text": [
            "Epoch: 20/39 Loss_Train: 1.5627778768539429\n",
            "Accuracy: 0.47650000000000003 Loss_Val: 2.1191472601890564\n"
          ]
        },
        {
          "metadata": {
            "tags": null
          },
          "name": "stderr",
          "output_type": "stream",
          "text": [
            "Training: 100%|██████████| 800/800 [00:22<00:00, 35.07it/s]\n"
          ]
        },
        {
          "metadata": {
            "tags": null
          },
          "name": "stdout",
          "output_type": "stream",
          "text": [
            "Epoch: 21/39 Loss_Train: 1.39027738571167\n",
            "Accuracy: 0.46659999999999996 Loss_Val: 2.1977007246017455\n"
          ]
        },
        {
          "metadata": {
            "tags": null
          },
          "name": "stderr",
          "output_type": "stream",
          "text": [
            "Training: 100%|██████████| 800/800 [00:23<00:00, 33.65it/s]\n"
          ]
        },
        {
          "metadata": {
            "tags": null
          },
          "name": "stdout",
          "output_type": "stream",
          "text": [
            "Epoch: 22/39 Loss_Train: 0.9453354477882385\n",
            "Accuracy: 0.47519999999999996 Loss_Val: 2.1638271123170854\n"
          ]
        },
        {
          "metadata": {
            "tags": null
          },
          "name": "stderr",
          "output_type": "stream",
          "text": [
            "Training: 100%|██████████| 800/800 [00:22<00:00, 34.94it/s]\n"
          ]
        },
        {
          "metadata": {
            "tags": null
          },
          "name": "stdout",
          "output_type": "stream",
          "text": [
            "Epoch: 23/39 Loss_Train: 1.0498312711715698\n",
            "Accuracy: 0.46480000000000005 Loss_Val: 2.24525859773159\n"
          ]
        },
        {
          "metadata": {
            "tags": null
          },
          "name": "stderr",
          "output_type": "stream",
          "text": [
            "Training: 100%|██████████| 800/800 [00:23<00:00, 34.76it/s]\n"
          ]
        },
        {
          "metadata": {
            "tags": null
          },
          "name": "stdout",
          "output_type": "stream",
          "text": [
            "Epoch: 24/39 Loss_Train: 1.1456248760223389\n",
            "Accuracy: 0.4729 Loss_Val: 2.230001962184906\n"
          ]
        },
        {
          "metadata": {
            "tags": null
          },
          "name": "stderr",
          "output_type": "stream",
          "text": [
            "Training: 100%|██████████| 800/800 [00:23<00:00, 33.56it/s]\n"
          ]
        },
        {
          "metadata": {
            "tags": null
          },
          "name": "stdout",
          "output_type": "stream",
          "text": [
            "Epoch: 25/39 Loss_Train: 1.0636930465698242\n",
            "Accuracy: 0.4733 Loss_Val: 2.2778909999132155\n"
          ]
        },
        {
          "metadata": {
            "tags": null
          },
          "name": "stderr",
          "output_type": "stream",
          "text": [
            "Training: 100%|██████████| 800/800 [00:23<00:00, 34.74it/s]\n"
          ]
        },
        {
          "metadata": {
            "tags": null
          },
          "name": "stdout",
          "output_type": "stream",
          "text": [
            "Epoch: 26/39 Loss_Train: 0.7226581573486328\n",
            "Accuracy: 0.4767 Loss_Val: 2.282749440073967\n"
          ]
        },
        {
          "metadata": {
            "tags": null
          },
          "name": "stderr",
          "output_type": "stream",
          "text": [
            "Training: 100%|██████████| 800/800 [00:23<00:00, 33.35it/s]\n"
          ]
        },
        {
          "metadata": {
            "tags": null
          },
          "name": "stdout",
          "output_type": "stream",
          "text": [
            "Epoch: 27/39 Loss_Train: 1.273189902305603\n",
            "Accuracy: 0.4725 Loss_Val: 2.319835777282715\n"
          ]
        },
        {
          "metadata": {
            "tags": null
          },
          "name": "stderr",
          "output_type": "stream",
          "text": [
            "Training: 100%|██████████| 800/800 [00:23<00:00, 34.43it/s]\n"
          ]
        },
        {
          "metadata": {
            "tags": null
          },
          "name": "stdout",
          "output_type": "stream",
          "text": [
            "Epoch: 28/39 Loss_Train: 1.0273281335830688\n",
            "Accuracy: 0.4746 Loss_Val: 2.3918561679124832\n"
          ]
        },
        {
          "metadata": {
            "tags": null
          },
          "name": "stderr",
          "output_type": "stream",
          "text": [
            "Training: 100%|██████████| 800/800 [00:22<00:00, 34.88it/s]\n"
          ]
        },
        {
          "metadata": {
            "tags": null
          },
          "name": "stdout",
          "output_type": "stream",
          "text": [
            "Epoch: 29/39 Loss_Train: 1.184748888015747\n",
            "Accuracy: 0.4771 Loss_Val: 2.379056382775307\n"
          ]
        },
        {
          "metadata": {
            "tags": null
          },
          "name": "stderr",
          "output_type": "stream",
          "text": [
            "Training: 100%|██████████| 800/800 [00:23<00:00, 33.41it/s]\n"
          ]
        },
        {
          "metadata": {
            "tags": null
          },
          "name": "stdout",
          "output_type": "stream",
          "text": [
            "Epoch: 30/39 Loss_Train: 1.0882545709609985\n",
            "Accuracy: 0.48200000000000004 Loss_Val: 2.3992215466499327\n"
          ]
        },
        {
          "metadata": {
            "tags": null
          },
          "name": "stderr",
          "output_type": "stream",
          "text": [
            "Training: 100%|██████████| 800/800 [00:22<00:00, 34.84it/s]\n"
          ]
        },
        {
          "metadata": {
            "tags": null
          },
          "name": "stdout",
          "output_type": "stream",
          "text": [
            "Epoch: 31/39 Loss_Train: 0.8334247469902039\n",
            "Accuracy: 0.4725 Loss_Val: 2.4654625725746153\n"
          ]
        },
        {
          "output_type": "stream",
          "name": "stderr",
          "text": [
            "Training: 100%|██████████| 800/800 [00:23<00:00, 34.70it/s]\n"
          ]
        },
        {
          "output_type": "stream",
          "name": "stdout",
          "text": [
            "Epoch: 32/39 Loss_Train: 1.3415277004241943\n",
            "Accuracy: 0.48400000000000004 Loss_Val: 2.444665643572807\n"
          ]
        },
        {
          "output_type": "stream",
          "name": "stderr",
          "text": [
            "Training: 100%|██████████| 800/800 [00:23<00:00, 33.79it/s]\n"
          ]
        },
        {
          "output_type": "stream",
          "name": "stdout",
          "text": [
            "Epoch: 33/39 Loss_Train: 0.6989481449127197\n",
            "Accuracy: 0.4793 Loss_Val: 2.509458019733429\n"
          ]
        },
        {
          "output_type": "stream",
          "name": "stderr",
          "text": [
            "Training: 100%|██████████| 800/800 [00:22<00:00, 34.81it/s]\n"
          ]
        },
        {
          "output_type": "stream",
          "name": "stdout",
          "text": [
            "Epoch: 34/39 Loss_Train: 0.7608871459960938\n",
            "Accuracy: 0.4769 Loss_Val: 2.520582991838455\n"
          ]
        },
        {
          "output_type": "stream",
          "name": "stderr",
          "text": [
            "Training: 100%|██████████| 800/800 [00:23<00:00, 33.65it/s]\n"
          ]
        },
        {
          "output_type": "stream",
          "name": "stdout",
          "text": [
            "Epoch: 35/39 Loss_Train: 0.690138578414917\n",
            "Accuracy: 0.48239999999999994 Loss_Val: 2.5389072668552397\n"
          ]
        },
        {
          "output_type": "stream",
          "name": "stderr",
          "text": [
            "Training: 100%|██████████| 800/800 [00:23<00:00, 34.72it/s]\n"
          ]
        },
        {
          "output_type": "stream",
          "name": "stdout",
          "text": [
            "Epoch: 36/39 Loss_Train: 0.9301199316978455\n",
            "Accuracy: 0.4752 Loss_Val: 2.612844616174698\n"
          ]
        },
        {
          "output_type": "stream",
          "name": "stderr",
          "text": [
            "Training: 100%|██████████| 800/800 [00:23<00:00, 34.72it/s]\n"
          ]
        },
        {
          "output_type": "stream",
          "name": "stdout",
          "text": [
            "Epoch: 37/39 Loss_Train: 0.8996214866638184\n",
            "Accuracy: 0.47980000000000006 Loss_Val: 2.6197848284244536\n"
          ]
        },
        {
          "output_type": "stream",
          "name": "stderr",
          "text": [
            "Training: 100%|██████████| 800/800 [00:23<00:00, 33.71it/s]\n"
          ]
        },
        {
          "output_type": "stream",
          "name": "stdout",
          "text": [
            "Epoch: 38/39 Loss_Train: 0.6225139498710632\n",
            "Accuracy: 0.4796 Loss_Val: 2.6765871912240984\n"
          ]
        },
        {
          "output_type": "stream",
          "name": "stderr",
          "text": [
            "Training: 100%|██████████| 800/800 [00:23<00:00, 34.65it/s]\n"
          ]
        },
        {
          "output_type": "stream",
          "name": "stdout",
          "text": [
            "Epoch: 39/39 Loss_Train: 0.7349283695220947\n",
            "Accuracy: 0.4742 Loss_Val: 2.729253958463669\n"
          ]
        }
      ]
    },
    {
      "cell_type": "code",
      "source": [
        "# continuar com o  treino\n",
        "from tqdm import tqdm\n",
        "\n",
        "n_epochs = 40\n",
        "lr = 3e-4\n",
        "\n",
        "checkpoint = torch.load(path_modelo)\n",
        "\n",
        "model = CNN_resnet(checkpoint['img_channels'],checkpoint['num_classes']).to(device)\n",
        "optimizer = torch.optim.Adam(model.parameters(), lr=lr)\n",
        "\n",
        "model.load_state_dict(checkpoint['model_state_dict'])\n",
        "optimizer.load_state_dict(checkpoint['optimizer_state_dict'])\n",
        "\n",
        "def train_step(input_ids, target_ids):\n",
        "    model.train()\n",
        "    model.zero_grad()\n",
        "    logits = model(input_ids)\n",
        "    logits = logits.reshape(-1, logits.shape[-1])\n",
        "    target_ids = target_ids.reshape(-1)\n",
        "    loss = nn.functional.cross_entropy(logits, target_ids)\n",
        "    loss.backward()\n",
        "    optimizer.step()\n",
        "\n",
        "    return loss.item()\n",
        "\n",
        "def validation_step(input_ids, target_ids):\n",
        "    model.eval()\n",
        "    logits = model(input_ids)\n",
        "    logits = logits.reshape(-1, logits.shape[-1])\n",
        "    target_ids = target_ids.reshape(-1)\n",
        "    loss = nn.functional.cross_entropy(logits, target_ids)\n",
        "\n",
        "    _, y_pred = torch.max(logits,1)\n",
        "    accuracy_item = (y_pred.cpu().numpy() == target_ids.cpu().numpy()).mean()\n",
        "\n",
        "    return accuracy_item,loss.item()\n",
        "\n",
        "epochs = []\n",
        "loss_history = []\n",
        "loss_epoch_end = checkpoint['loss_train']\n",
        "accuracy_history = checkpoint['accuracy_history']\n",
        "total_trained_samples = 0\n",
        "epochs_init = checkpoint['epochs'][-1]+1\n",
        "\n",
        "for s in zip(checkpoint['accuracy_history'],checkpoint['loss_val'],checkpoint['epochs'],checkpoint['loss_train']):\n",
        "    print(f'Accuracy: {s[0]} Loss_Val: {s[1]}')\n",
        "    print(f'')\n",
        "    print(f'Epoch: {s[2]:d}/{n_epochs - 1:d} Loss_Train: {s[3]}')\n",
        "print(f\"Accuracy: { checkpoint['accuracy_history'][-1] } Loss_Val: {checkpoint['loss_val'][-1]}\")\n",
        "\n",
        "    \n",
        "for i in range(epochs_init,n_epochs):\n",
        "    for x_train, y_train in tqdm(train_dataloader, total=len(train_dataloader), desc='Training'):\n",
        "        loss = train_step(x_train.to(device), y_train.to(device))\n",
        "        \n",
        "        total_trained_samples += x_train.size(0)\n",
        "        epochs.append(total_trained_samples / len(train_dataset))\n",
        "        loss_history.append(loss)\n",
        "    \n",
        "    loss_epoch_end.append(loss)\n",
        "    print(f'Epoch: {i:d}/{n_epochs - 1:d} Loss_Train: {loss}')\n",
        "    checkpoint['epochs'].append(i)\n",
        "    checkpoint['loss_train'].append(loss)\n",
        "    \n",
        "    with torch.no_grad():\n",
        "        loss_accuracy = [validation_step(val_input_ids.to(device), val_target_ids.to(device))\n",
        "            for val_input_ids, val_target_ids in val_dataloader]\n",
        "        \n",
        "        mean_accuracy = np.array(loss_accuracy)[:,0].mean()\n",
        "        mean_loss = np.array(loss_accuracy)[:,1].mean()\n",
        "        print(f'Accuracy: {mean_accuracy} Loss_Val: {mean_loss}')\n",
        "        accuracy_history.append(mean_accuracy.item())\n",
        "\n",
        "        checkpoint['accuracy_history'].append(mean_accuracy.item())\n",
        "        checkpoint['loss_val'].append(mean_loss.item())\n",
        "\n",
        "    torch.save(checkpoint, path_modelo)\n"
      ],
      "metadata": {
        "colab": {
          "base_uri": "https://localhost:8080/"
        },
        "outputId": "2758c7d0-713a-412c-9601-c3d6b54b1172",
        "id": "dkB_dsdo6jef"
      },
      "execution_count": 31,
      "outputs": [
        {
          "output_type": "stream",
          "name": "stdout",
          "text": [
            "Accuracy: 0.0032 Loss_Val: 4.605641009807587\n",
            "\n",
            "Epoch: 0/39 Loss_Train: 3.846428632736206\n",
            "Accuracy: 0.14730000000000001 Loss_Val: 3.54482910990715\n",
            "\n",
            "Epoch: 1/39 Loss_Train: 3.246673345565796\n",
            "Accuracy: 0.2086 Loss_Val: 3.18628985285759\n",
            "\n",
            "Epoch: 2/39 Loss_Train: 3.2936792373657227\n",
            "Accuracy: 0.2675 Loss_Val: 2.88251137137413\n",
            "\n",
            "Epoch: 3/39 Loss_Train: 3.0336556434631348\n",
            "Accuracy: 0.309 Loss_Val: 2.6866303157806395\n",
            "\n",
            "Epoch: 4/39 Loss_Train: 2.2428290843963623\n",
            "Accuracy: 0.3395 Loss_Val: 2.5438458639383317\n",
            "\n",
            "Epoch: 5/39 Loss_Train: 2.662595748901367\n",
            "Accuracy: 0.35109999999999997 Loss_Val: 2.5077577418088914\n",
            "\n",
            "Epoch: 6/39 Loss_Train: 2.351717472076416\n",
            "Accuracy: 0.3749 Loss_Val: 2.38758623957634\n",
            "\n",
            "Epoch: 7/39 Loss_Train: 2.4963905811309814\n",
            "Accuracy: 0.39879999999999993 Loss_Val: 2.2814665234088896\n",
            "\n",
            "Epoch: 8/39 Loss_Train: 2.739902973175049\n",
            "Accuracy: 0.401 Loss_Val: 2.29738469183445\n",
            "\n",
            "Epoch: 9/39 Loss_Train: 2.345350980758667\n",
            "Accuracy: 0.40819999999999995 Loss_Val: 2.2584400177001953\n",
            "\n",
            "Epoch: 10/39 Loss_Train: 1.6906341314315796\n",
            "Accuracy: 0.4274 Loss_Val: 2.1640653306245805\n",
            "\n",
            "Epoch: 11/39 Loss_Train: 2.1376595497131348\n",
            "Accuracy: 0.42440000000000005 Loss_Val: 2.2294707083702088\n",
            "\n",
            "Epoch: 12/39 Loss_Train: 2.253255605697632\n",
            "Accuracy: 0.4361 Loss_Val: 2.1525906884670256\n",
            "\n",
            "Epoch: 13/39 Loss_Train: 1.646735429763794\n",
            "Accuracy: 0.4414 Loss_Val: 2.1526274770498275\n",
            "\n",
            "Epoch: 14/39 Loss_Train: 1.8661328554153442\n",
            "Accuracy: 0.4606 Loss_Val: 2.0698008638620378\n",
            "\n",
            "Epoch: 15/39 Loss_Train: 1.8430442810058594\n",
            "Accuracy: 0.45880000000000004 Loss_Val: 2.0967905431985856\n",
            "\n",
            "Epoch: 16/39 Loss_Train: 2.2465317249298096\n",
            "Accuracy: 0.4611 Loss_Val: 2.1088500595092774\n",
            "\n",
            "Epoch: 17/39 Loss_Train: 1.776902675628662\n",
            "Accuracy: 0.46010000000000006 Loss_Val: 2.1313809925317764\n",
            "\n",
            "Epoch: 18/39 Loss_Train: 1.4952446222305298\n",
            "Accuracy: 0.46760000000000007 Loss_Val: 2.111932091712952\n",
            "\n",
            "Epoch: 19/39 Loss_Train: 1.6045188903808594\n",
            "Accuracy: 0.46070000000000005 Loss_Val: 2.125393649339676\n",
            "\n",
            "Epoch: 20/39 Loss_Train: 1.5627778768539429\n",
            "Accuracy: 0.47650000000000003 Loss_Val: 2.1191472601890564\n",
            "\n",
            "Epoch: 21/39 Loss_Train: 1.39027738571167\n",
            "Accuracy: 0.46659999999999996 Loss_Val: 2.1977007246017455\n",
            "\n",
            "Epoch: 22/39 Loss_Train: 0.9453354477882385\n",
            "Accuracy: 0.47519999999999996 Loss_Val: 2.1638271123170854\n",
            "\n",
            "Epoch: 23/39 Loss_Train: 1.0498312711715698\n",
            "Accuracy: 0.46480000000000005 Loss_Val: 2.24525859773159\n",
            "\n",
            "Epoch: 24/39 Loss_Train: 1.1456248760223389\n",
            "Accuracy: 0.4729 Loss_Val: 2.230001962184906\n",
            "\n",
            "Epoch: 25/39 Loss_Train: 1.0636930465698242\n",
            "Accuracy: 0.4733 Loss_Val: 2.2778909999132155\n",
            "\n",
            "Epoch: 26/39 Loss_Train: 0.7226581573486328\n",
            "Accuracy: 0.4767 Loss_Val: 2.282749440073967\n",
            "\n",
            "Epoch: 27/39 Loss_Train: 1.273189902305603\n",
            "Accuracy: 0.4725 Loss_Val: 2.319835777282715\n",
            "\n",
            "Epoch: 28/39 Loss_Train: 1.0273281335830688\n",
            "Accuracy: 0.4746 Loss_Val: 2.3918561679124832\n",
            "\n",
            "Epoch: 29/39 Loss_Train: 1.184748888015747\n",
            "Accuracy: 0.4771 Loss_Val: 2.379056382775307\n",
            "\n",
            "Epoch: 30/39 Loss_Train: 1.0882545709609985\n",
            "Accuracy: 0.48200000000000004 Loss_Val: 2.3992215466499327\n",
            "\n",
            "Epoch: 31/39 Loss_Train: 0.8334247469902039\n",
            "Accuracy: 0.4725 Loss_Val: 2.4654625725746153\n",
            "\n",
            "Epoch: 32/39 Loss_Train: 1.3415277004241943\n",
            "Accuracy: 0.48400000000000004 Loss_Val: 2.444665643572807\n",
            "\n",
            "Epoch: 33/39 Loss_Train: 0.6989481449127197\n",
            "Accuracy: 0.4793 Loss_Val: 2.509458019733429\n",
            "\n",
            "Epoch: 34/39 Loss_Train: 0.7608871459960938\n",
            "Accuracy: 0.4769 Loss_Val: 2.520582991838455\n",
            "\n",
            "Epoch: 35/39 Loss_Train: 0.690138578414917\n",
            "Accuracy: 0.48239999999999994 Loss_Val: 2.5389072668552397\n",
            "\n",
            "Epoch: 36/39 Loss_Train: 0.9301199316978455\n",
            "Accuracy: 0.4752 Loss_Val: 2.612844616174698\n",
            "\n",
            "Epoch: 37/39 Loss_Train: 0.8996214866638184\n",
            "Accuracy: 0.47980000000000006 Loss_Val: 2.6197848284244536\n",
            "\n",
            "Epoch: 38/39 Loss_Train: 0.6225139498710632\n",
            "Accuracy: 0.4796 Loss_Val: 2.6765871912240984\n",
            "\n",
            "Epoch: 39/39 Loss_Train: 0.7349283695220947\n",
            "Accuracy: 0.4742 Loss_Val: 2.729253958463669\n"
          ]
        }
      ]
    },
    {
      "cell_type": "code",
      "source": [
        "test_loader = DataLoader(test_dataset, batch_size=batch_size)\n",
        "\n",
        "with torch.no_grad():\n",
        "    loss_accuracy = [validation_step(val_input_ids.to(device), val_target_ids.to(device))\n",
        "        for val_input_ids, val_target_ids in val_dataloader]\n",
        "        \n",
        "    mean_accuracy = np.array(loss_accuracy)[:,0].mean()\n",
        "    mean_loss = np.array(loss_accuracy)[:,1].mean()\n",
        "\n",
        "print(f'TEST: Accuracy: {mean_accuracy} Loss_Val: {mean_loss}')"
      ],
      "metadata": {
        "id": "WGqEsYrN75vq",
        "colab": {
          "base_uri": "https://localhost:8080/"
        },
        "outputId": "69315b17-ec57-4742-d177-7806f1e11de9"
      },
      "execution_count": 30,
      "outputs": [
        {
          "output_type": "stream",
          "name": "stdout",
          "text": [
            "TEST: Accuracy: 0.4742 Loss_Val: 2.729253958463669\n"
          ]
        }
      ]
    }
  ]
}