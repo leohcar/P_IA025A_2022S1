{
  "nbformat": 4,
  "nbformat_minor": 0,
  "metadata": {
    "colab": {
      "name": "Proyecto_encoder_resnet50",
      "provenance": [],
      "collapsed_sections": [],
      "include_colab_link": true
    },
    "kernelspec": {
      "name": "python3",
      "display_name": "Python 3"
    },
    "language_info": {
      "name": "python"
    },
    "accelerator": "GPU",
    "gpuClass": "standard",
    "widgets": {
      "application/vnd.jupyter.widget-state+json": {
        "941375425ed742e1a72cd3170a8909c5": {
          "model_module": "@jupyter-widgets/controls",
          "model_name": "HBoxModel",
          "model_module_version": "1.5.0",
          "state": {
            "_dom_classes": [],
            "_model_module": "@jupyter-widgets/controls",
            "_model_module_version": "1.5.0",
            "_model_name": "HBoxModel",
            "_view_count": null,
            "_view_module": "@jupyter-widgets/controls",
            "_view_module_version": "1.5.0",
            "_view_name": "HBoxView",
            "box_style": "",
            "children": [
              "IPY_MODEL_e371a86d4fff45daa36e6f446bc88d42",
              "IPY_MODEL_3b918ca79e394b30ba109805b689a77e",
              "IPY_MODEL_2fb759a7788d4f598f6d5d3305122678"
            ],
            "layout": "IPY_MODEL_bd6f2b2bd3fb4e0d89eb775d1d7462b0"
          }
        },
        "e371a86d4fff45daa36e6f446bc88d42": {
          "model_module": "@jupyter-widgets/controls",
          "model_name": "HTMLModel",
          "model_module_version": "1.5.0",
          "state": {
            "_dom_classes": [],
            "_model_module": "@jupyter-widgets/controls",
            "_model_module_version": "1.5.0",
            "_model_name": "HTMLModel",
            "_view_count": null,
            "_view_module": "@jupyter-widgets/controls",
            "_view_module_version": "1.5.0",
            "_view_name": "HTMLView",
            "description": "",
            "description_tooltip": null,
            "layout": "IPY_MODEL_d3d0ecbd49b14a61a803fb5484cbe53e",
            "placeholder": "​",
            "style": "IPY_MODEL_9488a339fad247a9b83858759579262d",
            "value": "100%"
          }
        },
        "3b918ca79e394b30ba109805b689a77e": {
          "model_module": "@jupyter-widgets/controls",
          "model_name": "FloatProgressModel",
          "model_module_version": "1.5.0",
          "state": {
            "_dom_classes": [],
            "_model_module": "@jupyter-widgets/controls",
            "_model_module_version": "1.5.0",
            "_model_name": "FloatProgressModel",
            "_view_count": null,
            "_view_module": "@jupyter-widgets/controls",
            "_view_module_version": "1.5.0",
            "_view_name": "ProgressView",
            "bar_style": "success",
            "description": "",
            "description_tooltip": null,
            "layout": "IPY_MODEL_a60e80e74eca4c22938a2c67339bab84",
            "max": 169001437,
            "min": 0,
            "orientation": "horizontal",
            "style": "IPY_MODEL_55f76f847a8044318d9e90bb61a54ac7",
            "value": 169001437
          }
        },
        "2fb759a7788d4f598f6d5d3305122678": {
          "model_module": "@jupyter-widgets/controls",
          "model_name": "HTMLModel",
          "model_module_version": "1.5.0",
          "state": {
            "_dom_classes": [],
            "_model_module": "@jupyter-widgets/controls",
            "_model_module_version": "1.5.0",
            "_model_name": "HTMLModel",
            "_view_count": null,
            "_view_module": "@jupyter-widgets/controls",
            "_view_module_version": "1.5.0",
            "_view_name": "HTMLView",
            "description": "",
            "description_tooltip": null,
            "layout": "IPY_MODEL_f8be96a102e84cc6a983a2f0e20e9b42",
            "placeholder": "​",
            "style": "IPY_MODEL_3f10b9024ce04112b95f45110d995743",
            "value": " 169001437/169001437 [00:03&lt;00:00, 53699905.28it/s]"
          }
        },
        "bd6f2b2bd3fb4e0d89eb775d1d7462b0": {
          "model_module": "@jupyter-widgets/base",
          "model_name": "LayoutModel",
          "model_module_version": "1.2.0",
          "state": {
            "_model_module": "@jupyter-widgets/base",
            "_model_module_version": "1.2.0",
            "_model_name": "LayoutModel",
            "_view_count": null,
            "_view_module": "@jupyter-widgets/base",
            "_view_module_version": "1.2.0",
            "_view_name": "LayoutView",
            "align_content": null,
            "align_items": null,
            "align_self": null,
            "border": null,
            "bottom": null,
            "display": null,
            "flex": null,
            "flex_flow": null,
            "grid_area": null,
            "grid_auto_columns": null,
            "grid_auto_flow": null,
            "grid_auto_rows": null,
            "grid_column": null,
            "grid_gap": null,
            "grid_row": null,
            "grid_template_areas": null,
            "grid_template_columns": null,
            "grid_template_rows": null,
            "height": null,
            "justify_content": null,
            "justify_items": null,
            "left": null,
            "margin": null,
            "max_height": null,
            "max_width": null,
            "min_height": null,
            "min_width": null,
            "object_fit": null,
            "object_position": null,
            "order": null,
            "overflow": null,
            "overflow_x": null,
            "overflow_y": null,
            "padding": null,
            "right": null,
            "top": null,
            "visibility": null,
            "width": null
          }
        },
        "d3d0ecbd49b14a61a803fb5484cbe53e": {
          "model_module": "@jupyter-widgets/base",
          "model_name": "LayoutModel",
          "model_module_version": "1.2.0",
          "state": {
            "_model_module": "@jupyter-widgets/base",
            "_model_module_version": "1.2.0",
            "_model_name": "LayoutModel",
            "_view_count": null,
            "_view_module": "@jupyter-widgets/base",
            "_view_module_version": "1.2.0",
            "_view_name": "LayoutView",
            "align_content": null,
            "align_items": null,
            "align_self": null,
            "border": null,
            "bottom": null,
            "display": null,
            "flex": null,
            "flex_flow": null,
            "grid_area": null,
            "grid_auto_columns": null,
            "grid_auto_flow": null,
            "grid_auto_rows": null,
            "grid_column": null,
            "grid_gap": null,
            "grid_row": null,
            "grid_template_areas": null,
            "grid_template_columns": null,
            "grid_template_rows": null,
            "height": null,
            "justify_content": null,
            "justify_items": null,
            "left": null,
            "margin": null,
            "max_height": null,
            "max_width": null,
            "min_height": null,
            "min_width": null,
            "object_fit": null,
            "object_position": null,
            "order": null,
            "overflow": null,
            "overflow_x": null,
            "overflow_y": null,
            "padding": null,
            "right": null,
            "top": null,
            "visibility": null,
            "width": null
          }
        },
        "9488a339fad247a9b83858759579262d": {
          "model_module": "@jupyter-widgets/controls",
          "model_name": "DescriptionStyleModel",
          "model_module_version": "1.5.0",
          "state": {
            "_model_module": "@jupyter-widgets/controls",
            "_model_module_version": "1.5.0",
            "_model_name": "DescriptionStyleModel",
            "_view_count": null,
            "_view_module": "@jupyter-widgets/base",
            "_view_module_version": "1.2.0",
            "_view_name": "StyleView",
            "description_width": ""
          }
        },
        "a60e80e74eca4c22938a2c67339bab84": {
          "model_module": "@jupyter-widgets/base",
          "model_name": "LayoutModel",
          "model_module_version": "1.2.0",
          "state": {
            "_model_module": "@jupyter-widgets/base",
            "_model_module_version": "1.2.0",
            "_model_name": "LayoutModel",
            "_view_count": null,
            "_view_module": "@jupyter-widgets/base",
            "_view_module_version": "1.2.0",
            "_view_name": "LayoutView",
            "align_content": null,
            "align_items": null,
            "align_self": null,
            "border": null,
            "bottom": null,
            "display": null,
            "flex": null,
            "flex_flow": null,
            "grid_area": null,
            "grid_auto_columns": null,
            "grid_auto_flow": null,
            "grid_auto_rows": null,
            "grid_column": null,
            "grid_gap": null,
            "grid_row": null,
            "grid_template_areas": null,
            "grid_template_columns": null,
            "grid_template_rows": null,
            "height": null,
            "justify_content": null,
            "justify_items": null,
            "left": null,
            "margin": null,
            "max_height": null,
            "max_width": null,
            "min_height": null,
            "min_width": null,
            "object_fit": null,
            "object_position": null,
            "order": null,
            "overflow": null,
            "overflow_x": null,
            "overflow_y": null,
            "padding": null,
            "right": null,
            "top": null,
            "visibility": null,
            "width": null
          }
        },
        "55f76f847a8044318d9e90bb61a54ac7": {
          "model_module": "@jupyter-widgets/controls",
          "model_name": "ProgressStyleModel",
          "model_module_version": "1.5.0",
          "state": {
            "_model_module": "@jupyter-widgets/controls",
            "_model_module_version": "1.5.0",
            "_model_name": "ProgressStyleModel",
            "_view_count": null,
            "_view_module": "@jupyter-widgets/base",
            "_view_module_version": "1.2.0",
            "_view_name": "StyleView",
            "bar_color": null,
            "description_width": ""
          }
        },
        "f8be96a102e84cc6a983a2f0e20e9b42": {
          "model_module": "@jupyter-widgets/base",
          "model_name": "LayoutModel",
          "model_module_version": "1.2.0",
          "state": {
            "_model_module": "@jupyter-widgets/base",
            "_model_module_version": "1.2.0",
            "_model_name": "LayoutModel",
            "_view_count": null,
            "_view_module": "@jupyter-widgets/base",
            "_view_module_version": "1.2.0",
            "_view_name": "LayoutView",
            "align_content": null,
            "align_items": null,
            "align_self": null,
            "border": null,
            "bottom": null,
            "display": null,
            "flex": null,
            "flex_flow": null,
            "grid_area": null,
            "grid_auto_columns": null,
            "grid_auto_flow": null,
            "grid_auto_rows": null,
            "grid_column": null,
            "grid_gap": null,
            "grid_row": null,
            "grid_template_areas": null,
            "grid_template_columns": null,
            "grid_template_rows": null,
            "height": null,
            "justify_content": null,
            "justify_items": null,
            "left": null,
            "margin": null,
            "max_height": null,
            "max_width": null,
            "min_height": null,
            "min_width": null,
            "object_fit": null,
            "object_position": null,
            "order": null,
            "overflow": null,
            "overflow_x": null,
            "overflow_y": null,
            "padding": null,
            "right": null,
            "top": null,
            "visibility": null,
            "width": null
          }
        },
        "3f10b9024ce04112b95f45110d995743": {
          "model_module": "@jupyter-widgets/controls",
          "model_name": "DescriptionStyleModel",
          "model_module_version": "1.5.0",
          "state": {
            "_model_module": "@jupyter-widgets/controls",
            "_model_module_version": "1.5.0",
            "_model_name": "DescriptionStyleModel",
            "_view_count": null,
            "_view_module": "@jupyter-widgets/base",
            "_view_module_version": "1.2.0",
            "_view_name": "StyleView",
            "description_width": ""
          }
        }
      }
    }
  },
  "cells": [
    {
      "cell_type": "markdown",
      "metadata": {
        "id": "view-in-github",
        "colab_type": "text"
      },
      "source": [
        "<a href=\"https://colab.research.google.com/github/leohcar/P_IA025A_2022S1/blob/main/entrega_final/Proyecto_encoder_resnet50_smalldataset.ipynb\" target=\"_parent\"><img src=\"https://colab.research.google.com/assets/colab-badge.svg\" alt=\"Open In Colab\"/></a>"
      ]
    },
    {
      "cell_type": "markdown",
      "source": [
        "# Encoder"
      ],
      "metadata": {
        "id": "k3m40JYHf-UB"
      }
    },
    {
      "cell_type": "code",
      "execution_count": 1,
      "metadata": {
        "id": "WFKQOen_f3J8",
        "colab": {
          "base_uri": "https://localhost:8080/"
        },
        "outputId": "45fe1d1d-f54b-465d-f31f-87f8b8cb15f7"
      },
      "outputs": [
        {
          "output_type": "stream",
          "name": "stdout",
          "text": [
            "Meu nome é Carlos Leonardo Ancasi Hinostroza\n"
          ]
        }
      ],
      "source": [
        "nome = 'Carlos Leonardo Ancasi Hinostroza'\n",
        "\n",
        "print(f'Meu nome é {nome}')"
      ]
    },
    {
      "cell_type": "markdown",
      "source": [
        "# Importação das bibliotecas"
      ],
      "metadata": {
        "id": "zVxl_iLNgGTB"
      }
    },
    {
      "cell_type": "code",
      "source": [
        "import collections\n",
        "import itertools\n",
        "import functools\n",
        "import math\n",
        "import random\n",
        "\n",
        "import torch\n",
        "import torchvision\n",
        "import torch.nn as nn\n",
        "import numpy as np\n",
        "from torch.utils.data import DataLoader\n",
        "from tqdm import tqdm_notebook\n",
        "\n",
        "from torchvision.datasets import MNIST"
      ],
      "metadata": {
        "id": "iwnitOBZgDBT"
      },
      "execution_count": 2,
      "outputs": []
    },
    {
      "cell_type": "code",
      "source": [
        "# Check which GPU we are using\n",
        "!nvidia-smi"
      ],
      "metadata": {
        "colab": {
          "base_uri": "https://localhost:8080/"
        },
        "id": "DhwSJHu-xa-i",
        "outputId": "2bd478b4-a609-45c4-dd5d-9c745979436b"
      },
      "execution_count": 3,
      "outputs": [
        {
          "output_type": "stream",
          "name": "stdout",
          "text": [
            "Sat Jul 16 00:39:41 2022       \n",
            "+-----------------------------------------------------------------------------+\n",
            "| NVIDIA-SMI 460.32.03    Driver Version: 460.32.03    CUDA Version: 11.2     |\n",
            "|-------------------------------+----------------------+----------------------+\n",
            "| GPU  Name        Persistence-M| Bus-Id        Disp.A | Volatile Uncorr. ECC |\n",
            "| Fan  Temp  Perf  Pwr:Usage/Cap|         Memory-Usage | GPU-Util  Compute M. |\n",
            "|                               |                      |               MIG M. |\n",
            "|===============================+======================+======================|\n",
            "|   0  Tesla T4            Off  | 00000000:00:04.0 Off |                    0 |\n",
            "| N/A   52C    P8    11W /  70W |      3MiB / 15109MiB |      0%      Default |\n",
            "|                               |                      |                  N/A |\n",
            "+-------------------------------+----------------------+----------------------+\n",
            "                                                                               \n",
            "+-----------------------------------------------------------------------------+\n",
            "| Processes:                                                                  |\n",
            "|  GPU   GI   CI        PID   Type   Process name                  GPU Memory |\n",
            "|        ID   ID                                                   Usage      |\n",
            "|=============================================================================|\n",
            "|  No running processes found                                                 |\n",
            "+-----------------------------------------------------------------------------+\n"
          ]
        }
      ]
    },
    {
      "cell_type": "code",
      "source": [
        "device = torch.device('cpu')\n",
        "if torch.cuda.is_available():\n",
        "    device = torch.device('cuda')\n",
        "print('GPU available:', device)"
      ],
      "metadata": {
        "id": "MFMJaJoAgfWh",
        "colab": {
          "base_uri": "https://localhost:8080/"
        },
        "outputId": "5eb5554c-76c4-4d53-c68c-8fa49c2b0c49"
      },
      "execution_count": 4,
      "outputs": [
        {
          "output_type": "stream",
          "name": "stdout",
          "text": [
            "GPU available: cuda\n"
          ]
        }
      ]
    },
    {
      "cell_type": "code",
      "source": [
        "random.seed(123)\n",
        "np.random.seed(123)\n",
        "torch.manual_seed(123)"
      ],
      "metadata": {
        "id": "nQ7nrCOfgmxp",
        "colab": {
          "base_uri": "https://localhost:8080/"
        },
        "outputId": "7e474d50-25e9-4fd9-8664-abf1a2bc261d"
      },
      "execution_count": 5,
      "outputs": [
        {
          "output_type": "execute_result",
          "data": {
            "text/plain": [
              "<torch._C.Generator at 0x7f488c8c2d70>"
            ]
          },
          "metadata": {},
          "execution_count": 5
        }
      ]
    },
    {
      "cell_type": "markdown",
      "source": [
        "#Dataset e dataloader"
      ],
      "metadata": {
        "id": "qiGkG6Z7gqMl"
      }
    },
    {
      "cell_type": "code",
      "source": [
        "!mkdir ./data\n",
        "\n",
        "# transform = torchvision.transforms.Compose(\n",
        "#     [torchvision.transforms.Resize([224,224]),\n",
        "#      torchvision.transforms.ToTensor(),\n",
        "#      torchvision.transforms.Normalize((0.5,0.5,0.5),(0.5,0.5,0.5))])\n",
        "transform = torchvision.transforms.Compose(\n",
        "     [torchvision.transforms.ToTensor(),\n",
        "     torchvision.transforms.Normalize((0.5,0.5,0.5),(0.5,0.5,0.5))])\n",
        "\n",
        "train_dataset = torchvision.datasets.CIFAR100(root='./data', train=True,\n",
        "                                             download=True, transform=transform)\n",
        "\n",
        "test_dataset = torchvision.datasets.CIFAR100(root='./data', train=False,\n",
        "                                            download=True, transform=transform)"
      ],
      "metadata": {
        "id": "HzsxWm4zgptJ",
        "colab": {
          "base_uri": "https://localhost:8080/",
          "height": 101,
          "referenced_widgets": [
            "941375425ed742e1a72cd3170a8909c5",
            "e371a86d4fff45daa36e6f446bc88d42",
            "3b918ca79e394b30ba109805b689a77e",
            "2fb759a7788d4f598f6d5d3305122678",
            "bd6f2b2bd3fb4e0d89eb775d1d7462b0",
            "d3d0ecbd49b14a61a803fb5484cbe53e",
            "9488a339fad247a9b83858759579262d",
            "a60e80e74eca4c22938a2c67339bab84",
            "55f76f847a8044318d9e90bb61a54ac7",
            "f8be96a102e84cc6a983a2f0e20e9b42",
            "3f10b9024ce04112b95f45110d995743"
          ]
        },
        "outputId": "16321900-1d75-441b-fc82-c4abe8619c50"
      },
      "execution_count": 6,
      "outputs": [
        {
          "output_type": "stream",
          "name": "stdout",
          "text": [
            "Downloading https://www.cs.toronto.edu/~kriz/cifar-100-python.tar.gz to ./data/cifar-100-python.tar.gz\n"
          ]
        },
        {
          "output_type": "display_data",
          "data": {
            "text/plain": [
              "  0%|          | 0/169001437 [00:00<?, ?it/s]"
            ],
            "application/vnd.jupyter.widget-view+json": {
              "version_major": 2,
              "version_minor": 0,
              "model_id": "941375425ed742e1a72cd3170a8909c5"
            }
          },
          "metadata": {}
        },
        {
          "output_type": "stream",
          "name": "stdout",
          "text": [
            "Extracting ./data/cifar-100-python.tar.gz to ./data\n",
            "Files already downloaded and verified\n"
          ]
        }
      ]
    },
    {
      "cell_type": "code",
      "source": [
        "print(f'numero de imagenes {len(train_dataset)}')\n",
        "img, target = train_dataset[0]\n",
        "print(img.size())"
      ],
      "metadata": {
        "colab": {
          "base_uri": "https://localhost:8080/"
        },
        "id": "vNiG6o-Y9khm",
        "outputId": "4d4d3279-aa91-4d94-be78-70ec5563848c"
      },
      "execution_count": 7,
      "outputs": [
        {
          "output_type": "stream",
          "name": "stdout",
          "text": [
            "numero de imagenes 50000\n",
            "torch.Size([3, 32, 32])\n"
          ]
        }
      ]
    },
    {
      "cell_type": "code",
      "source": [
        "# train_size = 40000\n",
        "# val_size = 10000\n",
        "# train_dataset, val_dataset = torch.utils.data.random_split(train_dataset, [train_size, val_size])\n",
        "train_size = 100\n",
        "val_size = 10000\n",
        "res_size = 50000 - train_size - val_size\n",
        "train_dataset, val_dataset, _ = torch.utils.data.random_split(train_dataset, [train_size, val_size, res_size])"
      ],
      "metadata": {
        "id": "eKBHExbNjJbh"
      },
      "execution_count": 8,
      "outputs": []
    },
    {
      "cell_type": "code",
      "source": [
        "batch_size = 50\n",
        "\n",
        "train_dataloader = DataLoader(train_dataset, batch_size=batch_size, shuffle=True)\n",
        "val_dataloader = DataLoader(val_dataset, batch_size=batch_size, shuffle=False)\n",
        "test_dataloader = DataLoader(test_dataset, batch_size=batch_size, shuffle=False)\n",
        "\n",
        "print('Número de minibatches de trenamento:', len(train_dataloader))\n",
        "print('Número de minibatches de validação:', len(val_dataloader))\n",
        "print('Número de minibatches de teste:', len(test_dataloader))\n",
        "\n",
        "x_train, y_train = next(iter(train_dataloader))\n",
        "print(\"\\nDimensões dos dados de um minibatch:\", x_train.size())\n",
        "print(\"Valores mínimo e máximo dos pixels: \", torch.min(x_train), torch.max(x_train))\n",
        "print(\"Tipo dos dados das imagens:         \", type(x_train))\n",
        "print(\"Tipo das classes das imagens:       \", type(y_train))"
      ],
      "metadata": {
        "id": "dCAtbFAfjbep",
        "colab": {
          "base_uri": "https://localhost:8080/"
        },
        "outputId": "01bced89-6e46-4af4-8d97-c8bdc1e42f1b"
      },
      "execution_count": 9,
      "outputs": [
        {
          "output_type": "stream",
          "name": "stdout",
          "text": [
            "Número de minibatches de trenamento: 2\n",
            "Número de minibatches de validação: 200\n",
            "Número de minibatches de teste: 200\n",
            "\n",
            "Dimensões dos dados de um minibatch: torch.Size([50, 3, 32, 32])\n",
            "Valores mínimo e máximo dos pixels:  tensor(-1.) tensor(1.)\n",
            "Tipo dos dados das imagens:          <class 'torch.Tensor'>\n",
            "Tipo das classes das imagens:        <class 'torch.Tensor'>\n"
          ]
        }
      ]
    },
    {
      "cell_type": "markdown",
      "source": [
        "#Bloco Básico da Resnet"
      ],
      "metadata": {
        "id": "gZTWV8YEj8bZ"
      }
    },
    {
      "cell_type": "code",
      "source": [
        "from collections import OrderedDict\n",
        "from torch import nn\n",
        "from torch import Tensor\n",
        "\n",
        "\n",
        "class MyBlock(nn.Module):\n",
        "\n",
        "    def __init__(\n",
        "        self,\n",
        "        inplanes: int,\n",
        "        planes: int,\n",
        "        identity_downsample=None,\n",
        "        stride: int = 1,\n",
        "    ) -> None:\n",
        "        super(MyBlock, self).__init__()\n",
        "        # Escreva seu código aqui.\n",
        "        self.conv1 = nn.Conv2d(inplanes, planes, kernel_size=3, stride=stride, bias=False, padding=1)\n",
        "        self.bn1 = nn.BatchNorm2d(planes)\n",
        "        self.relu = nn.ReLU(inplace=True)\n",
        "        self.conv2 = nn.Conv2d(planes, planes, kernel_size=3, stride=1, bias=False, padding=1)\n",
        "        self.bn2 = nn.BatchNorm2d(planes)\n",
        "\n",
        "        self.identity_downsample = identity_downsample\n",
        "        self.stride = stride\n",
        "\n",
        "    def forward(self, x: Tensor) -> Tensor:\n",
        "        # Escreva seu código aqui.\n",
        "        identity = x\n",
        "\n",
        "        out = self.conv1(x)\n",
        "        out = self.bn1(out)\n",
        "        out = self.relu(out)\n",
        "\n",
        "        out = self.conv2(out)\n",
        "        out = self.bn2(out)\n",
        "        \n",
        "        if self.identity_downsample is not None:\n",
        "            identity = self.identity_downsample(x)\n",
        "        out += identity\n",
        "        out = self.relu(out)\n",
        "        return out"
      ],
      "metadata": {
        "id": "FRUodY_gj5cz"
      },
      "execution_count": 10,
      "outputs": []
    },
    {
      "cell_type": "code",
      "source": [
        "class Bottleneck(nn.Module):\n",
        "    expansion = 4\n",
        "    def __init__(\n",
        "        self,\n",
        "        inplanes: int,\n",
        "        planes: int,\n",
        "        identity_downsample=None,\n",
        "        stride: int = 1,\n",
        "    ) -> None:\n",
        "\n",
        "        super(Bottleneck,self).__init__()\n",
        "        self.conv1 = nn.Conv2d(inplanes, planes, kernel_size=1, stride=1, bias=False, padding=0)\n",
        "        self.bn1 = nn.BatchNorm2d(planes)\n",
        "\n",
        "        self.conv2 = nn.Conv2d(planes, planes, kernel_size=3, stride=stride, bias=False, padding=1)\n",
        "        self.bn2 = nn.BatchNorm2d(planes)\n",
        "\n",
        "        self.conv3 = nn.Conv2d(planes, planes*self.expansion, kernel_size=1, stride=1, bias=False, padding=0)\n",
        "        self.bn3 = nn.BatchNorm2d(planes*self.expansion)\n",
        "\n",
        "        self.relu = nn.ReLU(inplace=True)\n",
        "        self.identity_downsample = identity_downsample\n",
        "        self.stride = stride\n",
        "\n",
        "    def forward(self, x):\n",
        "        identity = x\n",
        "\n",
        "        out = self.conv1(x)\n",
        "        out = self.bn1(out)\n",
        "        out = self.relu(out)\n",
        "\n",
        "        out = self.conv2(out)\n",
        "        out = self.bn2(out)\n",
        "        out = self.relu(out)\n",
        "\n",
        "        out = self.conv3(out)\n",
        "        out = self.bn3(out)\n",
        "\n",
        "        if self.identity_downsample is not None:\n",
        "            identity = self.identity_downsample(x)\n",
        "\n",
        "        out += identity\n",
        "        out = self.relu(out)\n",
        "        return out\n"
      ],
      "metadata": {
        "id": "4badFRwtszvJ"
      },
      "execution_count": 11,
      "outputs": []
    },
    {
      "cell_type": "code",
      "source": [
        "class CNN_resnet50(nn.Module):\n",
        "    def __init__(self, image_channels, num_classes):\n",
        "\n",
        "        super(CNN_resnet50,self).__init__()\n",
        "\n",
        "        self.conv1 = nn.Conv2d(image_channels, 64, kernel_size=7, stride=2, padding=3, bias=False)\n",
        "        self.bn1 = nn.BatchNorm2d(64)\n",
        "        self.relu = nn.ReLU(inplace=True)\n",
        "        self.maxpool = nn.MaxPool2d(kernel_size=3, stride=2, padding=1)\n",
        "\n",
        "        #resnet layers\n",
        "        self.layer1 = self.__make_layer(64, 64, 3,stride=1)\n",
        "        self.layer2 = self.__make_layer(256, 128, 4,stride=2)\n",
        "        self.layer3 = self.__make_layer(512, 256, 6,stride=2)\n",
        "        self.layer4 = self.__make_layer(1024, 512, 3,stride=2)\n",
        "\n",
        "        self.avgpool = nn.AdaptiveAvgPool2d((1,1))\n",
        "\n",
        "        self.fc = nn.Linear(2048, num_classes)\n",
        "      \n",
        "    def __make_layer(self, in_channels, out_channels, blocks, stride):\n",
        "\n",
        "        identity_downsample = None\n",
        "        \n",
        "        if stride != 1 or in_channels != 4*out_channels:\n",
        "            identity_downsample = nn.Sequential(nn.Conv2d(in_channels, 4*out_channels, kernel_size=1, stride=stride, padding=0, bias=False),\n",
        "                nn.BatchNorm2d(4*out_channels))\n",
        "        layers = []\n",
        "        layers.append(Bottleneck(in_channels, out_channels,identity_downsample=identity_downsample, stride=stride))\n",
        "        \n",
        "        for _ in range(1,blocks):\n",
        "            layers.append(Bottleneck(out_channels*4, out_channels))\n",
        "\n",
        "        layers.append(nn.Dropout(0.3))\n",
        "\n",
        "        return nn.Sequential(*layers)\n",
        "    \n",
        "    def forward(self, x):\n",
        "\n",
        "        out = self.conv1(x)\n",
        "        out = self.bn1(out)\n",
        "        out = self.relu(out)\n",
        "        out = self.maxpool(out)\n",
        "\n",
        "        out = self.layer1(out)\n",
        "        out = self.layer2(out)\n",
        "        out = self.layer3(out)\n",
        "        out = self.layer4(out)\n",
        "\n",
        "        out = self.avgpool(out)\n",
        "        out = out.view(x.shape[0], -1)\n",
        "        out = self.fc(out)\n",
        "        return out\n"
      ],
      "metadata": {
        "id": "6bCvEnhxoICS"
      },
      "execution_count": 12,
      "outputs": []
    },
    {
      "cell_type": "code",
      "source": [
        "model = CNN_resnet50(3,100).to(device)"
      ],
      "metadata": {
        "id": "k9TVLjRcoHaW"
      },
      "execution_count": 13,
      "outputs": []
    },
    {
      "cell_type": "code",
      "source": [
        "num_params = sum(p.numel() for p in model.parameters() if p.requires_grad)\n",
        "print(f'Number of model parameters: {num_params}')"
      ],
      "metadata": {
        "colab": {
          "base_uri": "https://localhost:8080/"
        },
        "id": "88LjgPiXCHTW",
        "outputId": "fad5249a-ac7c-4b6b-c8a8-43d607c5f2f6"
      },
      "execution_count": 14,
      "outputs": [
        {
          "output_type": "stream",
          "name": "stdout",
          "text": [
            "Number of model parameters: 23712932\n"
          ]
        }
      ]
    },
    {
      "cell_type": "code",
      "source": [
        "from google.colab import drive\n",
        "drive.mount('/content/drive')"
      ],
      "metadata": {
        "colab": {
          "base_uri": "https://localhost:8080/"
        },
        "id": "2rdvOfJDzAGG",
        "outputId": "ebf5d8e5-ac99-44ad-c764-a7bbb9050088"
      },
      "execution_count": 15,
      "outputs": [
        {
          "output_type": "stream",
          "name": "stdout",
          "text": [
            "Mounted at /content/drive\n"
          ]
        }
      ]
    },
    {
      "cell_type": "code",
      "source": [
        "model_save_name = 'model_resnet50_smalldataset.pt'\n",
        "path_modelo = F\"/content/drive/My Drive/modelo_proyecto/entrega_03/pre_trained/{model_save_name}\""
      ],
      "metadata": {
        "id": "5GrUOps4zBPK"
      },
      "execution_count": 16,
      "outputs": []
    },
    {
      "cell_type": "code",
      "source": [
        "# Iniciar o treinamento\n",
        "from tqdm import tqdm\n",
        "\n",
        "n_epochs = 60\n",
        "lr = 3.3e-4\n",
        "\n",
        "img_channels = 3\n",
        "num_classes = 100\n",
        "\n",
        "model = CNN_resnet50(img_channels,num_classes).to(device)\n",
        "\n",
        "# train_dataloader = DataLoader(train_dataset, batch_size=batch_size, shuffle=True)\n",
        "# val_dataloader = DataLoader(val_dataset, batch_size=batch_size, shuffle=False)\n",
        "# test_dataloader = DataLoader(test_dataset, batch_size=batch_size, shuffle=False)\n",
        "\n",
        "optimizer = torch.optim.Adam(model.parameters(), lr=lr)\n",
        "\n",
        "checkpoint = {\n",
        "    'img_channels': img_channels,\n",
        "    'num_classes': num_classes,\n",
        "    'model_state_dict': model.state_dict(),\n",
        "    'optimizer_state_dict' : optimizer.state_dict(),\n",
        "    'epochs': [],\n",
        "    'loss_train': [],\n",
        "    'loss_val': [],\n",
        "    'accuracy_history': [],\n",
        "    }\n",
        "torch.save(checkpoint, path_modelo)\n",
        "\n",
        "def train_step(input_ids, target_ids):\n",
        "    model.train()\n",
        "    model.zero_grad()\n",
        "    logits = model(input_ids)\n",
        "    logits = logits.reshape(-1, logits.shape[-1])\n",
        "    target_ids = target_ids.reshape(-1)\n",
        "    loss = nn.functional.cross_entropy(logits, target_ids)\n",
        "    loss.backward()\n",
        "    optimizer.step()\n",
        "\n",
        "    return loss.item()\n",
        "\n",
        "def validation_step(input_ids, target_ids):\n",
        "    model.eval()\n",
        "    logits = model(input_ids)\n",
        "    logits = logits.reshape(-1, logits.shape[-1])\n",
        "    target_ids = target_ids.reshape(-1)\n",
        "    loss = nn.functional.cross_entropy(logits, target_ids)\n",
        "\n",
        "    _, y_pred = torch.max(logits,1)\n",
        "    accuracy_item = (y_pred.cpu().numpy() == target_ids.cpu().numpy()).mean()\n",
        "\n",
        "    return accuracy_item,loss.item()\n",
        "\n",
        "epochs = []\n",
        "loss_history = []\n",
        "loss_epoch_end = []\n",
        "accuracy_history = []\n",
        "total_trained_samples = 0\n",
        "\n",
        "with torch.no_grad():\n",
        "    loss_accuracy = [list(validation_step(val_input_ids.to(device), val_target_ids.to(device)))\n",
        "        for val_input_ids, val_target_ids in val_dataloader]\n",
        "    \n",
        "    mean_accuracy = np.array(loss_accuracy)[:,0].mean()\n",
        "    mean_loss = np.array(loss_accuracy)[:,1].mean()\n",
        "    print(f'Accuracy: {mean_accuracy} Loss_Val: {mean_loss}')\n",
        "    accuracy_history.append(mean_accuracy.item())\n",
        "\n",
        "    checkpoint['accuracy_history'].append(mean_accuracy.item())\n",
        "    checkpoint['loss_val'].append(mean_loss.item())\n",
        "    torch.save(checkpoint, path_modelo)\n",
        "    \n",
        "for i in range(n_epochs):\n",
        "    for x_train, y_train in tqdm(train_dataloader, total=len(train_dataloader), desc='Training'):\n",
        "        loss = train_step(x_train.to(device), y_train.to(device))\n",
        "        \n",
        "        total_trained_samples += x_train.size(0)\n",
        "        epochs.append(total_trained_samples / len(train_dataset))\n",
        "        loss_history.append(loss)\n",
        "    \n",
        "    loss_epoch_end.append(loss)\n",
        "    print(f'Epoch: {i:d}/{n_epochs - 1:d} Loss_Train: {loss}')\n",
        "    checkpoint['epochs'].append(i)\n",
        "    checkpoint['loss_train'].append(loss)\n",
        "    \n",
        "    with torch.no_grad():\n",
        "        loss_accuracy = [validation_step(val_input_ids.to(device), val_target_ids.to(device))\n",
        "            for val_input_ids, val_target_ids in val_dataloader]\n",
        "        \n",
        "        mean_accuracy = np.array(loss_accuracy)[:,0].mean()\n",
        "        mean_loss = np.array(loss_accuracy)[:,1].mean()\n",
        "        print(f'Accuracy: {mean_accuracy} Loss_Val: {mean_loss}')\n",
        "        accuracy_history.append(mean_accuracy.item())\n",
        "\n",
        "        checkpoint['accuracy_history'].append(mean_accuracy.item())\n",
        "        checkpoint['loss_val'].append(mean_loss.item())\n",
        "    \n",
        "    checkpoint['model_state_dict'] = model.state_dict()\n",
        "    checkpoint['optimizer_state_dict'] = optimizer.state_dict()\n",
        "\n",
        "    torch.save(checkpoint, path_modelo)\n"
      ],
      "metadata": {
        "colab": {
          "base_uri": "https://localhost:8080/"
        },
        "id": "c8TRb8reCLOt",
        "outputId": "134ac5ae-3ee7-410f-9c6d-cc72cebaa7bd"
      },
      "execution_count": 18,
      "outputs": [
        {
          "output_type": "stream",
          "name": "stdout",
          "text": [
            "Accuracy: 0.0078000000000000005 Loss_Val: 4.605479357242584\n"
          ]
        },
        {
          "output_type": "stream",
          "name": "stderr",
          "text": [
            "Training: 100%|██████████| 2/2 [00:00<00:00, 12.89it/s]\n"
          ]
        },
        {
          "output_type": "stream",
          "name": "stdout",
          "text": [
            "Epoch: 0/59 Loss_Train: 5.203201770782471\n",
            "Accuracy: 0.009800000000000001 Loss_Val: 4.607564692497253\n"
          ]
        },
        {
          "output_type": "stream",
          "name": "stderr",
          "text": [
            "Training: 100%|██████████| 2/2 [00:00<00:00, 17.31it/s]\n"
          ]
        },
        {
          "output_type": "stream",
          "name": "stdout",
          "text": [
            "Epoch: 1/59 Loss_Train: 4.347777843475342\n",
            "Accuracy: 0.0103 Loss_Val: 4.619607737064362\n"
          ]
        },
        {
          "output_type": "stream",
          "name": "stderr",
          "text": [
            "Training: 100%|██████████| 2/2 [00:00<00:00, 16.70it/s]\n"
          ]
        },
        {
          "output_type": "stream",
          "name": "stdout",
          "text": [
            "Epoch: 2/59 Loss_Train: 4.381622791290283\n",
            "Accuracy: 0.009800000000000001 Loss_Val: 4.650605742931366\n"
          ]
        },
        {
          "output_type": "stream",
          "name": "stderr",
          "text": [
            "Training: 100%|██████████| 2/2 [00:00<00:00, 15.72it/s]\n"
          ]
        },
        {
          "output_type": "stream",
          "name": "stdout",
          "text": [
            "Epoch: 3/59 Loss_Train: 4.105149745941162\n",
            "Accuracy: 0.009800000000000001 Loss_Val: 4.706207671165466\n"
          ]
        },
        {
          "output_type": "stream",
          "name": "stderr",
          "text": [
            "Training: 100%|██████████| 2/2 [00:00<00:00, 18.54it/s]\n"
          ]
        },
        {
          "output_type": "stream",
          "name": "stdout",
          "text": [
            "Epoch: 4/59 Loss_Train: 3.8122622966766357\n",
            "Accuracy: 0.009800000000000001 Loss_Val: 4.783414611816406\n"
          ]
        },
        {
          "output_type": "stream",
          "name": "stderr",
          "text": [
            "Training: 100%|██████████| 2/2 [00:00<00:00, 15.18it/s]\n"
          ]
        },
        {
          "output_type": "stream",
          "name": "stdout",
          "text": [
            "Epoch: 5/59 Loss_Train: 4.317041873931885\n",
            "Accuracy: 0.009800000000000001 Loss_Val: 4.873922731876373\n"
          ]
        },
        {
          "output_type": "stream",
          "name": "stderr",
          "text": [
            "Training: 100%|██████████| 2/2 [00:00<00:00, 16.53it/s]\n"
          ]
        },
        {
          "output_type": "stream",
          "name": "stdout",
          "text": [
            "Epoch: 6/59 Loss_Train: 3.9717276096343994\n",
            "Accuracy: 0.009800000000000001 Loss_Val: 4.970412859916687\n"
          ]
        },
        {
          "output_type": "stream",
          "name": "stderr",
          "text": [
            "Training: 100%|██████████| 2/2 [00:00<00:00, 17.55it/s]\n"
          ]
        },
        {
          "output_type": "stream",
          "name": "stdout",
          "text": [
            "Epoch: 7/59 Loss_Train: 3.852762222290039\n",
            "Accuracy: 0.0097 Loss_Val: 5.06861567735672\n"
          ]
        },
        {
          "output_type": "stream",
          "name": "stderr",
          "text": [
            "Training: 100%|██████████| 2/2 [00:00<00:00, 16.51it/s]\n"
          ]
        },
        {
          "output_type": "stream",
          "name": "stdout",
          "text": [
            "Epoch: 8/59 Loss_Train: 3.793790340423584\n",
            "Accuracy: 0.009800000000000001 Loss_Val: 5.170141606330872\n"
          ]
        },
        {
          "output_type": "stream",
          "name": "stderr",
          "text": [
            "Training: 100%|██████████| 2/2 [00:00<00:00, 15.34it/s]\n"
          ]
        },
        {
          "output_type": "stream",
          "name": "stdout",
          "text": [
            "Epoch: 9/59 Loss_Train: 3.797158718109131\n",
            "Accuracy: 0.009800000000000001 Loss_Val: 5.2657509040832515\n"
          ]
        },
        {
          "output_type": "stream",
          "name": "stderr",
          "text": [
            "Training: 100%|██████████| 2/2 [00:00<00:00, 18.03it/s]\n"
          ]
        },
        {
          "output_type": "stream",
          "name": "stdout",
          "text": [
            "Epoch: 10/59 Loss_Train: 3.7172982692718506\n",
            "Accuracy: 0.0097 Loss_Val: 5.36063725233078\n"
          ]
        },
        {
          "output_type": "stream",
          "name": "stderr",
          "text": [
            "Training: 100%|██████████| 2/2 [00:00<00:00, 15.79it/s]\n"
          ]
        },
        {
          "output_type": "stream",
          "name": "stdout",
          "text": [
            "Epoch: 11/59 Loss_Train: 3.6661858558654785\n",
            "Accuracy: 0.0092 Loss_Val: 5.483222751617432\n"
          ]
        },
        {
          "output_type": "stream",
          "name": "stderr",
          "text": [
            "Training: 100%|██████████| 2/2 [00:00<00:00, 13.02it/s]\n"
          ]
        },
        {
          "output_type": "stream",
          "name": "stdout",
          "text": [
            "Epoch: 12/59 Loss_Train: 3.6318602561950684\n",
            "Accuracy: 0.009500000000000001 Loss_Val: 5.560221145153045\n"
          ]
        },
        {
          "output_type": "stream",
          "name": "stderr",
          "text": [
            "Training: 100%|██████████| 2/2 [00:00<00:00, 19.01it/s]\n"
          ]
        },
        {
          "output_type": "stream",
          "name": "stdout",
          "text": [
            "Epoch: 13/59 Loss_Train: 3.9689505100250244\n",
            "Accuracy: 0.0085 Loss_Val: 5.659140634536743\n"
          ]
        },
        {
          "output_type": "stream",
          "name": "stderr",
          "text": [
            "Training: 100%|██████████| 2/2 [00:00<00:00, 12.62it/s]\n"
          ]
        },
        {
          "output_type": "stream",
          "name": "stdout",
          "text": [
            "Epoch: 14/59 Loss_Train: 3.5976572036743164\n",
            "Accuracy: 0.009800000000000001 Loss_Val: 5.768535299301147\n"
          ]
        },
        {
          "output_type": "stream",
          "name": "stderr",
          "text": [
            "Training: 100%|██████████| 2/2 [00:00<00:00, 17.67it/s]\n"
          ]
        },
        {
          "output_type": "stream",
          "name": "stdout",
          "text": [
            "Epoch: 15/59 Loss_Train: 3.5006704330444336\n",
            "Accuracy: 0.009800000000000001 Loss_Val: 5.8796486163139345\n"
          ]
        },
        {
          "output_type": "stream",
          "name": "stderr",
          "text": [
            "Training: 100%|██████████| 2/2 [00:00<00:00, 18.05it/s]\n"
          ]
        },
        {
          "output_type": "stream",
          "name": "stdout",
          "text": [
            "Epoch: 16/59 Loss_Train: 3.434791326522827\n",
            "Accuracy: 0.009800000000000001 Loss_Val: 5.991300728321075\n"
          ]
        },
        {
          "output_type": "stream",
          "name": "stderr",
          "text": [
            "Training: 100%|██████████| 2/2 [00:00<00:00, 17.75it/s]\n"
          ]
        },
        {
          "output_type": "stream",
          "name": "stdout",
          "text": [
            "Epoch: 17/59 Loss_Train: 3.3461339473724365\n",
            "Accuracy: 0.009800000000000001 Loss_Val: 6.128663916587829\n"
          ]
        },
        {
          "output_type": "stream",
          "name": "stderr",
          "text": [
            "Training: 100%|██████████| 2/2 [00:00<00:00, 15.75it/s]\n"
          ]
        },
        {
          "output_type": "stream",
          "name": "stdout",
          "text": [
            "Epoch: 18/59 Loss_Train: 3.281571626663208\n",
            "Accuracy: 0.0097 Loss_Val: 6.257503392696381\n"
          ]
        },
        {
          "output_type": "stream",
          "name": "stderr",
          "text": [
            "Training: 100%|██████████| 2/2 [00:00<00:00, 15.27it/s]\n"
          ]
        },
        {
          "output_type": "stream",
          "name": "stdout",
          "text": [
            "Epoch: 19/59 Loss_Train: 3.3586859703063965\n",
            "Accuracy: 0.0094 Loss_Val: 6.400762298107147\n"
          ]
        },
        {
          "output_type": "stream",
          "name": "stderr",
          "text": [
            "Training: 100%|██████████| 2/2 [00:00<00:00, 13.90it/s]\n"
          ]
        },
        {
          "output_type": "stream",
          "name": "stdout",
          "text": [
            "Epoch: 20/59 Loss_Train: 3.5162220001220703\n",
            "Accuracy: 0.009600000000000001 Loss_Val: 6.4715194463729855\n"
          ]
        },
        {
          "output_type": "stream",
          "name": "stderr",
          "text": [
            "Training: 100%|██████████| 2/2 [00:00<00:00, 18.28it/s]\n"
          ]
        },
        {
          "output_type": "stream",
          "name": "stdout",
          "text": [
            "Epoch: 21/59 Loss_Train: 3.3533432483673096\n",
            "Accuracy: 0.009600000000000001 Loss_Val: 6.55375824213028\n"
          ]
        },
        {
          "output_type": "stream",
          "name": "stderr",
          "text": [
            "Training: 100%|██████████| 2/2 [00:00<00:00, 16.82it/s]\n"
          ]
        },
        {
          "output_type": "stream",
          "name": "stdout",
          "text": [
            "Epoch: 22/59 Loss_Train: 3.1719436645507812\n",
            "Accuracy: 0.0092 Loss_Val: 6.651547255516053\n"
          ]
        },
        {
          "output_type": "stream",
          "name": "stderr",
          "text": [
            "Training: 100%|██████████| 2/2 [00:00<00:00, 16.46it/s]\n"
          ]
        },
        {
          "output_type": "stream",
          "name": "stdout",
          "text": [
            "Epoch: 23/59 Loss_Train: 3.298600435256958\n",
            "Accuracy: 0.009399999999999999 Loss_Val: 6.778010170459748\n"
          ]
        },
        {
          "output_type": "stream",
          "name": "stderr",
          "text": [
            "Training: 100%|██████████| 2/2 [00:00<00:00, 16.08it/s]\n"
          ]
        },
        {
          "output_type": "stream",
          "name": "stdout",
          "text": [
            "Epoch: 24/59 Loss_Train: 3.2481329441070557\n",
            "Accuracy: 0.008899999999999998 Loss_Val: 6.929321064949035\n"
          ]
        },
        {
          "output_type": "stream",
          "name": "stderr",
          "text": [
            "Training: 100%|██████████| 2/2 [00:00<00:00, 16.58it/s]\n"
          ]
        },
        {
          "output_type": "stream",
          "name": "stdout",
          "text": [
            "Epoch: 25/59 Loss_Train: 3.271073579788208\n",
            "Accuracy: 0.0097 Loss_Val: 7.08695466041565\n"
          ]
        },
        {
          "output_type": "stream",
          "name": "stderr",
          "text": [
            "Training: 100%|██████████| 2/2 [00:00<00:00, 17.07it/s]\n"
          ]
        },
        {
          "output_type": "stream",
          "name": "stdout",
          "text": [
            "Epoch: 26/59 Loss_Train: 3.089423894882202\n",
            "Accuracy: 0.009600000000000001 Loss_Val: 7.239158170223236\n"
          ]
        },
        {
          "output_type": "stream",
          "name": "stderr",
          "text": [
            "Training: 100%|██████████| 2/2 [00:00<00:00, 15.38it/s]\n"
          ]
        },
        {
          "output_type": "stream",
          "name": "stdout",
          "text": [
            "Epoch: 27/59 Loss_Train: 2.9843502044677734\n",
            "Accuracy: 0.009399999999999999 Loss_Val: 7.408731718063354\n"
          ]
        },
        {
          "output_type": "stream",
          "name": "stderr",
          "text": [
            "Training: 100%|██████████| 2/2 [00:00<00:00, 17.44it/s]\n"
          ]
        },
        {
          "output_type": "stream",
          "name": "stdout",
          "text": [
            "Epoch: 28/59 Loss_Train: 2.9315357208251953\n",
            "Accuracy: 0.0078000000000000005 Loss_Val: 7.55947261095047\n"
          ]
        },
        {
          "output_type": "stream",
          "name": "stderr",
          "text": [
            "Training: 100%|██████████| 2/2 [00:00<00:00, 15.69it/s]\n"
          ]
        },
        {
          "output_type": "stream",
          "name": "stdout",
          "text": [
            "Epoch: 29/59 Loss_Train: 2.7695648670196533\n",
            "Accuracy: 0.0105 Loss_Val: 7.6767342972755435\n"
          ]
        },
        {
          "output_type": "stream",
          "name": "stderr",
          "text": [
            "Training: 100%|██████████| 2/2 [00:00<00:00, 18.54it/s]\n"
          ]
        },
        {
          "output_type": "stream",
          "name": "stdout",
          "text": [
            "Epoch: 30/59 Loss_Train: 2.8029868602752686\n",
            "Accuracy: 0.0113 Loss_Val: 7.7474805450439455\n"
          ]
        },
        {
          "output_type": "stream",
          "name": "stderr",
          "text": [
            "Training: 100%|██████████| 2/2 [00:00<00:00, 16.36it/s]\n"
          ]
        },
        {
          "output_type": "stream",
          "name": "stdout",
          "text": [
            "Epoch: 31/59 Loss_Train: 2.770822763442993\n",
            "Accuracy: 0.0123 Loss_Val: 7.859076845645904\n"
          ]
        },
        {
          "output_type": "stream",
          "name": "stderr",
          "text": [
            "Training: 100%|██████████| 2/2 [00:00<00:00, 17.83it/s]\n"
          ]
        },
        {
          "output_type": "stream",
          "name": "stdout",
          "text": [
            "Epoch: 32/59 Loss_Train: 2.6612656116485596\n",
            "Accuracy: 0.011800000000000001 Loss_Val: 7.931322214603424\n"
          ]
        },
        {
          "output_type": "stream",
          "name": "stderr",
          "text": [
            "Training: 100%|██████████| 2/2 [00:00<00:00, 16.23it/s]\n"
          ]
        },
        {
          "output_type": "stream",
          "name": "stdout",
          "text": [
            "Epoch: 33/59 Loss_Train: 2.8402926921844482\n",
            "Accuracy: 0.012000000000000002 Loss_Val: 8.026684763431549\n"
          ]
        },
        {
          "output_type": "stream",
          "name": "stderr",
          "text": [
            "Training: 100%|██████████| 2/2 [00:00<00:00, 16.37it/s]\n"
          ]
        },
        {
          "output_type": "stream",
          "name": "stdout",
          "text": [
            "Epoch: 34/59 Loss_Train: 2.536282539367676\n",
            "Accuracy: 0.0125 Loss_Val: 8.113497786521911\n"
          ]
        },
        {
          "output_type": "stream",
          "name": "stderr",
          "text": [
            "Training: 100%|██████████| 2/2 [00:00<00:00, 15.93it/s]\n"
          ]
        },
        {
          "output_type": "stream",
          "name": "stdout",
          "text": [
            "Epoch: 35/59 Loss_Train: 2.253868818283081\n",
            "Accuracy: 0.0104 Loss_Val: 8.222711737155914\n"
          ]
        },
        {
          "output_type": "stream",
          "name": "stderr",
          "text": [
            "Training: 100%|██████████| 2/2 [00:00<00:00, 15.46it/s]\n"
          ]
        },
        {
          "output_type": "stream",
          "name": "stdout",
          "text": [
            "Epoch: 36/59 Loss_Train: 2.1685030460357666\n",
            "Accuracy: 0.0085 Loss_Val: 8.354080848693847\n"
          ]
        },
        {
          "output_type": "stream",
          "name": "stderr",
          "text": [
            "Training: 100%|██████████| 2/2 [00:00<00:00, 16.22it/s]\n"
          ]
        },
        {
          "output_type": "stream",
          "name": "stdout",
          "text": [
            "Epoch: 37/59 Loss_Train: 2.603311538696289\n",
            "Accuracy: 0.0098 Loss_Val: 8.401641459465027\n"
          ]
        },
        {
          "output_type": "stream",
          "name": "stderr",
          "text": [
            "Training: 100%|██████████| 2/2 [00:00<00:00, 15.93it/s]\n"
          ]
        },
        {
          "output_type": "stream",
          "name": "stdout",
          "text": [
            "Epoch: 38/59 Loss_Train: 2.173743724822998\n",
            "Accuracy: 0.0109 Loss_Val: 8.548895518779755\n"
          ]
        },
        {
          "output_type": "stream",
          "name": "stderr",
          "text": [
            "Training: 100%|██████████| 2/2 [00:00<00:00, 15.79it/s]\n"
          ]
        },
        {
          "output_type": "stream",
          "name": "stdout",
          "text": [
            "Epoch: 39/59 Loss_Train: 1.8857508897781372\n",
            "Accuracy: 0.0121 Loss_Val: 8.633631114959718\n"
          ]
        },
        {
          "output_type": "stream",
          "name": "stderr",
          "text": [
            "Training: 100%|██████████| 2/2 [00:00<00:00, 15.72it/s]\n"
          ]
        },
        {
          "output_type": "stream",
          "name": "stdout",
          "text": [
            "Epoch: 40/59 Loss_Train: 1.9848616123199463\n",
            "Accuracy: 0.010699999999999998 Loss_Val: 8.733969597816467\n"
          ]
        },
        {
          "output_type": "stream",
          "name": "stderr",
          "text": [
            "Training: 100%|██████████| 2/2 [00:00<00:00, 11.58it/s]\n"
          ]
        },
        {
          "output_type": "stream",
          "name": "stdout",
          "text": [
            "Epoch: 41/59 Loss_Train: 1.9854919910430908\n",
            "Accuracy: 0.0099 Loss_Val: 8.856750469207764\n"
          ]
        },
        {
          "output_type": "stream",
          "name": "stderr",
          "text": [
            "Training: 100%|██████████| 2/2 [00:00<00:00, 18.10it/s]\n"
          ]
        },
        {
          "output_type": "stream",
          "name": "stdout",
          "text": [
            "Epoch: 42/59 Loss_Train: 1.7230000495910645\n",
            "Accuracy: 0.0093 Loss_Val: 9.032443568706512\n"
          ]
        },
        {
          "output_type": "stream",
          "name": "stderr",
          "text": [
            "Training: 100%|██████████| 2/2 [00:00<00:00, 14.70it/s]\n"
          ]
        },
        {
          "output_type": "stream",
          "name": "stdout",
          "text": [
            "Epoch: 43/59 Loss_Train: 2.0699830055236816\n",
            "Accuracy: 0.0082 Loss_Val: 9.184515154361724\n"
          ]
        },
        {
          "output_type": "stream",
          "name": "stderr",
          "text": [
            "Training: 100%|██████████| 2/2 [00:00<00:00, 15.11it/s]\n"
          ]
        },
        {
          "output_type": "stream",
          "name": "stdout",
          "text": [
            "Epoch: 44/59 Loss_Train: 1.5852584838867188\n",
            "Accuracy: 0.0095 Loss_Val: 9.35877631664276\n"
          ]
        },
        {
          "output_type": "stream",
          "name": "stderr",
          "text": [
            "Training: 100%|██████████| 2/2 [00:00<00:00, 14.63it/s]\n"
          ]
        },
        {
          "output_type": "stream",
          "name": "stdout",
          "text": [
            "Epoch: 45/59 Loss_Train: 1.5238314867019653\n",
            "Accuracy: 0.0113 Loss_Val: 9.54478581905365\n"
          ]
        },
        {
          "output_type": "stream",
          "name": "stderr",
          "text": [
            "Training: 100%|██████████| 2/2 [00:00<00:00, 16.12it/s]\n"
          ]
        },
        {
          "output_type": "stream",
          "name": "stdout",
          "text": [
            "Epoch: 46/59 Loss_Train: 1.6482980251312256\n",
            "Accuracy: 0.0098 Loss_Val: 9.618884665966034\n"
          ]
        },
        {
          "output_type": "stream",
          "name": "stderr",
          "text": [
            "Training: 100%|██████████| 2/2 [00:00<00:00, 15.12it/s]\n"
          ]
        },
        {
          "output_type": "stream",
          "name": "stdout",
          "text": [
            "Epoch: 47/59 Loss_Train: 1.5197705030441284\n",
            "Accuracy: 0.01 Loss_Val: 9.91267734527588\n"
          ]
        },
        {
          "output_type": "stream",
          "name": "stderr",
          "text": [
            "Training: 100%|██████████| 2/2 [00:00<00:00, 14.31it/s]\n"
          ]
        },
        {
          "output_type": "stream",
          "name": "stdout",
          "text": [
            "Epoch: 48/59 Loss_Train: 1.5340492725372314\n",
            "Accuracy: 0.0103 Loss_Val: 10.089732651710511\n"
          ]
        },
        {
          "output_type": "stream",
          "name": "stderr",
          "text": [
            "Training: 100%|██████████| 2/2 [00:00<00:00, 14.89it/s]\n"
          ]
        },
        {
          "output_type": "stream",
          "name": "stdout",
          "text": [
            "Epoch: 49/59 Loss_Train: 1.0001304149627686\n",
            "Accuracy: 0.010899999999999998 Loss_Val: 10.303990335464478\n"
          ]
        },
        {
          "output_type": "stream",
          "name": "stderr",
          "text": [
            "Training: 100%|██████████| 2/2 [00:00<00:00, 17.93it/s]\n"
          ]
        },
        {
          "output_type": "stream",
          "name": "stdout",
          "text": [
            "Epoch: 50/59 Loss_Train: 1.0963377952575684\n",
            "Accuracy: 0.0106 Loss_Val: 10.554981760978698\n"
          ]
        },
        {
          "output_type": "stream",
          "name": "stderr",
          "text": [
            "Training: 100%|██████████| 2/2 [00:00<00:00, 14.45it/s]\n"
          ]
        },
        {
          "output_type": "stream",
          "name": "stdout",
          "text": [
            "Epoch: 51/59 Loss_Train: 1.1627600193023682\n",
            "Accuracy: 0.011099999999999999 Loss_Val: 10.753248248100281\n"
          ]
        },
        {
          "output_type": "stream",
          "name": "stderr",
          "text": [
            "Training: 100%|██████████| 2/2 [00:00<00:00, 15.80it/s]\n"
          ]
        },
        {
          "output_type": "stream",
          "name": "stdout",
          "text": [
            "Epoch: 52/59 Loss_Train: 1.0972775220870972\n",
            "Accuracy: 0.0101 Loss_Val: 10.787325448989868\n"
          ]
        },
        {
          "output_type": "stream",
          "name": "stderr",
          "text": [
            "Training: 100%|██████████| 2/2 [00:00<00:00, 15.48it/s]\n"
          ]
        },
        {
          "output_type": "stream",
          "name": "stdout",
          "text": [
            "Epoch: 53/59 Loss_Train: 1.1849949359893799\n",
            "Accuracy: 0.0128 Loss_Val: 10.695595297813416\n"
          ]
        },
        {
          "output_type": "stream",
          "name": "stderr",
          "text": [
            "Training: 100%|██████████| 2/2 [00:00<00:00, 12.52it/s]\n"
          ]
        },
        {
          "output_type": "stream",
          "name": "stdout",
          "text": [
            "Epoch: 54/59 Loss_Train: 1.108535885810852\n",
            "Accuracy: 0.015 Loss_Val: 10.72242666721344\n"
          ]
        },
        {
          "output_type": "stream",
          "name": "stderr",
          "text": [
            "Training: 100%|██████████| 2/2 [00:00<00:00, 16.95it/s]\n"
          ]
        },
        {
          "output_type": "stream",
          "name": "stdout",
          "text": [
            "Epoch: 55/59 Loss_Train: 1.0308269262313843\n",
            "Accuracy: 0.0179 Loss_Val: 10.682911529541016\n"
          ]
        },
        {
          "output_type": "stream",
          "name": "stderr",
          "text": [
            "Training: 100%|██████████| 2/2 [00:00<00:00, 14.99it/s]\n"
          ]
        },
        {
          "output_type": "stream",
          "name": "stdout",
          "text": [
            "Epoch: 56/59 Loss_Train: 1.0131657123565674\n",
            "Accuracy: 0.0171 Loss_Val: 10.886382555961609\n"
          ]
        },
        {
          "output_type": "stream",
          "name": "stderr",
          "text": [
            "Training: 100%|██████████| 2/2 [00:00<00:00, 14.80it/s]\n"
          ]
        },
        {
          "output_type": "stream",
          "name": "stdout",
          "text": [
            "Epoch: 57/59 Loss_Train: 0.7672209143638611\n",
            "Accuracy: 0.0163 Loss_Val: 11.13502251625061\n"
          ]
        },
        {
          "output_type": "stream",
          "name": "stderr",
          "text": [
            "Training: 100%|██████████| 2/2 [00:00<00:00, 14.91it/s]\n"
          ]
        },
        {
          "output_type": "stream",
          "name": "stdout",
          "text": [
            "Epoch: 58/59 Loss_Train: 0.8942448496818542\n",
            "Accuracy: 0.015700000000000002 Loss_Val: 11.081607427597046\n"
          ]
        },
        {
          "output_type": "stream",
          "name": "stderr",
          "text": [
            "Training: 100%|██████████| 2/2 [00:00<00:00, 18.67it/s]\n"
          ]
        },
        {
          "output_type": "stream",
          "name": "stdout",
          "text": [
            "Epoch: 59/59 Loss_Train: 0.7912945747375488\n",
            "Accuracy: 0.015899999999999997 Loss_Val: 10.987197966575623\n"
          ]
        }
      ]
    },
    {
      "cell_type": "code",
      "source": [
        "# continuar com o  treino\n",
        "from tqdm import tqdm\n",
        "\n",
        "n_epochs = 200\n",
        "lr = 1e-4\n",
        "\n",
        "checkpoint = torch.load(path_modelo)\n",
        "\n",
        "model = CNN_resnet50(checkpoint['img_channels'],checkpoint['num_classes']).to(device)\n",
        "optimizer = torch.optim.Adam(model.parameters(), lr=lr)\n",
        "\n",
        "model.load_state_dict(checkpoint['model_state_dict'])\n",
        "optimizer.load_state_dict(checkpoint['optimizer_state_dict'])\n",
        "\n",
        "def train_step(input_ids, target_ids):\n",
        "    model.train()\n",
        "    model.zero_grad()\n",
        "    logits = model(input_ids)\n",
        "    logits = logits.reshape(-1, logits.shape[-1])\n",
        "    target_ids = target_ids.reshape(-1)\n",
        "    loss = nn.functional.cross_entropy(logits, target_ids)\n",
        "    loss.backward()\n",
        "    optimizer.step()\n",
        "\n",
        "    return loss.item()\n",
        "\n",
        "def validation_step(input_ids, target_ids):\n",
        "    model.eval()\n",
        "    logits = model(input_ids)\n",
        "    logits = logits.reshape(-1, logits.shape[-1])\n",
        "    target_ids = target_ids.reshape(-1)\n",
        "    loss = nn.functional.cross_entropy(logits, target_ids)\n",
        "\n",
        "    _, y_pred = torch.max(logits,1)\n",
        "    accuracy_item = (y_pred.cpu().numpy() == target_ids.cpu().numpy()).mean()\n",
        "\n",
        "    return accuracy_item,loss.item()\n",
        "\n",
        "epochs = []\n",
        "loss_history = []\n",
        "loss_epoch_end = checkpoint['loss_train']\n",
        "accuracy_history = checkpoint['accuracy_history']\n",
        "total_trained_samples = 0\n",
        "epochs_init = checkpoint['epochs'][-1]+1\n",
        "\n",
        "for s in zip(checkpoint['accuracy_history'],checkpoint['loss_val'],checkpoint['epochs'],checkpoint['loss_train']):\n",
        "    print(f'Accuracy: {s[0]} Loss_Val: {s[1]}')\n",
        "    print(f'')\n",
        "    print(f'Epoch: {s[2]:d}/{n_epochs - 1:d} Loss_Train: {s[3]}')\n",
        "print(f\"Accuracy: { checkpoint['accuracy_history'][-1] } Loss_Val: {checkpoint['loss_val'][-1]}\")\n",
        "\n",
        "    \n",
        "for i in range(epochs_init,n_epochs):\n",
        "    for x_train, y_train in tqdm(train_dataloader, total=len(train_dataloader), desc='Training'):\n",
        "        loss = train_step(x_train.to(device), y_train.to(device))\n",
        "        \n",
        "        total_trained_samples += x_train.size(0)\n",
        "        epochs.append(total_trained_samples / len(train_dataset))\n",
        "        loss_history.append(loss)\n",
        "    \n",
        "    loss_epoch_end.append(loss)\n",
        "    print(f'Epoch: {i:d}/{n_epochs - 1:d} Loss_Train: {loss}')\n",
        "    checkpoint['epochs'].append(i)\n",
        "    checkpoint['loss_train'].append(loss)\n",
        "    \n",
        "    with torch.no_grad():\n",
        "        loss_accuracy = [validation_step(val_input_ids.to(device), val_target_ids.to(device))\n",
        "            for val_input_ids, val_target_ids in val_dataloader]\n",
        "        \n",
        "        mean_accuracy = np.array(loss_accuracy)[:,0].mean()\n",
        "        mean_loss = np.array(loss_accuracy)[:,1].mean()\n",
        "        print(f'Accuracy: {mean_accuracy} Loss_Val: {mean_loss}')\n",
        "        accuracy_history.append(mean_accuracy.item())\n",
        "\n",
        "        checkpoint['accuracy_history'].append(mean_accuracy.item())\n",
        "        checkpoint['loss_val'].append(mean_loss.item())\n",
        "\n",
        "    checkpoint['model_state_dict'] = model.state_dict()\n",
        "    checkpoint['optimizer_state_dict'] = optimizer.state_dict()\n",
        "\n",
        "    torch.save(checkpoint, path_modelo)\n"
      ],
      "metadata": {
        "colab": {
          "base_uri": "https://localhost:8080/"
        },
        "outputId": "cc44c0e4-d371-4626-b905-bef516fac051",
        "id": "dkB_dsdo6jef"
      },
      "execution_count": 22,
      "outputs": [
        {
          "output_type": "stream",
          "name": "stdout",
          "text": [
            "Accuracy: 0.0078000000000000005 Loss_Val: 4.605479357242584\n",
            "\n",
            "Epoch: 0/199 Loss_Train: 5.203201770782471\n",
            "Accuracy: 0.009800000000000001 Loss_Val: 4.607564692497253\n",
            "\n",
            "Epoch: 1/199 Loss_Train: 4.347777843475342\n",
            "Accuracy: 0.0103 Loss_Val: 4.619607737064362\n",
            "\n",
            "Epoch: 2/199 Loss_Train: 4.381622791290283\n",
            "Accuracy: 0.009800000000000001 Loss_Val: 4.650605742931366\n",
            "\n",
            "Epoch: 3/199 Loss_Train: 4.105149745941162\n",
            "Accuracy: 0.009800000000000001 Loss_Val: 4.706207671165466\n",
            "\n",
            "Epoch: 4/199 Loss_Train: 3.8122622966766357\n",
            "Accuracy: 0.009800000000000001 Loss_Val: 4.783414611816406\n",
            "\n",
            "Epoch: 5/199 Loss_Train: 4.317041873931885\n",
            "Accuracy: 0.009800000000000001 Loss_Val: 4.873922731876373\n",
            "\n",
            "Epoch: 6/199 Loss_Train: 3.9717276096343994\n",
            "Accuracy: 0.009800000000000001 Loss_Val: 4.970412859916687\n",
            "\n",
            "Epoch: 7/199 Loss_Train: 3.852762222290039\n",
            "Accuracy: 0.0097 Loss_Val: 5.06861567735672\n",
            "\n",
            "Epoch: 8/199 Loss_Train: 3.793790340423584\n",
            "Accuracy: 0.009800000000000001 Loss_Val: 5.170141606330872\n",
            "\n",
            "Epoch: 9/199 Loss_Train: 3.797158718109131\n",
            "Accuracy: 0.009800000000000001 Loss_Val: 5.2657509040832515\n",
            "\n",
            "Epoch: 10/199 Loss_Train: 3.7172982692718506\n",
            "Accuracy: 0.0097 Loss_Val: 5.36063725233078\n",
            "\n",
            "Epoch: 11/199 Loss_Train: 3.6661858558654785\n",
            "Accuracy: 0.0092 Loss_Val: 5.483222751617432\n",
            "\n",
            "Epoch: 12/199 Loss_Train: 3.6318602561950684\n",
            "Accuracy: 0.009500000000000001 Loss_Val: 5.560221145153045\n",
            "\n",
            "Epoch: 13/199 Loss_Train: 3.9689505100250244\n",
            "Accuracy: 0.0085 Loss_Val: 5.659140634536743\n",
            "\n",
            "Epoch: 14/199 Loss_Train: 3.5976572036743164\n",
            "Accuracy: 0.009800000000000001 Loss_Val: 5.768535299301147\n",
            "\n",
            "Epoch: 15/199 Loss_Train: 3.5006704330444336\n",
            "Accuracy: 0.009800000000000001 Loss_Val: 5.8796486163139345\n",
            "\n",
            "Epoch: 16/199 Loss_Train: 3.434791326522827\n",
            "Accuracy: 0.009800000000000001 Loss_Val: 5.991300728321075\n",
            "\n",
            "Epoch: 17/199 Loss_Train: 3.3461339473724365\n",
            "Accuracy: 0.009800000000000001 Loss_Val: 6.128663916587829\n",
            "\n",
            "Epoch: 18/199 Loss_Train: 3.281571626663208\n",
            "Accuracy: 0.0097 Loss_Val: 6.257503392696381\n",
            "\n",
            "Epoch: 19/199 Loss_Train: 3.3586859703063965\n",
            "Accuracy: 0.0094 Loss_Val: 6.400762298107147\n",
            "\n",
            "Epoch: 20/199 Loss_Train: 3.5162220001220703\n",
            "Accuracy: 0.009600000000000001 Loss_Val: 6.4715194463729855\n",
            "\n",
            "Epoch: 21/199 Loss_Train: 3.3533432483673096\n",
            "Accuracy: 0.009600000000000001 Loss_Val: 6.55375824213028\n",
            "\n",
            "Epoch: 22/199 Loss_Train: 3.1719436645507812\n",
            "Accuracy: 0.0092 Loss_Val: 6.651547255516053\n",
            "\n",
            "Epoch: 23/199 Loss_Train: 3.298600435256958\n",
            "Accuracy: 0.009399999999999999 Loss_Val: 6.778010170459748\n",
            "\n",
            "Epoch: 24/199 Loss_Train: 3.2481329441070557\n",
            "Accuracy: 0.008899999999999998 Loss_Val: 6.929321064949035\n",
            "\n",
            "Epoch: 25/199 Loss_Train: 3.271073579788208\n",
            "Accuracy: 0.0097 Loss_Val: 7.08695466041565\n",
            "\n",
            "Epoch: 26/199 Loss_Train: 3.089423894882202\n",
            "Accuracy: 0.009600000000000001 Loss_Val: 7.239158170223236\n",
            "\n",
            "Epoch: 27/199 Loss_Train: 2.9843502044677734\n",
            "Accuracy: 0.009399999999999999 Loss_Val: 7.408731718063354\n",
            "\n",
            "Epoch: 28/199 Loss_Train: 2.9315357208251953\n",
            "Accuracy: 0.0078000000000000005 Loss_Val: 7.55947261095047\n",
            "\n",
            "Epoch: 29/199 Loss_Train: 2.7695648670196533\n",
            "Accuracy: 0.0105 Loss_Val: 7.6767342972755435\n",
            "\n",
            "Epoch: 30/199 Loss_Train: 2.8029868602752686\n",
            "Accuracy: 0.0113 Loss_Val: 7.7474805450439455\n",
            "\n",
            "Epoch: 31/199 Loss_Train: 2.770822763442993\n",
            "Accuracy: 0.0123 Loss_Val: 7.859076845645904\n",
            "\n",
            "Epoch: 32/199 Loss_Train: 2.6612656116485596\n",
            "Accuracy: 0.011800000000000001 Loss_Val: 7.931322214603424\n",
            "\n",
            "Epoch: 33/199 Loss_Train: 2.8402926921844482\n",
            "Accuracy: 0.012000000000000002 Loss_Val: 8.026684763431549\n",
            "\n",
            "Epoch: 34/199 Loss_Train: 2.536282539367676\n",
            "Accuracy: 0.0125 Loss_Val: 8.113497786521911\n",
            "\n",
            "Epoch: 35/199 Loss_Train: 2.253868818283081\n",
            "Accuracy: 0.0104 Loss_Val: 8.222711737155914\n",
            "\n",
            "Epoch: 36/199 Loss_Train: 2.1685030460357666\n",
            "Accuracy: 0.0085 Loss_Val: 8.354080848693847\n",
            "\n",
            "Epoch: 37/199 Loss_Train: 2.603311538696289\n",
            "Accuracy: 0.0098 Loss_Val: 8.401641459465027\n",
            "\n",
            "Epoch: 38/199 Loss_Train: 2.173743724822998\n",
            "Accuracy: 0.0109 Loss_Val: 8.548895518779755\n",
            "\n",
            "Epoch: 39/199 Loss_Train: 1.8857508897781372\n",
            "Accuracy: 0.0121 Loss_Val: 8.633631114959718\n",
            "\n",
            "Epoch: 40/199 Loss_Train: 1.9848616123199463\n",
            "Accuracy: 0.010699999999999998 Loss_Val: 8.733969597816467\n",
            "\n",
            "Epoch: 41/199 Loss_Train: 1.9854919910430908\n",
            "Accuracy: 0.0099 Loss_Val: 8.856750469207764\n",
            "\n",
            "Epoch: 42/199 Loss_Train: 1.7230000495910645\n",
            "Accuracy: 0.0093 Loss_Val: 9.032443568706512\n",
            "\n",
            "Epoch: 43/199 Loss_Train: 2.0699830055236816\n",
            "Accuracy: 0.0082 Loss_Val: 9.184515154361724\n",
            "\n",
            "Epoch: 44/199 Loss_Train: 1.5852584838867188\n",
            "Accuracy: 0.0095 Loss_Val: 9.35877631664276\n",
            "\n",
            "Epoch: 45/199 Loss_Train: 1.5238314867019653\n",
            "Accuracy: 0.0113 Loss_Val: 9.54478581905365\n",
            "\n",
            "Epoch: 46/199 Loss_Train: 1.6482980251312256\n",
            "Accuracy: 0.0098 Loss_Val: 9.618884665966034\n",
            "\n",
            "Epoch: 47/199 Loss_Train: 1.5197705030441284\n",
            "Accuracy: 0.01 Loss_Val: 9.91267734527588\n",
            "\n",
            "Epoch: 48/199 Loss_Train: 1.5340492725372314\n",
            "Accuracy: 0.0103 Loss_Val: 10.089732651710511\n",
            "\n",
            "Epoch: 49/199 Loss_Train: 1.0001304149627686\n",
            "Accuracy: 0.010899999999999998 Loss_Val: 10.303990335464478\n",
            "\n",
            "Epoch: 50/199 Loss_Train: 1.0963377952575684\n",
            "Accuracy: 0.0106 Loss_Val: 10.554981760978698\n",
            "\n",
            "Epoch: 51/199 Loss_Train: 1.1627600193023682\n",
            "Accuracy: 0.011099999999999999 Loss_Val: 10.753248248100281\n",
            "\n",
            "Epoch: 52/199 Loss_Train: 1.0972775220870972\n",
            "Accuracy: 0.0101 Loss_Val: 10.787325448989868\n",
            "\n",
            "Epoch: 53/199 Loss_Train: 1.1849949359893799\n",
            "Accuracy: 0.0128 Loss_Val: 10.695595297813416\n",
            "\n",
            "Epoch: 54/199 Loss_Train: 1.108535885810852\n",
            "Accuracy: 0.015 Loss_Val: 10.72242666721344\n",
            "\n",
            "Epoch: 55/199 Loss_Train: 1.0308269262313843\n",
            "Accuracy: 0.0179 Loss_Val: 10.682911529541016\n",
            "\n",
            "Epoch: 56/199 Loss_Train: 1.0131657123565674\n",
            "Accuracy: 0.0171 Loss_Val: 10.886382555961609\n",
            "\n",
            "Epoch: 57/199 Loss_Train: 0.7672209143638611\n",
            "Accuracy: 0.0163 Loss_Val: 11.13502251625061\n",
            "\n",
            "Epoch: 58/199 Loss_Train: 0.8942448496818542\n",
            "Accuracy: 0.015700000000000002 Loss_Val: 11.081607427597046\n",
            "\n",
            "Epoch: 59/199 Loss_Train: 0.7912945747375488\n",
            "Accuracy: 0.015899999999999997 Loss_Val: 10.987197966575623\n",
            "\n",
            "Epoch: 60/199 Loss_Train: 0.7482998371124268\n",
            "Accuracy: 0.0162 Loss_Val: 11.034908356666564\n",
            "\n",
            "Epoch: 61/199 Loss_Train: 0.7482998371124268\n",
            "Accuracy: 0.0162 Loss_Val: 11.145654182434082\n",
            "\n",
            "Epoch: 62/199 Loss_Train: 0.6035842299461365\n",
            "Accuracy: 0.018600000000000002 Loss_Val: 11.474755935668945\n",
            "\n",
            "Epoch: 63/199 Loss_Train: 0.6035842299461365\n",
            "Accuracy: 0.018600000000000002 Loss_Val: 11.682421627044677\n",
            "\n",
            "Epoch: 64/199 Loss_Train: 0.5562204122543335\n",
            "Accuracy: 0.016399999999999998 Loss_Val: 11.818692283630371\n",
            "\n",
            "Epoch: 65/199 Loss_Train: 0.5562204122543335\n",
            "Accuracy: 0.016399999999999998 Loss_Val: 12.346062598228455\n",
            "\n",
            "Epoch: 66/199 Loss_Train: 0.6820479035377502\n",
            "Accuracy: 0.017699999999999997 Loss_Val: 12.538497653007507\n",
            "\n",
            "Epoch: 67/199 Loss_Train: 0.6820479035377502\n",
            "Accuracy: 0.017699999999999997 Loss_Val: 12.560948567390442\n",
            "\n",
            "Epoch: 68/199 Loss_Train: 0.48889145255088806\n",
            "Accuracy: 0.0189 Loss_Val: 12.83980013370514\n",
            "\n",
            "Epoch: 69/199 Loss_Train: 0.48889145255088806\n",
            "Accuracy: 0.0189 Loss_Val: 13.040276970863342\n",
            "\n",
            "Epoch: 70/199 Loss_Train: 0.5450702905654907\n",
            "Accuracy: 0.0176 Loss_Val: 12.954100227355957\n",
            "\n",
            "Epoch: 71/199 Loss_Train: 0.5450702905654907\n",
            "Accuracy: 0.0176 Loss_Val: 12.96991792678833\n",
            "\n",
            "Epoch: 72/199 Loss_Train: 0.5014716982841492\n",
            "Accuracy: 0.020099999999999996 Loss_Val: 13.111561160087586\n",
            "\n",
            "Epoch: 73/199 Loss_Train: 0.5014716982841492\n",
            "Accuracy: 0.020099999999999996 Loss_Val: 13.193229837417602\n",
            "\n",
            "Epoch: 74/199 Loss_Train: 0.4383748173713684\n",
            "Accuracy: 0.020700000000000003 Loss_Val: 13.403470339775085\n",
            "\n",
            "Epoch: 75/199 Loss_Train: 0.4383748173713684\n",
            "Accuracy: 0.020700000000000003 Loss_Val: 13.506058621406556\n",
            "\n",
            "Epoch: 76/199 Loss_Train: 0.483714759349823\n",
            "Accuracy: 0.0208 Loss_Val: 13.744779243469239\n",
            "\n",
            "Epoch: 77/199 Loss_Train: 0.483714759349823\n",
            "Accuracy: 0.0208 Loss_Val: 13.697001943588257\n",
            "\n",
            "Epoch: 78/199 Loss_Train: 0.3205830752849579\n",
            "Accuracy: 0.0213 Loss_Val: 13.486901273727417\n",
            "\n",
            "Epoch: 79/199 Loss_Train: 0.3205830752849579\n",
            "Accuracy: 0.0213 Loss_Val: 13.452845721244811\n",
            "\n",
            "Epoch: 80/199 Loss_Train: 0.28542107343673706\n",
            "Accuracy: 0.022199999999999998 Loss_Val: 13.576619305610656\n",
            "\n",
            "Epoch: 81/199 Loss_Train: 0.28542107343673706\n",
            "Accuracy: 0.022199999999999998 Loss_Val: 13.767746286392212\n",
            "\n",
            "Epoch: 82/199 Loss_Train: 0.3812226951122284\n",
            "Accuracy: 0.022300000000000004 Loss_Val: 13.799414110183715\n",
            "\n",
            "Epoch: 83/199 Loss_Train: 0.3812226951122284\n",
            "Accuracy: 0.022300000000000004 Loss_Val: 13.634011936187743\n",
            "\n",
            "Epoch: 84/199 Loss_Train: 0.3007613718509674\n",
            "Accuracy: 0.0242 Loss_Val: 13.353623337745667\n",
            "\n",
            "Epoch: 85/199 Loss_Train: 0.3007613718509674\n",
            "Accuracy: 0.0242 Loss_Val: 13.424189472198487\n",
            "\n",
            "Epoch: 86/199 Loss_Train: 0.21122142672538757\n",
            "Accuracy: 0.0225 Loss_Val: 13.818804659843444\n",
            "\n",
            "Epoch: 87/199 Loss_Train: 0.21122142672538757\n",
            "Accuracy: 0.0225 Loss_Val: 14.043733630180359\n",
            "\n",
            "Epoch: 88/199 Loss_Train: 0.4091094136238098\n",
            "Accuracy: 0.023000000000000003 Loss_Val: 14.167096157073974\n",
            "\n",
            "Epoch: 89/199 Loss_Train: 0.4091094136238098\n",
            "Accuracy: 0.023000000000000003 Loss_Val: 14.27552665233612\n",
            "\n",
            "Epoch: 90/199 Loss_Train: 0.3222637474536896\n",
            "Accuracy: 0.0222 Loss_Val: 14.034267854690551\n",
            "\n",
            "Epoch: 91/199 Loss_Train: 0.3222637474536896\n",
            "Accuracy: 0.0222 Loss_Val: 13.916630897521973\n",
            "\n",
            "Epoch: 92/199 Loss_Train: 0.3302375078201294\n",
            "Accuracy: 0.0231 Loss_Val: 13.949865193367005\n",
            "\n",
            "Epoch: 93/199 Loss_Train: 0.3302375078201294\n",
            "Accuracy: 0.0231 Loss_Val: 13.81642318725586\n",
            "\n",
            "Epoch: 94/199 Loss_Train: 0.2721295952796936\n",
            "Accuracy: 0.023899999999999998 Loss_Val: 13.689467067718505\n",
            "\n",
            "Epoch: 95/199 Loss_Train: 0.2721295952796936\n",
            "Accuracy: 0.023899999999999998 Loss_Val: 13.50405764579773\n",
            "\n",
            "Epoch: 96/199 Loss_Train: 0.5826261043548584\n",
            "Accuracy: 0.0245 Loss_Val: 13.470642805099487\n",
            "\n",
            "Epoch: 97/199 Loss_Train: 0.5826261043548584\n",
            "Accuracy: 0.0245 Loss_Val: 13.506118021011353\n",
            "\n",
            "Epoch: 98/199 Loss_Train: 0.19552570581436157\n",
            "Accuracy: 0.0216 Loss_Val: 13.445663404464721\n",
            "\n",
            "Epoch: 99/199 Loss_Train: 0.19552570581436157\n",
            "Accuracy: 0.0216 Loss_Val: 13.237520184516907\n",
            "\n",
            "Epoch: 100/199 Loss_Train: 0.2416803389787674\n",
            "Accuracy: 0.021400000000000002 Loss_Val: 13.401883492469787\n",
            "\n",
            "Epoch: 101/199 Loss_Train: 0.2416803389787674\n",
            "Accuracy: 0.021400000000000002 Loss_Val: 13.581099839210511\n",
            "\n",
            "Epoch: 102/199 Loss_Train: 0.29322123527526855\n",
            "Accuracy: 0.0192 Loss_Val: 13.801037912368775\n",
            "\n",
            "Epoch: 103/199 Loss_Train: 0.29322123527526855\n",
            "Accuracy: 0.0192 Loss_Val: 14.005977563858032\n",
            "\n",
            "Epoch: 104/199 Loss_Train: 0.22822263836860657\n",
            "Accuracy: 0.019799999999999998 Loss_Val: 14.169737505912781\n",
            "\n",
            "Epoch: 105/199 Loss_Train: 0.22822263836860657\n",
            "Accuracy: 0.019799999999999998 Loss_Val: 14.176718864440918\n",
            "\n",
            "Epoch: 106/199 Loss_Train: 0.3363681733608246\n",
            "Accuracy: 0.020900000000000002 Loss_Val: 14.127603154182435\n",
            "\n",
            "Epoch: 107/199 Loss_Train: 0.3363681733608246\n",
            "Accuracy: 0.020900000000000002 Loss_Val: 14.241939754486085\n",
            "\n",
            "Epoch: 108/199 Loss_Train: 0.2872839868068695\n",
            "Accuracy: 0.021399999999999995 Loss_Val: 14.259454827308655\n",
            "\n",
            "Epoch: 109/199 Loss_Train: 0.2872839868068695\n",
            "Accuracy: 0.021399999999999995 Loss_Val: 14.167090787887574\n",
            "\n",
            "Epoch: 110/199 Loss_Train: 0.3273909389972687\n",
            "Accuracy: 0.0225 Loss_Val: 14.386370129585266\n",
            "\n",
            "Epoch: 111/199 Loss_Train: 0.3273909389972687\n",
            "Accuracy: 0.0225 Loss_Val: 14.465734524726868\n",
            "\n",
            "Epoch: 112/199 Loss_Train: 0.14970749616622925\n",
            "Accuracy: 0.025 Loss_Val: 14.340903930664062\n",
            "\n",
            "Epoch: 113/199 Loss_Train: 0.14970749616622925\n",
            "Accuracy: 0.025 Loss_Val: 14.235207376480103\n",
            "\n",
            "Epoch: 114/199 Loss_Train: 0.31004610657691956\n",
            "Accuracy: 0.0258 Loss_Val: 14.187985830307007\n",
            "\n",
            "Epoch: 115/199 Loss_Train: 0.31004610657691956\n",
            "Accuracy: 0.0258 Loss_Val: 14.163972792625428\n",
            "\n",
            "Epoch: 116/199 Loss_Train: 0.17377634346485138\n",
            "Accuracy: 0.0253 Loss_Val: 14.20166672706604\n",
            "\n",
            "Epoch: 117/199 Loss_Train: 0.17377634346485138\n",
            "Accuracy: 0.0253 Loss_Val: 14.276420598030091\n",
            "\n",
            "Epoch: 118/199 Loss_Train: 0.4807854890823364\n",
            "Accuracy: 0.0225 Loss_Val: 14.359101557731629\n",
            "\n",
            "Epoch: 119/199 Loss_Train: 0.4807854890823364\n",
            "Accuracy: 0.0225 Loss_Val: 14.377311315536499\n",
            "\n",
            "Epoch: 120/199 Loss_Train: 0.19819867610931396\n",
            "Accuracy: 0.020300000000000002 Loss_Val: 14.458155989646912\n",
            "\n",
            "Epoch: 121/199 Loss_Train: 0.19819867610931396\n",
            "Accuracy: 0.020300000000000002 Loss_Val: 14.466538014411926\n",
            "\n",
            "Epoch: 122/199 Loss_Train: 0.0825008898973465\n",
            "Accuracy: 0.018799999999999997 Loss_Val: 14.521150960922242\n",
            "\n",
            "Epoch: 123/199 Loss_Train: 0.0825008898973465\n",
            "Accuracy: 0.018799999999999997 Loss_Val: 14.486655330657959\n",
            "\n",
            "Epoch: 124/199 Loss_Train: 0.24860993027687073\n",
            "Accuracy: 0.0186 Loss_Val: 14.430071940422058\n",
            "\n",
            "Epoch: 125/199 Loss_Train: 0.24860993027687073\n",
            "Accuracy: 0.0186 Loss_Val: 14.411298475265504\n",
            "\n",
            "Epoch: 126/199 Loss_Train: 0.12733259797096252\n",
            "Accuracy: 0.0184 Loss_Val: 14.337345967292785\n",
            "\n",
            "Epoch: 127/199 Loss_Train: 0.12733259797096252\n",
            "Accuracy: 0.0184 Loss_Val: 14.390337405204773\n",
            "\n",
            "Epoch: 128/199 Loss_Train: 0.13689380884170532\n",
            "Accuracy: 0.020099999999999996 Loss_Val: 14.571977725028992\n",
            "\n",
            "Epoch: 129/199 Loss_Train: 0.13689380884170532\n",
            "Accuracy: 0.020099999999999996 Loss_Val: 14.768425908088684\n",
            "\n",
            "Epoch: 130/199 Loss_Train: 0.10148798674345016\n",
            "Accuracy: 0.0213 Loss_Val: 14.817876925468445\n",
            "\n",
            "Epoch: 131/199 Loss_Train: 0.10148798674345016\n",
            "Accuracy: 0.0213 Loss_Val: 14.866361360549927\n",
            "\n",
            "Epoch: 132/199 Loss_Train: 0.07113856822252274\n",
            "Accuracy: 0.0206 Loss_Val: 15.0126979970932\n",
            "\n",
            "Epoch: 133/199 Loss_Train: 0.07113856822252274\n",
            "Accuracy: 0.0206 Loss_Val: 14.991679420471192\n",
            "\n",
            "Epoch: 134/199 Loss_Train: 0.13042405247688293\n",
            "Accuracy: 0.022 Loss_Val: 14.99310558795929\n",
            "\n",
            "Epoch: 135/199 Loss_Train: 0.13042405247688293\n",
            "Accuracy: 0.022 Loss_Val: 14.881355729103088\n",
            "\n",
            "Epoch: 136/199 Loss_Train: 0.1282324641942978\n",
            "Accuracy: 0.0229 Loss_Val: 14.61329565525055\n",
            "\n",
            "Epoch: 137/199 Loss_Train: 0.1282324641942978\n",
            "Accuracy: 0.0229 Loss_Val: 14.47627863407135\n",
            "\n",
            "Epoch: 138/199 Loss_Train: 0.1014074981212616\n",
            "Accuracy: 0.023200000000000002 Loss_Val: 14.49148684978485\n",
            "\n",
            "Epoch: 139/199 Loss_Train: 0.1014074981212616\n",
            "Accuracy: 0.023200000000000002 Loss_Val: 14.46312331199646\n",
            "\n",
            "Epoch: 140/199 Loss_Train: 0.08213348686695099\n",
            "Accuracy: 0.023499999999999997 Loss_Val: 14.44214189529419\n",
            "\n",
            "Epoch: 141/199 Loss_Train: 0.08213348686695099\n",
            "Accuracy: 0.023499999999999997 Loss_Val: 14.381452593803406\n",
            "\n",
            "Epoch: 142/199 Loss_Train: 0.06683962792158127\n",
            "Accuracy: 0.0241 Loss_Val: 14.238426585197448\n",
            "\n",
            "Epoch: 143/199 Loss_Train: 0.06683962792158127\n",
            "Accuracy: 0.0241 Loss_Val: 14.256278142929077\n",
            "\n",
            "Epoch: 144/199 Loss_Train: 0.1875470131635666\n",
            "Accuracy: 0.0242 Loss_Val: 14.46285816192627\n",
            "\n",
            "Epoch: 145/199 Loss_Train: 0.1875470131635666\n",
            "Accuracy: 0.0242 Loss_Val: 14.554836077690124\n",
            "\n",
            "Epoch: 146/199 Loss_Train: 0.10736384242773056\n",
            "Accuracy: 0.023899999999999998 Loss_Val: 14.601898174285889\n",
            "\n",
            "Epoch: 147/199 Loss_Train: 0.10736384242773056\n",
            "Accuracy: 0.023899999999999998 Loss_Val: 14.677881774902344\n",
            "\n",
            "Epoch: 148/199 Loss_Train: 0.1587628275156021\n",
            "Accuracy: 0.0239 Loss_Val: 14.771708831787109\n",
            "\n",
            "Epoch: 149/199 Loss_Train: 0.1587628275156021\n",
            "Accuracy: 0.0239 Loss_Val: 14.763291974067688\n",
            "\n",
            "Epoch: 150/199 Loss_Train: 0.12164202332496643\n",
            "Accuracy: 0.0235 Loss_Val: 14.641448616981506\n",
            "\n",
            "Epoch: 151/199 Loss_Train: 0.12164202332496643\n",
            "Accuracy: 0.0235 Loss_Val: 14.839128007888794\n",
            "\n",
            "Epoch: 152/199 Loss_Train: 0.11071363091468811\n",
            "Accuracy: 0.0216 Loss_Val: 15.095187711715699\n",
            "\n",
            "Epoch: 153/199 Loss_Train: 0.11071363091468811\n",
            "Accuracy: 0.0216 Loss_Val: 15.21703441619873\n",
            "\n",
            "Epoch: 154/199 Loss_Train: 0.05351559817790985\n",
            "Accuracy: 0.020099999999999996 Loss_Val: 14.978091230392456\n",
            "\n",
            "Epoch: 155/199 Loss_Train: 0.05351559817790985\n",
            "Accuracy: 0.020099999999999996 Loss_Val: 14.59141562461853\n",
            "\n",
            "Epoch: 156/199 Loss_Train: 0.026939446106553078\n",
            "Accuracy: 0.019200000000000002 Loss_Val: 14.272532849311828\n",
            "\n",
            "Epoch: 157/199 Loss_Train: 0.026939446106553078\n",
            "Accuracy: 0.019200000000000002 Loss_Val: 14.12326271057129\n",
            "\n",
            "Epoch: 158/199 Loss_Train: 0.09548468887805939\n",
            "Accuracy: 0.021099999999999997 Loss_Val: 14.152565979957581\n",
            "\n",
            "Epoch: 159/199 Loss_Train: 0.09548468887805939\n",
            "Accuracy: 0.022399999999999996 Loss_Val: 14.27030566215515\n"
          ]
        },
        {
          "output_type": "stream",
          "name": "stderr",
          "text": [
            "Training: 100%|██████████| 2/2 [00:00<00:00,  6.00it/s]\n"
          ]
        },
        {
          "output_type": "stream",
          "name": "stdout",
          "text": [
            "Epoch: 160/199 Loss_Train: 0.19938720762729645\n",
            "Accuracy: 0.023700000000000002 Loss_Val: 14.350396761894226\n"
          ]
        },
        {
          "output_type": "stream",
          "name": "stderr",
          "text": [
            "Training: 100%|██████████| 2/2 [00:00<00:00, 14.65it/s]\n"
          ]
        },
        {
          "output_type": "stream",
          "name": "stdout",
          "text": [
            "Epoch: 161/199 Loss_Train: 0.01886439323425293\n",
            "Accuracy: 0.025099999999999997 Loss_Val: 14.429073567390441\n"
          ]
        },
        {
          "output_type": "stream",
          "name": "stderr",
          "text": [
            "Training: 100%|██████████| 2/2 [00:00<00:00, 14.68it/s]\n"
          ]
        },
        {
          "output_type": "stream",
          "name": "stdout",
          "text": [
            "Epoch: 162/199 Loss_Train: 0.14659951627254486\n",
            "Accuracy: 0.023600000000000003 Loss_Val: 14.676645069122314\n"
          ]
        },
        {
          "output_type": "stream",
          "name": "stderr",
          "text": [
            "Training: 100%|██████████| 2/2 [00:00<00:00, 16.34it/s]\n"
          ]
        },
        {
          "output_type": "stream",
          "name": "stdout",
          "text": [
            "Epoch: 163/199 Loss_Train: 0.03784293308854103\n",
            "Accuracy: 0.024400000000000005 Loss_Val: 14.712734565734863\n"
          ]
        },
        {
          "output_type": "stream",
          "name": "stderr",
          "text": [
            "Training: 100%|██████████| 2/2 [00:00<00:00, 14.17it/s]\n"
          ]
        },
        {
          "output_type": "stream",
          "name": "stdout",
          "text": [
            "Epoch: 164/199 Loss_Train: 0.05338511988520622\n",
            "Accuracy: 0.0233 Loss_Val: 14.857229561805726\n"
          ]
        },
        {
          "output_type": "stream",
          "name": "stderr",
          "text": [
            "Training: 100%|██████████| 2/2 [00:00<00:00, 13.30it/s]\n"
          ]
        },
        {
          "output_type": "stream",
          "name": "stdout",
          "text": [
            "Epoch: 165/199 Loss_Train: 0.06075378879904747\n",
            "Accuracy: 0.0227 Loss_Val: 15.033463006019593\n"
          ]
        },
        {
          "output_type": "stream",
          "name": "stderr",
          "text": [
            "Training: 100%|██████████| 2/2 [00:00<00:00, 15.11it/s]\n"
          ]
        },
        {
          "output_type": "stream",
          "name": "stdout",
          "text": [
            "Epoch: 166/199 Loss_Train: 0.1190563514828682\n",
            "Accuracy: 0.0229 Loss_Val: 15.101231780052185\n"
          ]
        },
        {
          "output_type": "stream",
          "name": "stderr",
          "text": [
            "Training: 100%|██████████| 2/2 [00:00<00:00, 14.44it/s]\n"
          ]
        },
        {
          "output_type": "stream",
          "name": "stdout",
          "text": [
            "Epoch: 167/199 Loss_Train: 0.04838274419307709\n",
            "Accuracy: 0.023700000000000002 Loss_Val: 15.124297471046448\n"
          ]
        },
        {
          "output_type": "stream",
          "name": "stderr",
          "text": [
            "Training: 100%|██████████| 2/2 [00:00<00:00, 16.75it/s]\n"
          ]
        },
        {
          "output_type": "stream",
          "name": "stdout",
          "text": [
            "Epoch: 168/199 Loss_Train: 0.03600563481450081\n",
            "Accuracy: 0.025 Loss_Val: 15.149025435447692\n"
          ]
        },
        {
          "output_type": "stream",
          "name": "stderr",
          "text": [
            "Training: 100%|██████████| 2/2 [00:00<00:00, 12.63it/s]\n"
          ]
        },
        {
          "output_type": "stream",
          "name": "stdout",
          "text": [
            "Epoch: 169/199 Loss_Train: 0.0733109638094902\n",
            "Accuracy: 0.0219 Loss_Val: 15.236350865364075\n"
          ]
        },
        {
          "output_type": "stream",
          "name": "stderr",
          "text": [
            "Training: 100%|██████████| 2/2 [00:00<00:00, 17.78it/s]\n"
          ]
        },
        {
          "output_type": "stream",
          "name": "stdout",
          "text": [
            "Epoch: 170/199 Loss_Train: 0.28926438093185425\n",
            "Accuracy: 0.021 Loss_Val: 15.25120092868805\n"
          ]
        },
        {
          "output_type": "stream",
          "name": "stderr",
          "text": [
            "Training: 100%|██████████| 2/2 [00:00<00:00, 15.36it/s]\n"
          ]
        },
        {
          "output_type": "stream",
          "name": "stdout",
          "text": [
            "Epoch: 171/199 Loss_Train: 0.19848321378231049\n",
            "Accuracy: 0.023200000000000002 Loss_Val: 15.066821880340576\n"
          ]
        },
        {
          "output_type": "stream",
          "name": "stderr",
          "text": [
            "Training: 100%|██████████| 2/2 [00:00<00:00, 14.50it/s]\n"
          ]
        },
        {
          "output_type": "stream",
          "name": "stdout",
          "text": [
            "Epoch: 172/199 Loss_Train: 0.09355777502059937\n",
            "Accuracy: 0.0245 Loss_Val: 14.844771847724914\n"
          ]
        },
        {
          "output_type": "stream",
          "name": "stderr",
          "text": [
            "Training: 100%|██████████| 2/2 [00:00<00:00, 16.57it/s]\n"
          ]
        },
        {
          "output_type": "stream",
          "name": "stdout",
          "text": [
            "Epoch: 173/199 Loss_Train: 0.11530893296003342\n",
            "Accuracy: 0.024400000000000005 Loss_Val: 14.478031878471375\n"
          ]
        },
        {
          "output_type": "stream",
          "name": "stderr",
          "text": [
            "Training: 100%|██████████| 2/2 [00:00<00:00, 15.38it/s]\n"
          ]
        },
        {
          "output_type": "stream",
          "name": "stdout",
          "text": [
            "Epoch: 174/199 Loss_Train: 0.04155409336090088\n",
            "Accuracy: 0.026000000000000002 Loss_Val: 14.306381387710571\n"
          ]
        },
        {
          "output_type": "stream",
          "name": "stderr",
          "text": [
            "Training: 100%|██████████| 2/2 [00:00<00:00, 14.69it/s]\n"
          ]
        },
        {
          "output_type": "stream",
          "name": "stdout",
          "text": [
            "Epoch: 175/199 Loss_Train: 0.14302295446395874\n",
            "Accuracy: 0.0235 Loss_Val: 14.382049841880798\n"
          ]
        },
        {
          "output_type": "stream",
          "name": "stderr",
          "text": [
            "Training: 100%|██████████| 2/2 [00:00<00:00, 15.96it/s]\n"
          ]
        },
        {
          "output_type": "stream",
          "name": "stdout",
          "text": [
            "Epoch: 176/199 Loss_Train: 0.10714170336723328\n",
            "Accuracy: 0.0246 Loss_Val: 14.44851505279541\n"
          ]
        },
        {
          "output_type": "stream",
          "name": "stderr",
          "text": [
            "Training: 100%|██████████| 2/2 [00:00<00:00, 18.82it/s]\n"
          ]
        },
        {
          "output_type": "stream",
          "name": "stdout",
          "text": [
            "Epoch: 177/199 Loss_Train: 0.32913002371788025\n",
            "Accuracy: 0.023600000000000003 Loss_Val: 14.645994400978088\n"
          ]
        },
        {
          "output_type": "stream",
          "name": "stderr",
          "text": [
            "Training: 100%|██████████| 2/2 [00:00<00:00, 17.99it/s]\n"
          ]
        },
        {
          "output_type": "stream",
          "name": "stdout",
          "text": [
            "Epoch: 178/199 Loss_Train: 0.059107426553964615\n",
            "Accuracy: 0.0231 Loss_Val: 14.774455652236938\n"
          ]
        },
        {
          "output_type": "stream",
          "name": "stderr",
          "text": [
            "Training: 100%|██████████| 2/2 [00:00<00:00, 15.34it/s]\n"
          ]
        },
        {
          "output_type": "stream",
          "name": "stdout",
          "text": [
            "Epoch: 179/199 Loss_Train: 0.05713767185807228\n",
            "Accuracy: 0.022400000000000003 Loss_Val: 14.880974397659301\n"
          ]
        },
        {
          "output_type": "stream",
          "name": "stderr",
          "text": [
            "Training: 100%|██████████| 2/2 [00:00<00:00, 14.91it/s]\n"
          ]
        },
        {
          "output_type": "stream",
          "name": "stdout",
          "text": [
            "Epoch: 180/199 Loss_Train: 0.11276865005493164\n",
            "Accuracy: 0.023700000000000002 Loss_Val: 14.729327387809754\n"
          ]
        },
        {
          "output_type": "stream",
          "name": "stderr",
          "text": [
            "Training: 100%|██████████| 2/2 [00:00<00:00, 14.59it/s]\n"
          ]
        },
        {
          "output_type": "stream",
          "name": "stdout",
          "text": [
            "Epoch: 181/199 Loss_Train: 0.02763470634818077\n",
            "Accuracy: 0.024900000000000002 Loss_Val: 14.72214469909668\n"
          ]
        },
        {
          "output_type": "stream",
          "name": "stderr",
          "text": [
            "Training: 100%|██████████| 2/2 [00:00<00:00, 18.59it/s]\n"
          ]
        },
        {
          "output_type": "stream",
          "name": "stdout",
          "text": [
            "Epoch: 182/199 Loss_Train: 0.036391470581293106\n",
            "Accuracy: 0.0245 Loss_Val: 14.72396427154541\n"
          ]
        },
        {
          "output_type": "stream",
          "name": "stderr",
          "text": [
            "Training: 100%|██████████| 2/2 [00:00<00:00, 15.56it/s]\n"
          ]
        },
        {
          "output_type": "stream",
          "name": "stdout",
          "text": [
            "Epoch: 183/199 Loss_Train: 0.09516175091266632\n",
            "Accuracy: 0.0239 Loss_Val: 14.85663148880005\n"
          ]
        },
        {
          "output_type": "stream",
          "name": "stderr",
          "text": [
            "Training: 100%|██████████| 2/2 [00:00<00:00, 17.58it/s]\n"
          ]
        },
        {
          "output_type": "stream",
          "name": "stdout",
          "text": [
            "Epoch: 184/199 Loss_Train: 0.027705008164048195\n",
            "Accuracy: 0.0242 Loss_Val: 15.027773671150207\n"
          ]
        },
        {
          "output_type": "stream",
          "name": "stderr",
          "text": [
            "Training: 100%|██████████| 2/2 [00:00<00:00, 15.25it/s]\n"
          ]
        },
        {
          "output_type": "stream",
          "name": "stdout",
          "text": [
            "Epoch: 185/199 Loss_Train: 0.2343713343143463\n",
            "Accuracy: 0.025300000000000003 Loss_Val: 15.164503555297852\n"
          ]
        },
        {
          "output_type": "stream",
          "name": "stderr",
          "text": [
            "Training: 100%|██████████| 2/2 [00:00<00:00, 15.31it/s]\n"
          ]
        },
        {
          "output_type": "stream",
          "name": "stdout",
          "text": [
            "Epoch: 186/199 Loss_Train: 0.0971754863858223\n",
            "Accuracy: 0.0248 Loss_Val: 15.306070852279664\n"
          ]
        },
        {
          "output_type": "stream",
          "name": "stderr",
          "text": [
            "Training: 100%|██████████| 2/2 [00:00<00:00, 14.63it/s]\n"
          ]
        },
        {
          "output_type": "stream",
          "name": "stdout",
          "text": [
            "Epoch: 187/199 Loss_Train: 0.033350538462400436\n",
            "Accuracy: 0.0239 Loss_Val: 15.312400059700012\n"
          ]
        },
        {
          "output_type": "stream",
          "name": "stderr",
          "text": [
            "Training: 100%|██████████| 2/2 [00:00<00:00, 18.07it/s]\n"
          ]
        },
        {
          "output_type": "stream",
          "name": "stdout",
          "text": [
            "Epoch: 188/199 Loss_Train: 0.04605039209127426\n",
            "Accuracy: 0.023399999999999997 Loss_Val: 15.440758261680603\n"
          ]
        },
        {
          "output_type": "stream",
          "name": "stderr",
          "text": [
            "Training: 100%|██████████| 2/2 [00:00<00:00, 15.27it/s]\n"
          ]
        },
        {
          "output_type": "stream",
          "name": "stdout",
          "text": [
            "Epoch: 189/199 Loss_Train: 0.025596288964152336\n",
            "Accuracy: 0.023 Loss_Val: 15.542986617088317\n"
          ]
        },
        {
          "output_type": "stream",
          "name": "stderr",
          "text": [
            "Training: 100%|██████████| 2/2 [00:00<00:00, 11.32it/s]\n"
          ]
        },
        {
          "output_type": "stream",
          "name": "stdout",
          "text": [
            "Epoch: 190/199 Loss_Train: 0.018464302644133568\n",
            "Accuracy: 0.023200000000000002 Loss_Val: 15.647384867668151\n"
          ]
        },
        {
          "output_type": "stream",
          "name": "stderr",
          "text": [
            "Training: 100%|██████████| 2/2 [00:00<00:00, 15.95it/s]\n"
          ]
        },
        {
          "output_type": "stream",
          "name": "stdout",
          "text": [
            "Epoch: 191/199 Loss_Train: 0.02190081775188446\n",
            "Accuracy: 0.0228 Loss_Val: 15.672776260375976\n"
          ]
        },
        {
          "output_type": "stream",
          "name": "stderr",
          "text": [
            "Training: 100%|██████████| 2/2 [00:00<00:00, 14.92it/s]\n"
          ]
        },
        {
          "output_type": "stream",
          "name": "stdout",
          "text": [
            "Epoch: 192/199 Loss_Train: 0.08044251799583435\n",
            "Accuracy: 0.023600000000000003 Loss_Val: 15.408194899559021\n"
          ]
        },
        {
          "output_type": "stream",
          "name": "stderr",
          "text": [
            "Training: 100%|██████████| 2/2 [00:00<00:00, 15.12it/s]\n"
          ]
        },
        {
          "output_type": "stream",
          "name": "stdout",
          "text": [
            "Epoch: 193/199 Loss_Train: 0.04907418414950371\n",
            "Accuracy: 0.023600000000000003 Loss_Val: 15.305427746772766\n"
          ]
        },
        {
          "output_type": "stream",
          "name": "stderr",
          "text": [
            "Training: 100%|██████████| 2/2 [00:00<00:00, 15.54it/s]\n"
          ]
        },
        {
          "output_type": "stream",
          "name": "stdout",
          "text": [
            "Epoch: 194/199 Loss_Train: 0.23073835670948029\n",
            "Accuracy: 0.023799999999999998 Loss_Val: 15.401150503158568\n"
          ]
        },
        {
          "output_type": "stream",
          "name": "stderr",
          "text": [
            "Training: 100%|██████████| 2/2 [00:00<00:00, 15.42it/s]\n"
          ]
        },
        {
          "output_type": "stream",
          "name": "stdout",
          "text": [
            "Epoch: 195/199 Loss_Train: 0.07585159689188004\n",
            "Accuracy: 0.0239 Loss_Val: 15.549000597000122\n"
          ]
        },
        {
          "output_type": "stream",
          "name": "stderr",
          "text": [
            "Training: 100%|██████████| 2/2 [00:00<00:00, 17.08it/s]\n"
          ]
        },
        {
          "output_type": "stream",
          "name": "stdout",
          "text": [
            "Epoch: 196/199 Loss_Train: 0.04125572368502617\n",
            "Accuracy: 0.023600000000000003 Loss_Val: 15.718348054885864\n"
          ]
        },
        {
          "output_type": "stream",
          "name": "stderr",
          "text": [
            "Training: 100%|██████████| 2/2 [00:00<00:00, 15.81it/s]\n"
          ]
        },
        {
          "output_type": "stream",
          "name": "stdout",
          "text": [
            "Epoch: 197/199 Loss_Train: 0.27505406737327576\n",
            "Accuracy: 0.022799999999999997 Loss_Val: 15.587585005760193\n"
          ]
        },
        {
          "output_type": "stream",
          "name": "stderr",
          "text": [
            "Training: 100%|██████████| 2/2 [00:00<00:00, 15.35it/s]\n"
          ]
        },
        {
          "output_type": "stream",
          "name": "stdout",
          "text": [
            "Epoch: 198/199 Loss_Train: 0.03509356826543808\n",
            "Accuracy: 0.023799999999999998 Loss_Val: 15.31504289150238\n"
          ]
        },
        {
          "output_type": "stream",
          "name": "stderr",
          "text": [
            "Training: 100%|██████████| 2/2 [00:00<00:00, 14.14it/s]\n"
          ]
        },
        {
          "output_type": "stream",
          "name": "stdout",
          "text": [
            "Epoch: 199/199 Loss_Train: 0.024032514542341232\n",
            "Accuracy: 0.024900000000000002 Loss_Val: 15.237982416152954\n"
          ]
        }
      ]
    },
    {
      "cell_type": "code",
      "source": [
        "test_loader = DataLoader(test_dataset, batch_size=batch_size)\n",
        "\n",
        "with torch.no_grad():\n",
        "    loss_accuracy = [validation_step(val_input_ids.to(device), val_target_ids.to(device))\n",
        "        for val_input_ids, val_target_ids in val_dataloader]\n",
        "        \n",
        "    mean_accuracy = np.array(loss_accuracy)[:,0].mean()\n",
        "    mean_loss = np.array(loss_accuracy)[:,1].mean()\n",
        "\n",
        "print(f'TEST: Accuracy: {mean_accuracy} Loss_Val: {mean_loss}')"
      ],
      "metadata": {
        "id": "WGqEsYrN75vq"
      },
      "execution_count": null,
      "outputs": []
    }
  ]
}