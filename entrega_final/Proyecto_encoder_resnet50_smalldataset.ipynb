{
  "nbformat": 4,
  "nbformat_minor": 0,
  "metadata": {
    "colab": {
      "name": "Proyecto_encoder_resnet50",
      "provenance": [],
      "collapsed_sections": [],
      "include_colab_link": true
    },
    "kernelspec": {
      "name": "python3",
      "display_name": "Python 3"
    },
    "language_info": {
      "name": "python"
    },
    "accelerator": "GPU",
    "gpuClass": "standard",
    "widgets": {
      "application/vnd.jupyter.widget-state+json": {
        "7fcd0d9f6b184f28a1183e427f72b63b": {
          "model_module": "@jupyter-widgets/controls",
          "model_name": "HBoxModel",
          "model_module_version": "1.5.0",
          "state": {
            "_dom_classes": [],
            "_model_module": "@jupyter-widgets/controls",
            "_model_module_version": "1.5.0",
            "_model_name": "HBoxModel",
            "_view_count": null,
            "_view_module": "@jupyter-widgets/controls",
            "_view_module_version": "1.5.0",
            "_view_name": "HBoxView",
            "box_style": "",
            "children": [
              "IPY_MODEL_a8e90e0ab08d49698b2ea0e9a5a23f6a",
              "IPY_MODEL_46d31b8a4fbd4ddea2c1b4d067984251",
              "IPY_MODEL_9f7520309e374fa58a665e8cd36f89f5"
            ],
            "layout": "IPY_MODEL_07a819ad6fc747729167c2a8de02b47d"
          }
        },
        "a8e90e0ab08d49698b2ea0e9a5a23f6a": {
          "model_module": "@jupyter-widgets/controls",
          "model_name": "HTMLModel",
          "model_module_version": "1.5.0",
          "state": {
            "_dom_classes": [],
            "_model_module": "@jupyter-widgets/controls",
            "_model_module_version": "1.5.0",
            "_model_name": "HTMLModel",
            "_view_count": null,
            "_view_module": "@jupyter-widgets/controls",
            "_view_module_version": "1.5.0",
            "_view_name": "HTMLView",
            "description": "",
            "description_tooltip": null,
            "layout": "IPY_MODEL_b2b7d2ac391f4c7c977f5a348d3c2e60",
            "placeholder": "​",
            "style": "IPY_MODEL_3f40a1ad79f44786b7e2a2733817dc0f",
            "value": "100%"
          }
        },
        "46d31b8a4fbd4ddea2c1b4d067984251": {
          "model_module": "@jupyter-widgets/controls",
          "model_name": "FloatProgressModel",
          "model_module_version": "1.5.0",
          "state": {
            "_dom_classes": [],
            "_model_module": "@jupyter-widgets/controls",
            "_model_module_version": "1.5.0",
            "_model_name": "FloatProgressModel",
            "_view_count": null,
            "_view_module": "@jupyter-widgets/controls",
            "_view_module_version": "1.5.0",
            "_view_name": "ProgressView",
            "bar_style": "success",
            "description": "",
            "description_tooltip": null,
            "layout": "IPY_MODEL_73bb78c6232440b3b7815d0bb7cd3400",
            "max": 169001437,
            "min": 0,
            "orientation": "horizontal",
            "style": "IPY_MODEL_0fde27f70da5497b97fb8b3562b86aab",
            "value": 169001437
          }
        },
        "9f7520309e374fa58a665e8cd36f89f5": {
          "model_module": "@jupyter-widgets/controls",
          "model_name": "HTMLModel",
          "model_module_version": "1.5.0",
          "state": {
            "_dom_classes": [],
            "_model_module": "@jupyter-widgets/controls",
            "_model_module_version": "1.5.0",
            "_model_name": "HTMLModel",
            "_view_count": null,
            "_view_module": "@jupyter-widgets/controls",
            "_view_module_version": "1.5.0",
            "_view_name": "HTMLView",
            "description": "",
            "description_tooltip": null,
            "layout": "IPY_MODEL_6accdde542e7452297cd814d56865d3d",
            "placeholder": "​",
            "style": "IPY_MODEL_709e8948cdca46c39b52e56a74f05587",
            "value": " 169001437/169001437 [00:03&lt;00:00, 53039611.54it/s]"
          }
        },
        "07a819ad6fc747729167c2a8de02b47d": {
          "model_module": "@jupyter-widgets/base",
          "model_name": "LayoutModel",
          "model_module_version": "1.2.0",
          "state": {
            "_model_module": "@jupyter-widgets/base",
            "_model_module_version": "1.2.0",
            "_model_name": "LayoutModel",
            "_view_count": null,
            "_view_module": "@jupyter-widgets/base",
            "_view_module_version": "1.2.0",
            "_view_name": "LayoutView",
            "align_content": null,
            "align_items": null,
            "align_self": null,
            "border": null,
            "bottom": null,
            "display": null,
            "flex": null,
            "flex_flow": null,
            "grid_area": null,
            "grid_auto_columns": null,
            "grid_auto_flow": null,
            "grid_auto_rows": null,
            "grid_column": null,
            "grid_gap": null,
            "grid_row": null,
            "grid_template_areas": null,
            "grid_template_columns": null,
            "grid_template_rows": null,
            "height": null,
            "justify_content": null,
            "justify_items": null,
            "left": null,
            "margin": null,
            "max_height": null,
            "max_width": null,
            "min_height": null,
            "min_width": null,
            "object_fit": null,
            "object_position": null,
            "order": null,
            "overflow": null,
            "overflow_x": null,
            "overflow_y": null,
            "padding": null,
            "right": null,
            "top": null,
            "visibility": null,
            "width": null
          }
        },
        "b2b7d2ac391f4c7c977f5a348d3c2e60": {
          "model_module": "@jupyter-widgets/base",
          "model_name": "LayoutModel",
          "model_module_version": "1.2.0",
          "state": {
            "_model_module": "@jupyter-widgets/base",
            "_model_module_version": "1.2.0",
            "_model_name": "LayoutModel",
            "_view_count": null,
            "_view_module": "@jupyter-widgets/base",
            "_view_module_version": "1.2.0",
            "_view_name": "LayoutView",
            "align_content": null,
            "align_items": null,
            "align_self": null,
            "border": null,
            "bottom": null,
            "display": null,
            "flex": null,
            "flex_flow": null,
            "grid_area": null,
            "grid_auto_columns": null,
            "grid_auto_flow": null,
            "grid_auto_rows": null,
            "grid_column": null,
            "grid_gap": null,
            "grid_row": null,
            "grid_template_areas": null,
            "grid_template_columns": null,
            "grid_template_rows": null,
            "height": null,
            "justify_content": null,
            "justify_items": null,
            "left": null,
            "margin": null,
            "max_height": null,
            "max_width": null,
            "min_height": null,
            "min_width": null,
            "object_fit": null,
            "object_position": null,
            "order": null,
            "overflow": null,
            "overflow_x": null,
            "overflow_y": null,
            "padding": null,
            "right": null,
            "top": null,
            "visibility": null,
            "width": null
          }
        },
        "3f40a1ad79f44786b7e2a2733817dc0f": {
          "model_module": "@jupyter-widgets/controls",
          "model_name": "DescriptionStyleModel",
          "model_module_version": "1.5.0",
          "state": {
            "_model_module": "@jupyter-widgets/controls",
            "_model_module_version": "1.5.0",
            "_model_name": "DescriptionStyleModel",
            "_view_count": null,
            "_view_module": "@jupyter-widgets/base",
            "_view_module_version": "1.2.0",
            "_view_name": "StyleView",
            "description_width": ""
          }
        },
        "73bb78c6232440b3b7815d0bb7cd3400": {
          "model_module": "@jupyter-widgets/base",
          "model_name": "LayoutModel",
          "model_module_version": "1.2.0",
          "state": {
            "_model_module": "@jupyter-widgets/base",
            "_model_module_version": "1.2.0",
            "_model_name": "LayoutModel",
            "_view_count": null,
            "_view_module": "@jupyter-widgets/base",
            "_view_module_version": "1.2.0",
            "_view_name": "LayoutView",
            "align_content": null,
            "align_items": null,
            "align_self": null,
            "border": null,
            "bottom": null,
            "display": null,
            "flex": null,
            "flex_flow": null,
            "grid_area": null,
            "grid_auto_columns": null,
            "grid_auto_flow": null,
            "grid_auto_rows": null,
            "grid_column": null,
            "grid_gap": null,
            "grid_row": null,
            "grid_template_areas": null,
            "grid_template_columns": null,
            "grid_template_rows": null,
            "height": null,
            "justify_content": null,
            "justify_items": null,
            "left": null,
            "margin": null,
            "max_height": null,
            "max_width": null,
            "min_height": null,
            "min_width": null,
            "object_fit": null,
            "object_position": null,
            "order": null,
            "overflow": null,
            "overflow_x": null,
            "overflow_y": null,
            "padding": null,
            "right": null,
            "top": null,
            "visibility": null,
            "width": null
          }
        },
        "0fde27f70da5497b97fb8b3562b86aab": {
          "model_module": "@jupyter-widgets/controls",
          "model_name": "ProgressStyleModel",
          "model_module_version": "1.5.0",
          "state": {
            "_model_module": "@jupyter-widgets/controls",
            "_model_module_version": "1.5.0",
            "_model_name": "ProgressStyleModel",
            "_view_count": null,
            "_view_module": "@jupyter-widgets/base",
            "_view_module_version": "1.2.0",
            "_view_name": "StyleView",
            "bar_color": null,
            "description_width": ""
          }
        },
        "6accdde542e7452297cd814d56865d3d": {
          "model_module": "@jupyter-widgets/base",
          "model_name": "LayoutModel",
          "model_module_version": "1.2.0",
          "state": {
            "_model_module": "@jupyter-widgets/base",
            "_model_module_version": "1.2.0",
            "_model_name": "LayoutModel",
            "_view_count": null,
            "_view_module": "@jupyter-widgets/base",
            "_view_module_version": "1.2.0",
            "_view_name": "LayoutView",
            "align_content": null,
            "align_items": null,
            "align_self": null,
            "border": null,
            "bottom": null,
            "display": null,
            "flex": null,
            "flex_flow": null,
            "grid_area": null,
            "grid_auto_columns": null,
            "grid_auto_flow": null,
            "grid_auto_rows": null,
            "grid_column": null,
            "grid_gap": null,
            "grid_row": null,
            "grid_template_areas": null,
            "grid_template_columns": null,
            "grid_template_rows": null,
            "height": null,
            "justify_content": null,
            "justify_items": null,
            "left": null,
            "margin": null,
            "max_height": null,
            "max_width": null,
            "min_height": null,
            "min_width": null,
            "object_fit": null,
            "object_position": null,
            "order": null,
            "overflow": null,
            "overflow_x": null,
            "overflow_y": null,
            "padding": null,
            "right": null,
            "top": null,
            "visibility": null,
            "width": null
          }
        },
        "709e8948cdca46c39b52e56a74f05587": {
          "model_module": "@jupyter-widgets/controls",
          "model_name": "DescriptionStyleModel",
          "model_module_version": "1.5.0",
          "state": {
            "_model_module": "@jupyter-widgets/controls",
            "_model_module_version": "1.5.0",
            "_model_name": "DescriptionStyleModel",
            "_view_count": null,
            "_view_module": "@jupyter-widgets/base",
            "_view_module_version": "1.2.0",
            "_view_name": "StyleView",
            "description_width": ""
          }
        }
      }
    }
  },
  "cells": [
    {
      "cell_type": "markdown",
      "metadata": {
        "id": "view-in-github",
        "colab_type": "text"
      },
      "source": [
        "<a href=\"https://colab.research.google.com/github/leohcar/P_IA025A_2022S1/blob/main/entrega_final/Proyecto_encoder_resnet50_smalldataset.ipynb\" target=\"_parent\"><img src=\"https://colab.research.google.com/assets/colab-badge.svg\" alt=\"Open In Colab\"/></a>"
      ]
    },
    {
      "cell_type": "markdown",
      "source": [
        "# Encoder"
      ],
      "metadata": {
        "id": "k3m40JYHf-UB"
      }
    },
    {
      "cell_type": "code",
      "execution_count": 1,
      "metadata": {
        "id": "WFKQOen_f3J8",
        "colab": {
          "base_uri": "https://localhost:8080/"
        },
        "outputId": "f9c5954d-fcb7-4855-bb0e-c0575c6570e1"
      },
      "outputs": [
        {
          "output_type": "stream",
          "name": "stdout",
          "text": [
            "Meu nome é Carlos Leonardo Ancasi Hinostroza\n"
          ]
        }
      ],
      "source": [
        "nome = 'Carlos Leonardo Ancasi Hinostroza'\n",
        "\n",
        "print(f'Meu nome é {nome}')"
      ]
    },
    {
      "cell_type": "markdown",
      "source": [
        "# Importação das bibliotecas"
      ],
      "metadata": {
        "id": "zVxl_iLNgGTB"
      }
    },
    {
      "cell_type": "code",
      "source": [
        "import collections\n",
        "import itertools\n",
        "import functools\n",
        "import math\n",
        "import random\n",
        "\n",
        "import torch\n",
        "import torchvision\n",
        "import torch.nn as nn\n",
        "import numpy as np\n",
        "from torch.utils.data import DataLoader\n",
        "from tqdm import tqdm_notebook\n",
        "\n",
        "from torchvision.datasets import MNIST"
      ],
      "metadata": {
        "id": "iwnitOBZgDBT"
      },
      "execution_count": 2,
      "outputs": []
    },
    {
      "cell_type": "code",
      "source": [
        "# Check which GPU we are using\n",
        "!nvidia-smi"
      ],
      "metadata": {
        "colab": {
          "base_uri": "https://localhost:8080/"
        },
        "id": "DhwSJHu-xa-i",
        "outputId": "3cbf16e0-9b5a-4f16-d6b9-15a4e5335b9a"
      },
      "execution_count": 3,
      "outputs": [
        {
          "output_type": "stream",
          "name": "stdout",
          "text": [
            "Sat Jul 16 01:46:25 2022       \n",
            "+-----------------------------------------------------------------------------+\n",
            "| NVIDIA-SMI 460.32.03    Driver Version: 460.32.03    CUDA Version: 11.2     |\n",
            "|-------------------------------+----------------------+----------------------+\n",
            "| GPU  Name        Persistence-M| Bus-Id        Disp.A | Volatile Uncorr. ECC |\n",
            "| Fan  Temp  Perf  Pwr:Usage/Cap|         Memory-Usage | GPU-Util  Compute M. |\n",
            "|                               |                      |               MIG M. |\n",
            "|===============================+======================+======================|\n",
            "|   0  Tesla P100-PCIE...  Off  | 00000000:00:04.0 Off |                    0 |\n",
            "| N/A   42C    P0    27W / 250W |      2MiB / 16280MiB |      0%      Default |\n",
            "|                               |                      |                  N/A |\n",
            "+-------------------------------+----------------------+----------------------+\n",
            "                                                                               \n",
            "+-----------------------------------------------------------------------------+\n",
            "| Processes:                                                                  |\n",
            "|  GPU   GI   CI        PID   Type   Process name                  GPU Memory |\n",
            "|        ID   ID                                                   Usage      |\n",
            "|=============================================================================|\n",
            "|  No running processes found                                                 |\n",
            "+-----------------------------------------------------------------------------+\n"
          ]
        }
      ]
    },
    {
      "cell_type": "code",
      "source": [
        "device = torch.device('cpu')\n",
        "if torch.cuda.is_available():\n",
        "    device = torch.device('cuda')\n",
        "print('GPU available:', device)"
      ],
      "metadata": {
        "id": "MFMJaJoAgfWh",
        "colab": {
          "base_uri": "https://localhost:8080/"
        },
        "outputId": "cb5b7563-37a4-4369-d724-e94282c12c33"
      },
      "execution_count": 4,
      "outputs": [
        {
          "output_type": "stream",
          "name": "stdout",
          "text": [
            "GPU available: cuda\n"
          ]
        }
      ]
    },
    {
      "cell_type": "code",
      "source": [
        "random.seed(123)\n",
        "np.random.seed(123)\n",
        "torch.manual_seed(123)"
      ],
      "metadata": {
        "id": "nQ7nrCOfgmxp",
        "colab": {
          "base_uri": "https://localhost:8080/"
        },
        "outputId": "59bdf435-9385-4a76-fc89-7db271e38bc8"
      },
      "execution_count": 5,
      "outputs": [
        {
          "output_type": "execute_result",
          "data": {
            "text/plain": [
              "<torch._C.Generator at 0x7efc1fbffad0>"
            ]
          },
          "metadata": {},
          "execution_count": 5
        }
      ]
    },
    {
      "cell_type": "markdown",
      "source": [
        "#Dataset e dataloader"
      ],
      "metadata": {
        "id": "qiGkG6Z7gqMl"
      }
    },
    {
      "cell_type": "code",
      "source": [
        "!mkdir ./data\n",
        "\n",
        "# transform = torchvision.transforms.Compose(\n",
        "#     [torchvision.transforms.Resize([224,224]),\n",
        "#      torchvision.transforms.ToTensor(),\n",
        "#      torchvision.transforms.Normalize((0.5,0.5,0.5),(0.5,0.5,0.5))])\n",
        "transform = torchvision.transforms.Compose(\n",
        "     [torchvision.transforms.ToTensor(),\n",
        "     torchvision.transforms.Normalize((0.5,0.5,0.5),(0.5,0.5,0.5))])\n",
        "\n",
        "train_dataset = torchvision.datasets.CIFAR100(root='./data', train=True,\n",
        "                                             download=True, transform=transform)\n",
        "\n",
        "test_dataset = torchvision.datasets.CIFAR100(root='./data', train=False,\n",
        "                                            download=True, transform=transform)"
      ],
      "metadata": {
        "id": "HzsxWm4zgptJ",
        "colab": {
          "base_uri": "https://localhost:8080/",
          "height": 101,
          "referenced_widgets": [
            "7fcd0d9f6b184f28a1183e427f72b63b",
            "a8e90e0ab08d49698b2ea0e9a5a23f6a",
            "46d31b8a4fbd4ddea2c1b4d067984251",
            "9f7520309e374fa58a665e8cd36f89f5",
            "07a819ad6fc747729167c2a8de02b47d",
            "b2b7d2ac391f4c7c977f5a348d3c2e60",
            "3f40a1ad79f44786b7e2a2733817dc0f",
            "73bb78c6232440b3b7815d0bb7cd3400",
            "0fde27f70da5497b97fb8b3562b86aab",
            "6accdde542e7452297cd814d56865d3d",
            "709e8948cdca46c39b52e56a74f05587"
          ]
        },
        "outputId": "11c7d54e-8ba7-4366-8180-a442219ac148"
      },
      "execution_count": 6,
      "outputs": [
        {
          "output_type": "stream",
          "name": "stdout",
          "text": [
            "Downloading https://www.cs.toronto.edu/~kriz/cifar-100-python.tar.gz to ./data/cifar-100-python.tar.gz\n"
          ]
        },
        {
          "output_type": "display_data",
          "data": {
            "text/plain": [
              "  0%|          | 0/169001437 [00:00<?, ?it/s]"
            ],
            "application/vnd.jupyter.widget-view+json": {
              "version_major": 2,
              "version_minor": 0,
              "model_id": "7fcd0d9f6b184f28a1183e427f72b63b"
            }
          },
          "metadata": {}
        },
        {
          "output_type": "stream",
          "name": "stdout",
          "text": [
            "Extracting ./data/cifar-100-python.tar.gz to ./data\n",
            "Files already downloaded and verified\n"
          ]
        }
      ]
    },
    {
      "cell_type": "code",
      "source": [
        "print(f'numero de imagenes {len(train_dataset)}')\n",
        "img, target = train_dataset[0]\n",
        "print(img.size())"
      ],
      "metadata": {
        "colab": {
          "base_uri": "https://localhost:8080/"
        },
        "id": "vNiG6o-Y9khm",
        "outputId": "6396c7d0-e80e-4b9f-c230-630d6a8c5084"
      },
      "execution_count": 7,
      "outputs": [
        {
          "output_type": "stream",
          "name": "stdout",
          "text": [
            "numero de imagenes 50000\n",
            "torch.Size([3, 32, 32])\n"
          ]
        }
      ]
    },
    {
      "cell_type": "code",
      "source": [
        "# train_size = 40000\n",
        "# val_size = 10000\n",
        "# train_dataset, val_dataset = torch.utils.data.random_split(train_dataset, [train_size, val_size])\n",
        "train_size = 10\n",
        "val_size = 10000\n",
        "res_size = 50000 - train_size - val_size\n",
        "train_dataset, val_dataset, _ = torch.utils.data.random_split(train_dataset, [train_size, val_size, res_size])"
      ],
      "metadata": {
        "id": "eKBHExbNjJbh"
      },
      "execution_count": 8,
      "outputs": []
    },
    {
      "cell_type": "code",
      "source": [
        "batch_size = 50\n",
        "\n",
        "train_dataloader = DataLoader(train_dataset, batch_size=batch_size, shuffle=True)\n",
        "val_dataloader = DataLoader(val_dataset, batch_size=batch_size, shuffle=False)\n",
        "test_dataloader = DataLoader(test_dataset, batch_size=batch_size, shuffle=False)\n",
        "\n",
        "print('Número de minibatches de trenamento:', len(train_dataloader))\n",
        "print('Número de minibatches de validação:', len(val_dataloader))\n",
        "print('Número de minibatches de teste:', len(test_dataloader))\n",
        "\n",
        "x_train, y_train = next(iter(train_dataloader))\n",
        "print(\"\\nDimensões dos dados de um minibatch:\", x_train.size())\n",
        "print(\"Valores mínimo e máximo dos pixels: \", torch.min(x_train), torch.max(x_train))\n",
        "print(\"Tipo dos dados das imagens:         \", type(x_train))\n",
        "print(\"Tipo das classes das imagens:       \", type(y_train))"
      ],
      "metadata": {
        "id": "dCAtbFAfjbep",
        "colab": {
          "base_uri": "https://localhost:8080/"
        },
        "outputId": "3f8705e8-eac2-456e-bcf6-53db15f628bf"
      },
      "execution_count": 9,
      "outputs": [
        {
          "output_type": "stream",
          "name": "stdout",
          "text": [
            "Número de minibatches de trenamento: 1\n",
            "Número de minibatches de validação: 200\n",
            "Número de minibatches de teste: 200\n",
            "\n",
            "Dimensões dos dados de um minibatch: torch.Size([10, 3, 32, 32])\n",
            "Valores mínimo e máximo dos pixels:  tensor(-1.) tensor(1.)\n",
            "Tipo dos dados das imagens:          <class 'torch.Tensor'>\n",
            "Tipo das classes das imagens:        <class 'torch.Tensor'>\n"
          ]
        }
      ]
    },
    {
      "cell_type": "markdown",
      "source": [
        "#Bloco Básico da Resnet"
      ],
      "metadata": {
        "id": "gZTWV8YEj8bZ"
      }
    },
    {
      "cell_type": "code",
      "source": [
        "from collections import OrderedDict\n",
        "from torch import nn\n",
        "from torch import Tensor\n",
        "\n",
        "\n",
        "class MyBlock(nn.Module):\n",
        "\n",
        "    def __init__(\n",
        "        self,\n",
        "        inplanes: int,\n",
        "        planes: int,\n",
        "        identity_downsample=None,\n",
        "        stride: int = 1,\n",
        "    ) -> None:\n",
        "        super(MyBlock, self).__init__()\n",
        "        # Escreva seu código aqui.\n",
        "        self.conv1 = nn.Conv2d(inplanes, planes, kernel_size=3, stride=stride, bias=False, padding=1)\n",
        "        self.bn1 = nn.BatchNorm2d(planes)\n",
        "        self.relu = nn.ReLU(inplace=True)\n",
        "        self.conv2 = nn.Conv2d(planes, planes, kernel_size=3, stride=1, bias=False, padding=1)\n",
        "        self.bn2 = nn.BatchNorm2d(planes)\n",
        "\n",
        "        self.identity_downsample = identity_downsample\n",
        "        self.stride = stride\n",
        "\n",
        "    def forward(self, x: Tensor) -> Tensor:\n",
        "        # Escreva seu código aqui.\n",
        "        identity = x\n",
        "\n",
        "        out = self.conv1(x)\n",
        "        out = self.bn1(out)\n",
        "        out = self.relu(out)\n",
        "\n",
        "        out = self.conv2(out)\n",
        "        out = self.bn2(out)\n",
        "        \n",
        "        if self.identity_downsample is not None:\n",
        "            identity = self.identity_downsample(x)\n",
        "        out += identity\n",
        "        out = self.relu(out)\n",
        "        return out"
      ],
      "metadata": {
        "id": "FRUodY_gj5cz"
      },
      "execution_count": 10,
      "outputs": []
    },
    {
      "cell_type": "code",
      "source": [
        "class Bottleneck(nn.Module):\n",
        "    expansion = 4\n",
        "    def __init__(\n",
        "        self,\n",
        "        inplanes: int,\n",
        "        planes: int,\n",
        "        identity_downsample=None,\n",
        "        stride: int = 1,\n",
        "    ) -> None:\n",
        "\n",
        "        super(Bottleneck,self).__init__()\n",
        "        self.conv1 = nn.Conv2d(inplanes, planes, kernel_size=1, stride=1, bias=False, padding=0)\n",
        "        self.bn1 = nn.BatchNorm2d(planes)\n",
        "\n",
        "        self.conv2 = nn.Conv2d(planes, planes, kernel_size=3, stride=stride, bias=False, padding=1)\n",
        "        self.bn2 = nn.BatchNorm2d(planes)\n",
        "\n",
        "        self.conv3 = nn.Conv2d(planes, planes*self.expansion, kernel_size=1, stride=1, bias=False, padding=0)\n",
        "        self.bn3 = nn.BatchNorm2d(planes*self.expansion)\n",
        "\n",
        "        self.relu = nn.ReLU(inplace=True)\n",
        "        self.identity_downsample = identity_downsample\n",
        "        self.stride = stride\n",
        "\n",
        "    def forward(self, x):\n",
        "        identity = x\n",
        "\n",
        "        out = self.conv1(x)\n",
        "        out = self.bn1(out)\n",
        "        out = self.relu(out)\n",
        "\n",
        "        out = self.conv2(out)\n",
        "        out = self.bn2(out)\n",
        "        out = self.relu(out)\n",
        "\n",
        "        out = self.conv3(out)\n",
        "        out = self.bn3(out)\n",
        "\n",
        "        if self.identity_downsample is not None:\n",
        "            identity = self.identity_downsample(x)\n",
        "\n",
        "        out += identity\n",
        "        out = self.relu(out)\n",
        "        return out\n"
      ],
      "metadata": {
        "id": "4badFRwtszvJ"
      },
      "execution_count": 11,
      "outputs": []
    },
    {
      "cell_type": "code",
      "source": [
        "class CNN_resnet50(nn.Module):\n",
        "    def __init__(self, image_channels, num_classes):\n",
        "\n",
        "        super(CNN_resnet50,self).__init__()\n",
        "\n",
        "        self.conv1 = nn.Conv2d(image_channels, 64, kernel_size=7, stride=2, padding=3, bias=False)\n",
        "        self.bn1 = nn.BatchNorm2d(64)\n",
        "        self.relu = nn.ReLU(inplace=True)\n",
        "        self.maxpool = nn.MaxPool2d(kernel_size=3, stride=2, padding=1)\n",
        "\n",
        "        #resnet layers\n",
        "        self.layer1 = self.__make_layer(64, 64, 3,stride=1)\n",
        "        self.layer2 = self.__make_layer(256, 128, 4,stride=2)\n",
        "        self.layer3 = self.__make_layer(512, 256, 6,stride=2)\n",
        "        self.layer4 = self.__make_layer(1024, 512, 3,stride=2)\n",
        "\n",
        "        self.avgpool = nn.AdaptiveAvgPool2d((1,1))\n",
        "\n",
        "        self.fc = nn.Linear(2048, num_classes)\n",
        "      \n",
        "    def __make_layer(self, in_channels, out_channels, blocks, stride):\n",
        "\n",
        "        identity_downsample = None\n",
        "        \n",
        "        if stride != 1 or in_channels != 4*out_channels:\n",
        "            identity_downsample = nn.Sequential(nn.Conv2d(in_channels, 4*out_channels, kernel_size=1, stride=stride, padding=0, bias=False),\n",
        "                nn.BatchNorm2d(4*out_channels))\n",
        "        layers = []\n",
        "        layers.append(Bottleneck(in_channels, out_channels,identity_downsample=identity_downsample, stride=stride))\n",
        "        \n",
        "        for _ in range(1,blocks):\n",
        "            layers.append(Bottleneck(out_channels*4, out_channels))\n",
        "\n",
        "        layers.append(nn.Dropout(0.3))\n",
        "\n",
        "        return nn.Sequential(*layers)\n",
        "    \n",
        "    def forward(self, x):\n",
        "\n",
        "        out = self.conv1(x)\n",
        "        out = self.bn1(out)\n",
        "        out = self.relu(out)\n",
        "        out = self.maxpool(out)\n",
        "\n",
        "        out = self.layer1(out)\n",
        "        out = self.layer2(out)\n",
        "        out = self.layer3(out)\n",
        "        out = self.layer4(out)\n",
        "\n",
        "        out = self.avgpool(out)\n",
        "        out = out.view(x.shape[0], -1)\n",
        "        out = self.fc(out)\n",
        "        return out\n"
      ],
      "metadata": {
        "id": "6bCvEnhxoICS"
      },
      "execution_count": 12,
      "outputs": []
    },
    {
      "cell_type": "code",
      "source": [
        "model = CNN_resnet50(3,100).to(device)"
      ],
      "metadata": {
        "id": "k9TVLjRcoHaW"
      },
      "execution_count": 13,
      "outputs": []
    },
    {
      "cell_type": "code",
      "source": [
        "num_params = sum(p.numel() for p in model.parameters() if p.requires_grad)\n",
        "print(f'Number of model parameters: {num_params}')"
      ],
      "metadata": {
        "colab": {
          "base_uri": "https://localhost:8080/"
        },
        "id": "88LjgPiXCHTW",
        "outputId": "90d42700-56dd-4893-fa90-37f65e19cf4a"
      },
      "execution_count": 14,
      "outputs": [
        {
          "output_type": "stream",
          "name": "stdout",
          "text": [
            "Number of model parameters: 23712932\n"
          ]
        }
      ]
    },
    {
      "cell_type": "code",
      "source": [
        "from google.colab import drive\n",
        "drive.mount('/content/drive')"
      ],
      "metadata": {
        "colab": {
          "base_uri": "https://localhost:8080/"
        },
        "id": "2rdvOfJDzAGG",
        "outputId": "4c68c3be-a76e-4b87-db9b-f35dba0efa87"
      },
      "execution_count": 15,
      "outputs": [
        {
          "output_type": "stream",
          "name": "stdout",
          "text": [
            "Mounted at /content/drive\n"
          ]
        }
      ]
    },
    {
      "cell_type": "code",
      "source": [
        "model_save_name = 'model_resnet50_smalldataset.pt'\n",
        "path_modelo = F\"/content/drive/My Drive/modelo_proyecto/entrega_03/pre_trained/{model_save_name}\""
      ],
      "metadata": {
        "id": "5GrUOps4zBPK"
      },
      "execution_count": 16,
      "outputs": []
    },
    {
      "cell_type": "code",
      "source": [
        "# Iniciar o treinamento\n",
        "from tqdm import tqdm\n",
        "\n",
        "n_epochs = 80\n",
        "lr = 3.3e-4\n",
        "\n",
        "img_channels = 3\n",
        "num_classes = 100\n",
        "\n",
        "model = CNN_resnet50(img_channels,num_classes).to(device)\n",
        "\n",
        "# train_dataloader = DataLoader(train_dataset, batch_size=batch_size, shuffle=True)\n",
        "# val_dataloader = DataLoader(val_dataset, batch_size=batch_size, shuffle=False)\n",
        "# test_dataloader = DataLoader(test_dataset, batch_size=batch_size, shuffle=False)\n",
        "\n",
        "optimizer = torch.optim.Adam(model.parameters(), lr=lr)\n",
        "\n",
        "checkpoint = {\n",
        "    'img_channels': img_channels,\n",
        "    'num_classes': num_classes,\n",
        "    'model_state_dict': model.state_dict(),\n",
        "    'optimizer_state_dict' : optimizer.state_dict(),\n",
        "    'epochs': [],\n",
        "    'loss_train': [],\n",
        "    'loss_val': [],\n",
        "    'accuracy_history': [],\n",
        "    }\n",
        "torch.save(checkpoint, path_modelo)\n",
        "\n",
        "def train_step(input_ids, target_ids):\n",
        "    model.train()\n",
        "    model.zero_grad()\n",
        "    logits = model(input_ids)\n",
        "    logits = logits.reshape(-1, logits.shape[-1])\n",
        "    target_ids = target_ids.reshape(-1)\n",
        "    loss = nn.functional.cross_entropy(logits, target_ids)\n",
        "    loss.backward()\n",
        "    optimizer.step()\n",
        "\n",
        "    return loss.item()\n",
        "\n",
        "def validation_step(input_ids, target_ids):\n",
        "    model.eval()\n",
        "    logits = model(input_ids)\n",
        "    logits = logits.reshape(-1, logits.shape[-1])\n",
        "    target_ids = target_ids.reshape(-1)\n",
        "    loss = nn.functional.cross_entropy(logits, target_ids)\n",
        "\n",
        "    _, y_pred = torch.max(logits,1)\n",
        "    accuracy_item = (y_pred.cpu().numpy() == target_ids.cpu().numpy()).mean()\n",
        "\n",
        "    return accuracy_item,loss.item()\n",
        "\n",
        "epochs = []\n",
        "loss_history = []\n",
        "loss_epoch_end = []\n",
        "accuracy_history = []\n",
        "total_trained_samples = 0\n",
        "\n",
        "with torch.no_grad():\n",
        "    loss_accuracy = [list(validation_step(val_input_ids.to(device), val_target_ids.to(device)))\n",
        "        for val_input_ids, val_target_ids in val_dataloader]\n",
        "    \n",
        "    mean_accuracy = np.array(loss_accuracy)[:,0].mean()\n",
        "    mean_loss = np.array(loss_accuracy)[:,1].mean()\n",
        "    print(f'Accuracy: {mean_accuracy} Loss_Val: {mean_loss}')\n",
        "    accuracy_history.append(mean_accuracy.item())\n",
        "\n",
        "    checkpoint['accuracy_history'].append(mean_accuracy.item())\n",
        "    checkpoint['loss_val'].append(mean_loss.item())\n",
        "    torch.save(checkpoint, path_modelo)\n",
        "    \n",
        "for i in range(n_epochs):\n",
        "    for x_train, y_train in tqdm(train_dataloader, total=len(train_dataloader), desc='Training'):\n",
        "        loss = train_step(x_train.to(device), y_train.to(device))\n",
        "        \n",
        "        total_trained_samples += x_train.size(0)\n",
        "        epochs.append(total_trained_samples / len(train_dataset))\n",
        "        loss_history.append(loss)\n",
        "    \n",
        "    loss_epoch_end.append(loss)\n",
        "    print(f'Epoch: {i:d}/{n_epochs - 1:d} Loss_Train: {loss}')\n",
        "    checkpoint['epochs'].append(i)\n",
        "    checkpoint['loss_train'].append(loss)\n",
        "    \n",
        "    with torch.no_grad():\n",
        "        loss_accuracy = [validation_step(val_input_ids.to(device), val_target_ids.to(device))\n",
        "            for val_input_ids, val_target_ids in val_dataloader]\n",
        "        \n",
        "        mean_accuracy = np.array(loss_accuracy)[:,0].mean()\n",
        "        mean_loss = np.array(loss_accuracy)[:,1].mean()\n",
        "        print(f'Accuracy: {mean_accuracy} Loss_Val: {mean_loss}')\n",
        "        accuracy_history.append(mean_accuracy.item())\n",
        "\n",
        "        checkpoint['accuracy_history'].append(mean_accuracy.item())\n",
        "        checkpoint['loss_val'].append(mean_loss.item())\n",
        "    \n",
        "    checkpoint['model_state_dict'] = model.state_dict()\n",
        "    checkpoint['optimizer_state_dict'] = optimizer.state_dict()\n",
        "\n",
        "    torch.save(checkpoint, path_modelo)\n"
      ],
      "metadata": {
        "colab": {
          "base_uri": "https://localhost:8080/"
        },
        "id": "c8TRb8reCLOt",
        "outputId": "d554f40c-a690-443d-9075-d748a983ee2c"
      },
      "execution_count": 17,
      "outputs": [
        {
          "metadata": {
            "tags": null
          },
          "name": "stdout",
          "output_type": "stream",
          "text": [
            "Accuracy: 0.0114 Loss_Val: 4.605016374588013\n"
          ]
        },
        {
          "metadata": {
            "tags": null
          },
          "name": "stderr",
          "output_type": "stream",
          "text": [
            "Training: 100%|██████████| 1/1 [00:01<00:00,  1.25s/it]\n"
          ]
        },
        {
          "metadata": {
            "tags": null
          },
          "name": "stdout",
          "output_type": "stream",
          "text": [
            "Epoch: 0/79 Loss_Train: 5.7896728515625\n",
            "Accuracy: 0.009399999999999999 Loss_Val: 4.605762302875519\n"
          ]
        },
        {
          "metadata": {
            "tags": null
          },
          "name": "stderr",
          "output_type": "stream",
          "text": [
            "Training: 100%|██████████| 1/1 [00:00<00:00, 10.58it/s]\n"
          ]
        },
        {
          "metadata": {
            "tags": null
          },
          "name": "stdout",
          "output_type": "stream",
          "text": [
            "Epoch: 1/79 Loss_Train: 4.8218488693237305\n",
            "Accuracy: 0.009399999999999999 Loss_Val: 4.6077459836006165\n"
          ]
        },
        {
          "metadata": {
            "tags": null
          },
          "name": "stderr",
          "output_type": "stream",
          "text": [
            "Training: 100%|██████████| 1/1 [00:00<00:00, 14.93it/s]\n"
          ]
        },
        {
          "metadata": {
            "tags": null
          },
          "name": "stdout",
          "output_type": "stream",
          "text": [
            "Epoch: 2/79 Loss_Train: 4.162418365478516\n",
            "Accuracy: 0.0123 Loss_Val: 4.611880030632019\n"
          ]
        },
        {
          "metadata": {
            "tags": null
          },
          "name": "stderr",
          "output_type": "stream",
          "text": [
            "Training: 100%|██████████| 1/1 [00:00<00:00, 14.75it/s]\n"
          ]
        },
        {
          "metadata": {
            "tags": null
          },
          "name": "stdout",
          "output_type": "stream",
          "text": [
            "Epoch: 3/79 Loss_Train: 3.4088878631591797\n",
            "Accuracy: 0.0123 Loss_Val: 4.61944442987442\n"
          ]
        },
        {
          "metadata": {
            "tags": null
          },
          "name": "stderr",
          "output_type": "stream",
          "text": [
            "Training: 100%|██████████| 1/1 [00:00<00:00, 13.00it/s]\n"
          ]
        },
        {
          "metadata": {
            "tags": null
          },
          "name": "stdout",
          "output_type": "stream",
          "text": [
            "Epoch: 4/79 Loss_Train: 2.953382968902588\n",
            "Accuracy: 0.0104 Loss_Val: 4.632846174240112\n"
          ]
        },
        {
          "metadata": {
            "tags": null
          },
          "name": "stderr",
          "output_type": "stream",
          "text": [
            "Training: 100%|██████████| 1/1 [00:00<00:00, 15.17it/s]\n"
          ]
        },
        {
          "metadata": {
            "tags": null
          },
          "name": "stdout",
          "output_type": "stream",
          "text": [
            "Epoch: 5/79 Loss_Train: 2.0935957431793213\n",
            "Accuracy: 0.0104 Loss_Val: 4.655354082584381\n"
          ]
        },
        {
          "metadata": {
            "tags": null
          },
          "name": "stderr",
          "output_type": "stream",
          "text": [
            "Training: 100%|██████████| 1/1 [00:00<00:00, 16.50it/s]\n"
          ]
        },
        {
          "metadata": {
            "tags": null
          },
          "name": "stdout",
          "output_type": "stream",
          "text": [
            "Epoch: 6/79 Loss_Train: 1.8244295120239258\n",
            "Accuracy: 0.0104 Loss_Val: 4.689003872871399\n"
          ]
        },
        {
          "metadata": {
            "tags": null
          },
          "name": "stderr",
          "output_type": "stream",
          "text": [
            "Training: 100%|██████████| 1/1 [00:00<00:00, 15.33it/s]\n"
          ]
        },
        {
          "metadata": {
            "tags": null
          },
          "name": "stdout",
          "output_type": "stream",
          "text": [
            "Epoch: 7/79 Loss_Train: 2.123354434967041\n",
            "Accuracy: 0.011000000000000001 Loss_Val: 4.732852113246918\n"
          ]
        },
        {
          "metadata": {
            "tags": null
          },
          "name": "stderr",
          "output_type": "stream",
          "text": [
            "Training: 100%|██████████| 1/1 [00:00<00:00, 12.79it/s]\n"
          ]
        },
        {
          "metadata": {
            "tags": null
          },
          "name": "stdout",
          "output_type": "stream",
          "text": [
            "Epoch: 8/79 Loss_Train: 2.6274619102478027\n",
            "Accuracy: 0.011000000000000001 Loss_Val: 4.788303771018982\n"
          ]
        },
        {
          "metadata": {
            "tags": null
          },
          "name": "stderr",
          "output_type": "stream",
          "text": [
            "Training: 100%|██████████| 1/1 [00:00<00:00, 15.13it/s]\n"
          ]
        },
        {
          "metadata": {
            "tags": null
          },
          "name": "stdout",
          "output_type": "stream",
          "text": [
            "Epoch: 9/79 Loss_Train: 1.8189306259155273\n",
            "Accuracy: 0.011000000000000001 Loss_Val: 4.861354515552521\n"
          ]
        },
        {
          "metadata": {
            "tags": null
          },
          "name": "stderr",
          "output_type": "stream",
          "text": [
            "Training: 100%|██████████| 1/1 [00:00<00:00, 14.59it/s]\n"
          ]
        },
        {
          "metadata": {
            "tags": null
          },
          "name": "stdout",
          "output_type": "stream",
          "text": [
            "Epoch: 10/79 Loss_Train: 1.1595544815063477\n",
            "Accuracy: 0.011000000000000001 Loss_Val: 4.951465933322907\n"
          ]
        },
        {
          "metadata": {
            "tags": null
          },
          "name": "stderr",
          "output_type": "stream",
          "text": [
            "Training: 100%|██████████| 1/1 [00:00<00:00, 14.19it/s]\n"
          ]
        },
        {
          "metadata": {
            "tags": null
          },
          "name": "stdout",
          "output_type": "stream",
          "text": [
            "Epoch: 11/79 Loss_Train: 1.7202556133270264\n",
            "Accuracy: 0.011000000000000001 Loss_Val: 5.05687949180603\n"
          ]
        },
        {
          "metadata": {
            "tags": null
          },
          "name": "stderr",
          "output_type": "stream",
          "text": [
            "Training: 100%|██████████| 1/1 [00:00<00:00, 14.26it/s]\n"
          ]
        },
        {
          "metadata": {
            "tags": null
          },
          "name": "stdout",
          "output_type": "stream",
          "text": [
            "Epoch: 12/79 Loss_Train: 1.183327555656433\n",
            "Accuracy: 0.011000000000000001 Loss_Val: 5.1821940851211545\n"
          ]
        },
        {
          "metadata": {
            "tags": null
          },
          "name": "stderr",
          "output_type": "stream",
          "text": [
            "Training: 100%|██████████| 1/1 [00:00<00:00, 14.67it/s]\n"
          ]
        },
        {
          "metadata": {
            "tags": null
          },
          "name": "stdout",
          "output_type": "stream",
          "text": [
            "Epoch: 13/79 Loss_Train: 1.2937994003295898\n",
            "Accuracy: 0.011000000000000001 Loss_Val: 5.319826533794403\n"
          ]
        },
        {
          "metadata": {
            "tags": null
          },
          "name": "stderr",
          "output_type": "stream",
          "text": [
            "Training: 100%|██████████| 1/1 [00:00<00:00, 13.10it/s]\n"
          ]
        },
        {
          "metadata": {
            "tags": null
          },
          "name": "stdout",
          "output_type": "stream",
          "text": [
            "Epoch: 14/79 Loss_Train: 1.05097234249115\n",
            "Accuracy: 0.011000000000000001 Loss_Val: 5.470074319839478\n"
          ]
        },
        {
          "metadata": {
            "tags": null
          },
          "name": "stderr",
          "output_type": "stream",
          "text": [
            "Training: 100%|██████████| 1/1 [00:00<00:00, 12.08it/s]\n"
          ]
        },
        {
          "metadata": {
            "tags": null
          },
          "name": "stdout",
          "output_type": "stream",
          "text": [
            "Epoch: 15/79 Loss_Train: 1.5289638042449951\n",
            "Accuracy: 0.011000000000000001 Loss_Val: 5.63022604227066\n"
          ]
        },
        {
          "metadata": {
            "tags": null
          },
          "name": "stderr",
          "output_type": "stream",
          "text": [
            "Training: 100%|██████████| 1/1 [00:00<00:00, 11.91it/s]\n"
          ]
        },
        {
          "metadata": {
            "tags": null
          },
          "name": "stdout",
          "output_type": "stream",
          "text": [
            "Epoch: 16/79 Loss_Train: 0.9202006459236145\n",
            "Accuracy: 0.011000000000000001 Loss_Val: 5.829259700775147\n"
          ]
        },
        {
          "metadata": {
            "tags": null
          },
          "name": "stderr",
          "output_type": "stream",
          "text": [
            "Training: 100%|██████████| 1/1 [00:00<00:00, 12.75it/s]\n"
          ]
        },
        {
          "metadata": {
            "tags": null
          },
          "name": "stdout",
          "output_type": "stream",
          "text": [
            "Epoch: 17/79 Loss_Train: 1.5066394805908203\n",
            "Accuracy: 0.011000000000000001 Loss_Val: 6.034895148277283\n"
          ]
        },
        {
          "metadata": {
            "tags": null
          },
          "name": "stderr",
          "output_type": "stream",
          "text": [
            "Training: 100%|██████████| 1/1 [00:00<00:00, 11.46it/s]\n"
          ]
        },
        {
          "metadata": {
            "tags": null
          },
          "name": "stdout",
          "output_type": "stream",
          "text": [
            "Epoch: 18/79 Loss_Train: 1.1879658699035645\n",
            "Accuracy: 0.011000000000000001 Loss_Val: 6.23176917552948\n"
          ]
        },
        {
          "metadata": {
            "tags": null
          },
          "name": "stderr",
          "output_type": "stream",
          "text": [
            "Training: 100%|██████████| 1/1 [00:00<00:00, 12.62it/s]\n"
          ]
        },
        {
          "metadata": {
            "tags": null
          },
          "name": "stdout",
          "output_type": "stream",
          "text": [
            "Epoch: 19/79 Loss_Train: 1.2594873905181885\n",
            "Accuracy: 0.011000000000000001 Loss_Val: 6.429539308547974\n"
          ]
        },
        {
          "metadata": {
            "tags": null
          },
          "name": "stderr",
          "output_type": "stream",
          "text": [
            "Training: 100%|██████████| 1/1 [00:00<00:00, 14.71it/s]\n"
          ]
        },
        {
          "metadata": {
            "tags": null
          },
          "name": "stdout",
          "output_type": "stream",
          "text": [
            "Epoch: 20/79 Loss_Train: 1.01381516456604\n",
            "Accuracy: 0.011099999999999999 Loss_Val: 6.654320685863495\n"
          ]
        },
        {
          "metadata": {
            "tags": null
          },
          "name": "stderr",
          "output_type": "stream",
          "text": [
            "Training: 100%|██████████| 1/1 [00:00<00:00, 14.63it/s]\n"
          ]
        },
        {
          "metadata": {
            "tags": null
          },
          "name": "stdout",
          "output_type": "stream",
          "text": [
            "Epoch: 21/79 Loss_Train: 0.7727621793746948\n",
            "Accuracy: 0.0106 Loss_Val: 6.895907006263733\n"
          ]
        },
        {
          "metadata": {
            "tags": null
          },
          "name": "stderr",
          "output_type": "stream",
          "text": [
            "Training: 100%|██████████| 1/1 [00:00<00:00, 13.39it/s]\n"
          ]
        },
        {
          "metadata": {
            "tags": null
          },
          "name": "stdout",
          "output_type": "stream",
          "text": [
            "Epoch: 22/79 Loss_Train: 0.47451549768447876\n",
            "Accuracy: 0.0106 Loss_Val: 7.176549608707428\n"
          ]
        },
        {
          "metadata": {
            "tags": null
          },
          "name": "stderr",
          "output_type": "stream",
          "text": [
            "Training: 100%|██████████| 1/1 [00:00<00:00, 16.40it/s]\n"
          ]
        },
        {
          "metadata": {
            "tags": null
          },
          "name": "stdout",
          "output_type": "stream",
          "text": [
            "Epoch: 23/79 Loss_Train: 1.0037682056427002\n",
            "Accuracy: 0.0106 Loss_Val: 7.466063098907471\n"
          ]
        },
        {
          "metadata": {
            "tags": null
          },
          "name": "stderr",
          "output_type": "stream",
          "text": [
            "Training: 100%|██████████| 1/1 [00:00<00:00, 14.50it/s]\n"
          ]
        },
        {
          "metadata": {
            "tags": null
          },
          "name": "stdout",
          "output_type": "stream",
          "text": [
            "Epoch: 24/79 Loss_Train: 0.4384693205356598\n",
            "Accuracy: 0.009899999999999999 Loss_Val: 7.804249300956726\n"
          ]
        },
        {
          "metadata": {
            "tags": null
          },
          "name": "stderr",
          "output_type": "stream",
          "text": [
            "Training: 100%|██████████| 1/1 [00:00<00:00, 15.40it/s]\n"
          ]
        },
        {
          "metadata": {
            "tags": null
          },
          "name": "stdout",
          "output_type": "stream",
          "text": [
            "Epoch: 25/79 Loss_Train: 0.5469337701797485\n",
            "Accuracy: 0.01 Loss_Val: 8.162825474739074\n"
          ]
        },
        {
          "metadata": {
            "tags": null
          },
          "name": "stderr",
          "output_type": "stream",
          "text": [
            "Training: 100%|██████████| 1/1 [00:00<00:00, 14.00it/s]\n"
          ]
        },
        {
          "metadata": {
            "tags": null
          },
          "name": "stdout",
          "output_type": "stream",
          "text": [
            "Epoch: 26/79 Loss_Train: 0.4683959484100342\n",
            "Accuracy: 0.0105 Loss_Val: 8.591874783039094\n"
          ]
        },
        {
          "metadata": {
            "tags": null
          },
          "name": "stderr",
          "output_type": "stream",
          "text": [
            "Training: 100%|██████████| 1/1 [00:00<00:00, 15.06it/s]\n"
          ]
        },
        {
          "metadata": {
            "tags": null
          },
          "name": "stdout",
          "output_type": "stream",
          "text": [
            "Epoch: 27/79 Loss_Train: 0.2658761441707611\n",
            "Accuracy: 0.0108 Loss_Val: 9.056034550666809\n"
          ]
        },
        {
          "metadata": {
            "tags": null
          },
          "name": "stderr",
          "output_type": "stream",
          "text": [
            "Training: 100%|██████████| 1/1 [00:00<00:00, 13.25it/s]\n"
          ]
        },
        {
          "metadata": {
            "tags": null
          },
          "name": "stdout",
          "output_type": "stream",
          "text": [
            "Epoch: 28/79 Loss_Train: 1.2576638460159302\n",
            "Accuracy: 0.011000000000000001 Loss_Val: 9.563032903671264\n"
          ]
        },
        {
          "metadata": {
            "tags": null
          },
          "name": "stderr",
          "output_type": "stream",
          "text": [
            "Training: 100%|██████████| 1/1 [00:00<00:00, 14.70it/s]\n"
          ]
        },
        {
          "metadata": {
            "tags": null
          },
          "name": "stdout",
          "output_type": "stream",
          "text": [
            "Epoch: 29/79 Loss_Train: 0.9193838834762573\n",
            "Accuracy: 0.0109 Loss_Val: 10.179223685264587\n"
          ]
        },
        {
          "metadata": {
            "tags": null
          },
          "name": "stderr",
          "output_type": "stream",
          "text": [
            "Training: 100%|██████████| 1/1 [00:00<00:00, 16.00it/s]\n"
          ]
        },
        {
          "metadata": {
            "tags": null
          },
          "name": "stdout",
          "output_type": "stream",
          "text": [
            "Epoch: 30/79 Loss_Train: 0.3181263208389282\n",
            "Accuracy: 0.009899999999999999 Loss_Val: 10.711763563156127\n"
          ]
        },
        {
          "metadata": {
            "tags": null
          },
          "name": "stderr",
          "output_type": "stream",
          "text": [
            "Training: 100%|██████████| 1/1 [00:00<00:00, 12.19it/s]\n"
          ]
        },
        {
          "metadata": {
            "tags": null
          },
          "name": "stdout",
          "output_type": "stream",
          "text": [
            "Epoch: 31/79 Loss_Train: 0.22612586617469788\n",
            "Accuracy: 0.0088 Loss_Val: 11.205871839523315\n"
          ]
        },
        {
          "metadata": {
            "tags": null
          },
          "name": "stderr",
          "output_type": "stream",
          "text": [
            "Training: 100%|██████████| 1/1 [00:00<00:00, 12.09it/s]\n"
          ]
        },
        {
          "metadata": {
            "tags": null
          },
          "name": "stdout",
          "output_type": "stream",
          "text": [
            "Epoch: 32/79 Loss_Train: 0.2661246955394745\n",
            "Accuracy: 0.0083 Loss_Val: 11.560611524581908\n"
          ]
        },
        {
          "metadata": {
            "tags": null
          },
          "name": "stderr",
          "output_type": "stream",
          "text": [
            "Training: 100%|██████████| 1/1 [00:00<00:00, 11.52it/s]\n"
          ]
        },
        {
          "metadata": {
            "tags": null
          },
          "name": "stdout",
          "output_type": "stream",
          "text": [
            "Epoch: 33/79 Loss_Train: 0.34750112891197205\n",
            "Accuracy: 0.0085 Loss_Val: 11.964301214218139\n"
          ]
        },
        {
          "metadata": {
            "tags": null
          },
          "name": "stderr",
          "output_type": "stream",
          "text": [
            "Training: 100%|██████████| 1/1 [00:00<00:00, 14.00it/s]\n"
          ]
        },
        {
          "metadata": {
            "tags": null
          },
          "name": "stdout",
          "output_type": "stream",
          "text": [
            "Epoch: 34/79 Loss_Train: 0.08546639233827591\n",
            "Accuracy: 0.0083 Loss_Val: 12.244431591033935\n"
          ]
        },
        {
          "metadata": {
            "tags": null
          },
          "name": "stderr",
          "output_type": "stream",
          "text": [
            "Training: 100%|██████████| 1/1 [00:00<00:00, 14.70it/s]\n"
          ]
        },
        {
          "metadata": {
            "tags": null
          },
          "name": "stdout",
          "output_type": "stream",
          "text": [
            "Epoch: 35/79 Loss_Train: 0.38855987787246704\n",
            "Accuracy: 0.0085 Loss_Val: 12.570800294876099\n"
          ]
        },
        {
          "metadata": {
            "tags": null
          },
          "name": "stderr",
          "output_type": "stream",
          "text": [
            "Training: 100%|██████████| 1/1 [00:00<00:00, 14.62it/s]\n"
          ]
        },
        {
          "metadata": {
            "tags": null
          },
          "name": "stdout",
          "output_type": "stream",
          "text": [
            "Epoch: 36/79 Loss_Train: 0.04049436375498772\n",
            "Accuracy: 0.0089 Loss_Val: 12.871157064437867\n"
          ]
        },
        {
          "metadata": {
            "tags": null
          },
          "name": "stderr",
          "output_type": "stream",
          "text": [
            "Training: 100%|██████████| 1/1 [00:00<00:00, 11.93it/s]\n"
          ]
        },
        {
          "metadata": {
            "tags": null
          },
          "name": "stdout",
          "output_type": "stream",
          "text": [
            "Epoch: 37/79 Loss_Train: 0.18099835515022278\n",
            "Accuracy: 0.0087 Loss_Val: 13.39204511642456\n"
          ]
        },
        {
          "metadata": {
            "tags": null
          },
          "name": "stderr",
          "output_type": "stream",
          "text": [
            "Training: 100%|██████████| 1/1 [00:00<00:00, 14.59it/s]\n"
          ]
        },
        {
          "metadata": {
            "tags": null
          },
          "name": "stdout",
          "output_type": "stream",
          "text": [
            "Epoch: 38/79 Loss_Train: 0.16683265566825867\n",
            "Accuracy: 0.0085 Loss_Val: 13.639569215774536\n"
          ]
        },
        {
          "metadata": {
            "tags": null
          },
          "name": "stderr",
          "output_type": "stream",
          "text": [
            "Training: 100%|██████████| 1/1 [00:00<00:00,  7.55it/s]\n"
          ]
        },
        {
          "metadata": {
            "tags": null
          },
          "name": "stdout",
          "output_type": "stream",
          "text": [
            "Epoch: 39/79 Loss_Train: 0.055202651768922806\n",
            "Accuracy: 0.0089 Loss_Val: 13.888889937400817\n"
          ]
        },
        {
          "metadata": {
            "tags": null
          },
          "name": "stderr",
          "output_type": "stream",
          "text": [
            "Training: 100%|██████████| 1/1 [00:00<00:00, 14.93it/s]\n"
          ]
        },
        {
          "metadata": {
            "tags": null
          },
          "name": "stdout",
          "output_type": "stream",
          "text": [
            "Epoch: 40/79 Loss_Train: 0.015615753829479218\n",
            "Accuracy: 0.009500000000000001 Loss_Val: 14.059453506469726\n"
          ]
        },
        {
          "metadata": {
            "tags": null
          },
          "name": "stderr",
          "output_type": "stream",
          "text": [
            "Training: 100%|██████████| 1/1 [00:00<00:00, 15.33it/s]\n"
          ]
        },
        {
          "metadata": {
            "tags": null
          },
          "name": "stdout",
          "output_type": "stream",
          "text": [
            "Epoch: 41/79 Loss_Train: 0.00723783764988184\n",
            "Accuracy: 0.0101 Loss_Val: 14.387118883132935\n"
          ]
        },
        {
          "metadata": {
            "tags": null
          },
          "name": "stderr",
          "output_type": "stream",
          "text": [
            "Training: 100%|██████████| 1/1 [00:00<00:00, 14.72it/s]\n"
          ]
        },
        {
          "metadata": {
            "tags": null
          },
          "name": "stdout",
          "output_type": "stream",
          "text": [
            "Epoch: 42/79 Loss_Train: 0.10117238759994507\n",
            "Accuracy: 0.0105 Loss_Val: 14.908302969932556\n"
          ]
        },
        {
          "metadata": {
            "tags": null
          },
          "name": "stderr",
          "output_type": "stream",
          "text": [
            "Training: 100%|██████████| 1/1 [00:00<00:00, 13.67it/s]\n"
          ]
        },
        {
          "metadata": {
            "tags": null
          },
          "name": "stdout",
          "output_type": "stream",
          "text": [
            "Epoch: 43/79 Loss_Train: 0.352344274520874\n",
            "Accuracy: 0.0104 Loss_Val: 15.40785271167755\n"
          ]
        },
        {
          "metadata": {
            "tags": null
          },
          "name": "stderr",
          "output_type": "stream",
          "text": [
            "Training: 100%|██████████| 1/1 [00:00<00:00, 14.13it/s]\n"
          ]
        },
        {
          "metadata": {
            "tags": null
          },
          "name": "stdout",
          "output_type": "stream",
          "text": [
            "Epoch: 44/79 Loss_Train: 0.005631863605231047\n",
            "Accuracy: 0.010699999999999998 Loss_Val: 15.918776326179504\n"
          ]
        },
        {
          "metadata": {
            "tags": null
          },
          "name": "stderr",
          "output_type": "stream",
          "text": [
            "Training: 100%|██████████| 1/1 [00:00<00:00,  7.73it/s]\n"
          ]
        },
        {
          "metadata": {
            "tags": null
          },
          "name": "stdout",
          "output_type": "stream",
          "text": [
            "Epoch: 45/79 Loss_Train: 0.012741747312247753\n",
            "Accuracy: 0.0106 Loss_Val: 15.910440950393676\n"
          ]
        },
        {
          "metadata": {
            "tags": null
          },
          "name": "stderr",
          "output_type": "stream",
          "text": [
            "Training: 100%|██████████| 1/1 [00:00<00:00, 13.28it/s]\n"
          ]
        },
        {
          "metadata": {
            "tags": null
          },
          "name": "stdout",
          "output_type": "stream",
          "text": [
            "Epoch: 46/79 Loss_Train: 0.012256987392902374\n",
            "Accuracy: 0.0105 Loss_Val: 16.149342560768126\n"
          ]
        },
        {
          "metadata": {
            "tags": null
          },
          "name": "stderr",
          "output_type": "stream",
          "text": [
            "Training: 100%|██████████| 1/1 [00:00<00:00, 12.49it/s]\n"
          ]
        },
        {
          "metadata": {
            "tags": null
          },
          "name": "stdout",
          "output_type": "stream",
          "text": [
            "Epoch: 47/79 Loss_Train: 0.007058316376060247\n",
            "Accuracy: 0.0103 Loss_Val: 16.3278711938858\n"
          ]
        },
        {
          "metadata": {
            "tags": null
          },
          "name": "stderr",
          "output_type": "stream",
          "text": [
            "Training: 100%|██████████| 1/1 [00:00<00:00, 11.62it/s]\n"
          ]
        },
        {
          "metadata": {
            "tags": null
          },
          "name": "stdout",
          "output_type": "stream",
          "text": [
            "Epoch: 48/79 Loss_Train: 0.0051222252659499645\n",
            "Accuracy: 0.01 Loss_Val: 16.31161651134491\n"
          ]
        },
        {
          "metadata": {
            "tags": null
          },
          "name": "stderr",
          "output_type": "stream",
          "text": [
            "Training: 100%|██████████| 1/1 [00:00<00:00, 15.24it/s]\n"
          ]
        },
        {
          "metadata": {
            "tags": null
          },
          "name": "stdout",
          "output_type": "stream",
          "text": [
            "Epoch: 49/79 Loss_Train: 0.011441351845860481\n",
            "Accuracy: 0.010100000000000003 Loss_Val: 16.35402208328247\n"
          ]
        },
        {
          "metadata": {
            "tags": null
          },
          "name": "stderr",
          "output_type": "stream",
          "text": [
            "Training: 100%|██████████| 1/1 [00:00<00:00, 14.65it/s]\n"
          ]
        },
        {
          "metadata": {
            "tags": null
          },
          "name": "stdout",
          "output_type": "stream",
          "text": [
            "Epoch: 50/79 Loss_Train: 0.004436065908521414\n",
            "Accuracy: 0.0099 Loss_Val: 16.083891820907592\n"
          ]
        },
        {
          "metadata": {
            "tags": null
          },
          "name": "stderr",
          "output_type": "stream",
          "text": [
            "Training: 100%|██████████| 1/1 [00:00<00:00, 15.40it/s]\n"
          ]
        },
        {
          "metadata": {
            "tags": null
          },
          "name": "stdout",
          "output_type": "stream",
          "text": [
            "Epoch: 51/79 Loss_Train: 0.002616953570395708\n",
            "Accuracy: 0.01 Loss_Val: 15.992256741523743\n"
          ]
        },
        {
          "metadata": {
            "tags": null
          },
          "name": "stderr",
          "output_type": "stream",
          "text": [
            "Training: 100%|██████████| 1/1 [00:00<00:00, 15.13it/s]\n"
          ]
        },
        {
          "metadata": {
            "tags": null
          },
          "name": "stdout",
          "output_type": "stream",
          "text": [
            "Epoch: 52/79 Loss_Train: 0.005625746212899685\n",
            "Accuracy: 0.009899999999999999 Loss_Val: 15.930970435142518\n"
          ]
        },
        {
          "metadata": {
            "tags": null
          },
          "name": "stderr",
          "output_type": "stream",
          "text": [
            "Training: 100%|██████████| 1/1 [00:00<00:00, 16.71it/s]\n"
          ]
        },
        {
          "output_type": "stream",
          "name": "stdout",
          "text": [
            "Epoch: 53/79 Loss_Train: 0.011889712885022163\n",
            "Accuracy: 0.01 Loss_Val: 15.976962113380432\n"
          ]
        },
        {
          "output_type": "stream",
          "name": "stderr",
          "text": [
            "Training: 100%|██████████| 1/1 [00:00<00:00, 14.45it/s]\n"
          ]
        },
        {
          "output_type": "stream",
          "name": "stdout",
          "text": [
            "Epoch: 54/79 Loss_Train: 0.08875133097171783\n",
            "Accuracy: 0.0097 Loss_Val: 15.997756452560425\n"
          ]
        },
        {
          "output_type": "stream",
          "name": "stderr",
          "text": [
            "Training: 100%|██████████| 1/1 [00:00<00:00, 15.03it/s]\n"
          ]
        },
        {
          "output_type": "stream",
          "name": "stdout",
          "text": [
            "Epoch: 55/79 Loss_Train: 0.22218890488147736\n",
            "Accuracy: 0.0096 Loss_Val: 15.948243675231934\n"
          ]
        },
        {
          "output_type": "stream",
          "name": "stderr",
          "text": [
            "Training: 100%|██████████| 1/1 [00:00<00:00, 14.26it/s]\n"
          ]
        },
        {
          "output_type": "stream",
          "name": "stdout",
          "text": [
            "Epoch: 56/79 Loss_Train: 0.009278378449380398\n",
            "Accuracy: 0.0096 Loss_Val: 16.053822269439696\n"
          ]
        },
        {
          "output_type": "stream",
          "name": "stderr",
          "text": [
            "Training: 100%|██████████| 1/1 [00:00<00:00, 13.92it/s]\n"
          ]
        },
        {
          "output_type": "stream",
          "name": "stdout",
          "text": [
            "Epoch: 57/79 Loss_Train: 0.01941736601293087\n",
            "Accuracy: 0.0094 Loss_Val: 15.88486466884613\n"
          ]
        },
        {
          "output_type": "stream",
          "name": "stderr",
          "text": [
            "Training: 100%|██████████| 1/1 [00:00<00:00, 15.83it/s]\n"
          ]
        },
        {
          "output_type": "stream",
          "name": "stdout",
          "text": [
            "Epoch: 58/79 Loss_Train: 0.047767721116542816\n",
            "Accuracy: 0.0085 Loss_Val: 15.564135117530823\n"
          ]
        },
        {
          "output_type": "stream",
          "name": "stderr",
          "text": [
            "Training: 100%|██████████| 1/1 [00:00<00:00, 15.18it/s]\n"
          ]
        },
        {
          "output_type": "stream",
          "name": "stdout",
          "text": [
            "Epoch: 59/79 Loss_Train: 0.0047333380207419395\n",
            "Accuracy: 0.008 Loss_Val: 15.267095260620117\n"
          ]
        },
        {
          "output_type": "stream",
          "name": "stderr",
          "text": [
            "Training: 100%|██████████| 1/1 [00:00<00:00, 14.30it/s]\n"
          ]
        },
        {
          "output_type": "stream",
          "name": "stdout",
          "text": [
            "Epoch: 60/79 Loss_Train: 0.002740486990660429\n",
            "Accuracy: 0.0077 Loss_Val: 15.097696199417115\n"
          ]
        },
        {
          "output_type": "stream",
          "name": "stderr",
          "text": [
            "Training: 100%|██████████| 1/1 [00:00<00:00, 13.93it/s]\n"
          ]
        },
        {
          "output_type": "stream",
          "name": "stdout",
          "text": [
            "Epoch: 61/79 Loss_Train: 0.0033382815308868885\n",
            "Accuracy: 0.0076 Loss_Val: 14.99540259361267\n"
          ]
        },
        {
          "output_type": "stream",
          "name": "stderr",
          "text": [
            "Training: 100%|██████████| 1/1 [00:00<00:00, 13.97it/s]\n"
          ]
        },
        {
          "output_type": "stream",
          "name": "stdout",
          "text": [
            "Epoch: 62/79 Loss_Train: 0.00729262363165617\n",
            "Accuracy: 0.006999999999999999 Loss_Val: 14.942294750213623\n"
          ]
        },
        {
          "output_type": "stream",
          "name": "stderr",
          "text": [
            "Training: 100%|██████████| 1/1 [00:00<00:00, 10.25it/s]\n"
          ]
        },
        {
          "output_type": "stream",
          "name": "stdout",
          "text": [
            "Epoch: 63/79 Loss_Train: 0.06409038603305817\n",
            "Accuracy: 0.006699999999999999 Loss_Val: 14.96792767047882\n"
          ]
        },
        {
          "output_type": "stream",
          "name": "stderr",
          "text": [
            "Training: 100%|██████████| 1/1 [00:00<00:00, 14.27it/s]\n"
          ]
        },
        {
          "output_type": "stream",
          "name": "stdout",
          "text": [
            "Epoch: 64/79 Loss_Train: 0.006535162217915058\n",
            "Accuracy: 0.0067 Loss_Val: 15.023333559036255\n"
          ]
        },
        {
          "output_type": "stream",
          "name": "stderr",
          "text": [
            "Training: 100%|██████████| 1/1 [00:00<00:00, 14.81it/s]\n"
          ]
        },
        {
          "output_type": "stream",
          "name": "stdout",
          "text": [
            "Epoch: 65/79 Loss_Train: 0.0028302008286118507\n",
            "Accuracy: 0.0069 Loss_Val: 15.079191155433655\n"
          ]
        },
        {
          "output_type": "stream",
          "name": "stderr",
          "text": [
            "Training: 100%|██████████| 1/1 [00:00<00:00, 14.71it/s]\n"
          ]
        },
        {
          "output_type": "stream",
          "name": "stdout",
          "text": [
            "Epoch: 66/79 Loss_Train: 0.014462863095104694\n",
            "Accuracy: 0.007200000000000001 Loss_Val: 15.071139678955078\n"
          ]
        },
        {
          "output_type": "stream",
          "name": "stderr",
          "text": [
            "Training: 100%|██████████| 1/1 [00:00<00:00, 11.95it/s]\n"
          ]
        },
        {
          "output_type": "stream",
          "name": "stdout",
          "text": [
            "Epoch: 67/79 Loss_Train: 0.002119834301993251\n",
            "Accuracy: 0.0079 Loss_Val: 15.002364487648011\n"
          ]
        },
        {
          "output_type": "stream",
          "name": "stderr",
          "text": [
            "Training: 100%|██████████| 1/1 [00:00<00:00, 13.11it/s]\n"
          ]
        },
        {
          "output_type": "stream",
          "name": "stdout",
          "text": [
            "Epoch: 68/79 Loss_Train: 0.0016024925280362368\n",
            "Accuracy: 0.0078000000000000005 Loss_Val: 14.923485512733459\n"
          ]
        },
        {
          "output_type": "stream",
          "name": "stderr",
          "text": [
            "Training: 100%|██████████| 1/1 [00:00<00:00, 14.68it/s]\n"
          ]
        },
        {
          "output_type": "stream",
          "name": "stdout",
          "text": [
            "Epoch: 69/79 Loss_Train: 0.017673309892416\n",
            "Accuracy: 0.008 Loss_Val: 14.833922185897826\n"
          ]
        },
        {
          "output_type": "stream",
          "name": "stderr",
          "text": [
            "Training: 100%|██████████| 1/1 [00:00<00:00, 11.17it/s]\n"
          ]
        },
        {
          "output_type": "stream",
          "name": "stdout",
          "text": [
            "Epoch: 70/79 Loss_Train: 0.0038118783850222826\n",
            "Accuracy: 0.0079 Loss_Val: 14.793573160171508\n"
          ]
        },
        {
          "output_type": "stream",
          "name": "stderr",
          "text": [
            "Training: 100%|██████████| 1/1 [00:00<00:00, 14.65it/s]\n"
          ]
        },
        {
          "output_type": "stream",
          "name": "stdout",
          "text": [
            "Epoch: 71/79 Loss_Train: 0.0007662236457690597\n",
            "Accuracy: 0.0075 Loss_Val: 14.728610191345215\n"
          ]
        },
        {
          "output_type": "stream",
          "name": "stderr",
          "text": [
            "Training: 100%|██████████| 1/1 [00:00<00:00, 15.69it/s]\n"
          ]
        },
        {
          "output_type": "stream",
          "name": "stdout",
          "text": [
            "Epoch: 72/79 Loss_Train: 0.00272284890525043\n",
            "Accuracy: 0.0085 Loss_Val: 14.774170150756836\n"
          ]
        },
        {
          "output_type": "stream",
          "name": "stderr",
          "text": [
            "Training: 100%|██████████| 1/1 [00:00<00:00,  9.66it/s]\n"
          ]
        },
        {
          "output_type": "stream",
          "name": "stdout",
          "text": [
            "Epoch: 73/79 Loss_Train: 0.0031343784648925066\n",
            "Accuracy: 0.008700000000000001 Loss_Val: 14.802747449874879\n"
          ]
        },
        {
          "output_type": "stream",
          "name": "stderr",
          "text": [
            "Training: 100%|██████████| 1/1 [00:00<00:00, 12.61it/s]\n"
          ]
        },
        {
          "output_type": "stream",
          "name": "stdout",
          "text": [
            "Epoch: 74/79 Loss_Train: 0.0006612573051825166\n",
            "Accuracy: 0.008400000000000001 Loss_Val: 14.867469663619994\n"
          ]
        },
        {
          "output_type": "stream",
          "name": "stderr",
          "text": [
            "Training: 100%|██████████| 1/1 [00:00<00:00, 13.86it/s]\n"
          ]
        },
        {
          "output_type": "stream",
          "name": "stdout",
          "text": [
            "Epoch: 75/79 Loss_Train: 0.002289435127750039\n",
            "Accuracy: 0.008700000000000001 Loss_Val: 14.983240337371827\n"
          ]
        },
        {
          "output_type": "stream",
          "name": "stderr",
          "text": [
            "Training: 100%|██████████| 1/1 [00:00<00:00, 10.66it/s]\n"
          ]
        },
        {
          "output_type": "stream",
          "name": "stdout",
          "text": [
            "Epoch: 76/79 Loss_Train: 0.015863582491874695\n",
            "Accuracy: 0.009100000000000002 Loss_Val: 14.885480904579163\n"
          ]
        },
        {
          "output_type": "stream",
          "name": "stderr",
          "text": [
            "Training: 100%|██████████| 1/1 [00:00<00:00, 11.47it/s]\n"
          ]
        },
        {
          "output_type": "stream",
          "name": "stdout",
          "text": [
            "Epoch: 77/79 Loss_Train: 0.013261361047625542\n",
            "Accuracy: 0.008400000000000001 Loss_Val: 14.699252896308899\n"
          ]
        },
        {
          "output_type": "stream",
          "name": "stderr",
          "text": [
            "Training: 100%|██████████| 1/1 [00:00<00:00, 14.71it/s]\n"
          ]
        },
        {
          "output_type": "stream",
          "name": "stdout",
          "text": [
            "Epoch: 78/79 Loss_Train: 0.0035925847478210926\n",
            "Accuracy: 0.0078000000000000005 Loss_Val: 14.576575326919556\n"
          ]
        },
        {
          "output_type": "stream",
          "name": "stderr",
          "text": [
            "Training: 100%|██████████| 1/1 [00:00<00:00, 11.34it/s]\n"
          ]
        },
        {
          "output_type": "stream",
          "name": "stdout",
          "text": [
            "Epoch: 79/79 Loss_Train: 0.000456485606264323\n",
            "Accuracy: 0.0076 Loss_Val: 14.517796478271485\n"
          ]
        }
      ]
    },
    {
      "cell_type": "code",
      "source": [
        "# continuar com o  treino\n",
        "from tqdm import tqdm\n",
        "\n",
        "n_epochs = 160\n",
        "lr = 1e-4\n",
        "\n",
        "checkpoint = torch.load(path_modelo)\n",
        "\n",
        "model = CNN_resnet50(checkpoint['img_channels'],checkpoint['num_classes']).to(device)\n",
        "optimizer = torch.optim.Adam(model.parameters(), lr=lr)\n",
        "\n",
        "model.load_state_dict(checkpoint['model_state_dict'])\n",
        "optimizer.load_state_dict(checkpoint['optimizer_state_dict'])\n",
        "\n",
        "def train_step(input_ids, target_ids):\n",
        "    model.train()\n",
        "    model.zero_grad()\n",
        "    logits = model(input_ids)\n",
        "    logits = logits.reshape(-1, logits.shape[-1])\n",
        "    target_ids = target_ids.reshape(-1)\n",
        "    loss = nn.functional.cross_entropy(logits, target_ids)\n",
        "    loss.backward()\n",
        "    optimizer.step()\n",
        "\n",
        "    return loss.item()\n",
        "\n",
        "def validation_step(input_ids, target_ids):\n",
        "    model.eval()\n",
        "    logits = model(input_ids)\n",
        "    logits = logits.reshape(-1, logits.shape[-1])\n",
        "    target_ids = target_ids.reshape(-1)\n",
        "    loss = nn.functional.cross_entropy(logits, target_ids)\n",
        "\n",
        "    _, y_pred = torch.max(logits,1)\n",
        "    accuracy_item = (y_pred.cpu().numpy() == target_ids.cpu().numpy()).mean()\n",
        "\n",
        "    return accuracy_item,loss.item()\n",
        "\n",
        "epochs = []\n",
        "loss_history = []\n",
        "loss_epoch_end = checkpoint['loss_train']\n",
        "accuracy_history = checkpoint['accuracy_history']\n",
        "total_trained_samples = 0\n",
        "epochs_init = checkpoint['epochs'][-1]+1\n",
        "\n",
        "for s in zip(checkpoint['accuracy_history'],checkpoint['loss_val'],checkpoint['epochs'],checkpoint['loss_train']):\n",
        "    print(f'Accuracy: {s[0]} Loss_Val: {s[1]}')\n",
        "    print(f'')\n",
        "    print(f'Epoch: {s[2]:d}/{n_epochs - 1:d} Loss_Train: {s[3]}')\n",
        "print(f\"Accuracy: { checkpoint['accuracy_history'][-1] } Loss_Val: {checkpoint['loss_val'][-1]}\")\n",
        "\n",
        "    \n",
        "for i in range(epochs_init,n_epochs):\n",
        "    for x_train, y_train in tqdm(train_dataloader, total=len(train_dataloader), desc='Training'):\n",
        "        loss = train_step(x_train.to(device), y_train.to(device))\n",
        "        \n",
        "        total_trained_samples += x_train.size(0)\n",
        "        epochs.append(total_trained_samples / len(train_dataset))\n",
        "        loss_history.append(loss)\n",
        "    \n",
        "    loss_epoch_end.append(loss)\n",
        "    print(f'Epoch: {i:d}/{n_epochs - 1:d} Loss_Train: {loss}')\n",
        "    checkpoint['epochs'].append(i)\n",
        "    checkpoint['loss_train'].append(loss)\n",
        "    \n",
        "    with torch.no_grad():\n",
        "        loss_accuracy = [validation_step(val_input_ids.to(device), val_target_ids.to(device))\n",
        "            for val_input_ids, val_target_ids in val_dataloader]\n",
        "        \n",
        "        mean_accuracy = np.array(loss_accuracy)[:,0].mean()\n",
        "        mean_loss = np.array(loss_accuracy)[:,1].mean()\n",
        "        print(f'Accuracy: {mean_accuracy} Loss_Val: {mean_loss}')\n",
        "        accuracy_history.append(mean_accuracy.item())\n",
        "\n",
        "        checkpoint['accuracy_history'].append(mean_accuracy.item())\n",
        "        checkpoint['loss_val'].append(mean_loss.item())\n",
        "\n",
        "    checkpoint['model_state_dict'] = model.state_dict()\n",
        "    checkpoint['optimizer_state_dict'] = optimizer.state_dict()\n",
        "\n",
        "    torch.save(checkpoint, path_modelo)\n"
      ],
      "metadata": {
        "colab": {
          "base_uri": "https://localhost:8080/"
        },
        "outputId": "e8038d50-a70d-4176-80e7-d4f7f1d42d39",
        "id": "dkB_dsdo6jef"
      },
      "execution_count": 18,
      "outputs": [
        {
          "output_type": "stream",
          "name": "stdout",
          "text": [
            "Accuracy: 0.0114 Loss_Val: 4.605016374588013\n",
            "\n",
            "Epoch: 0/159 Loss_Train: 5.7896728515625\n",
            "Accuracy: 0.009399999999999999 Loss_Val: 4.605762302875519\n",
            "\n",
            "Epoch: 1/159 Loss_Train: 4.8218488693237305\n",
            "Accuracy: 0.009399999999999999 Loss_Val: 4.6077459836006165\n",
            "\n",
            "Epoch: 2/159 Loss_Train: 4.162418365478516\n",
            "Accuracy: 0.0123 Loss_Val: 4.611880030632019\n",
            "\n",
            "Epoch: 3/159 Loss_Train: 3.4088878631591797\n",
            "Accuracy: 0.0123 Loss_Val: 4.61944442987442\n",
            "\n",
            "Epoch: 4/159 Loss_Train: 2.953382968902588\n",
            "Accuracy: 0.0104 Loss_Val: 4.632846174240112\n",
            "\n",
            "Epoch: 5/159 Loss_Train: 2.0935957431793213\n",
            "Accuracy: 0.0104 Loss_Val: 4.655354082584381\n",
            "\n",
            "Epoch: 6/159 Loss_Train: 1.8244295120239258\n",
            "Accuracy: 0.0104 Loss_Val: 4.689003872871399\n",
            "\n",
            "Epoch: 7/159 Loss_Train: 2.123354434967041\n",
            "Accuracy: 0.011000000000000001 Loss_Val: 4.732852113246918\n",
            "\n",
            "Epoch: 8/159 Loss_Train: 2.6274619102478027\n",
            "Accuracy: 0.011000000000000001 Loss_Val: 4.788303771018982\n",
            "\n",
            "Epoch: 9/159 Loss_Train: 1.8189306259155273\n",
            "Accuracy: 0.011000000000000001 Loss_Val: 4.861354515552521\n",
            "\n",
            "Epoch: 10/159 Loss_Train: 1.1595544815063477\n",
            "Accuracy: 0.011000000000000001 Loss_Val: 4.951465933322907\n",
            "\n",
            "Epoch: 11/159 Loss_Train: 1.7202556133270264\n",
            "Accuracy: 0.011000000000000001 Loss_Val: 5.05687949180603\n",
            "\n",
            "Epoch: 12/159 Loss_Train: 1.183327555656433\n",
            "Accuracy: 0.011000000000000001 Loss_Val: 5.1821940851211545\n",
            "\n",
            "Epoch: 13/159 Loss_Train: 1.2937994003295898\n",
            "Accuracy: 0.011000000000000001 Loss_Val: 5.319826533794403\n",
            "\n",
            "Epoch: 14/159 Loss_Train: 1.05097234249115\n",
            "Accuracy: 0.011000000000000001 Loss_Val: 5.470074319839478\n",
            "\n",
            "Epoch: 15/159 Loss_Train: 1.5289638042449951\n",
            "Accuracy: 0.011000000000000001 Loss_Val: 5.63022604227066\n",
            "\n",
            "Epoch: 16/159 Loss_Train: 0.9202006459236145\n",
            "Accuracy: 0.011000000000000001 Loss_Val: 5.829259700775147\n",
            "\n",
            "Epoch: 17/159 Loss_Train: 1.5066394805908203\n",
            "Accuracy: 0.011000000000000001 Loss_Val: 6.034895148277283\n",
            "\n",
            "Epoch: 18/159 Loss_Train: 1.1879658699035645\n",
            "Accuracy: 0.011000000000000001 Loss_Val: 6.23176917552948\n",
            "\n",
            "Epoch: 19/159 Loss_Train: 1.2594873905181885\n",
            "Accuracy: 0.011000000000000001 Loss_Val: 6.429539308547974\n",
            "\n",
            "Epoch: 20/159 Loss_Train: 1.01381516456604\n",
            "Accuracy: 0.011099999999999999 Loss_Val: 6.654320685863495\n",
            "\n",
            "Epoch: 21/159 Loss_Train: 0.7727621793746948\n",
            "Accuracy: 0.0106 Loss_Val: 6.895907006263733\n",
            "\n",
            "Epoch: 22/159 Loss_Train: 0.47451549768447876\n",
            "Accuracy: 0.0106 Loss_Val: 7.176549608707428\n",
            "\n",
            "Epoch: 23/159 Loss_Train: 1.0037682056427002\n",
            "Accuracy: 0.0106 Loss_Val: 7.466063098907471\n",
            "\n",
            "Epoch: 24/159 Loss_Train: 0.4384693205356598\n",
            "Accuracy: 0.009899999999999999 Loss_Val: 7.804249300956726\n",
            "\n",
            "Epoch: 25/159 Loss_Train: 0.5469337701797485\n",
            "Accuracy: 0.01 Loss_Val: 8.162825474739074\n",
            "\n",
            "Epoch: 26/159 Loss_Train: 0.4683959484100342\n",
            "Accuracy: 0.0105 Loss_Val: 8.591874783039094\n",
            "\n",
            "Epoch: 27/159 Loss_Train: 0.2658761441707611\n",
            "Accuracy: 0.0108 Loss_Val: 9.056034550666809\n",
            "\n",
            "Epoch: 28/159 Loss_Train: 1.2576638460159302\n",
            "Accuracy: 0.011000000000000001 Loss_Val: 9.563032903671264\n",
            "\n",
            "Epoch: 29/159 Loss_Train: 0.9193838834762573\n",
            "Accuracy: 0.0109 Loss_Val: 10.179223685264587\n",
            "\n",
            "Epoch: 30/159 Loss_Train: 0.3181263208389282\n",
            "Accuracy: 0.009899999999999999 Loss_Val: 10.711763563156127\n",
            "\n",
            "Epoch: 31/159 Loss_Train: 0.22612586617469788\n",
            "Accuracy: 0.0088 Loss_Val: 11.205871839523315\n",
            "\n",
            "Epoch: 32/159 Loss_Train: 0.2661246955394745\n",
            "Accuracy: 0.0083 Loss_Val: 11.560611524581908\n",
            "\n",
            "Epoch: 33/159 Loss_Train: 0.34750112891197205\n",
            "Accuracy: 0.0085 Loss_Val: 11.964301214218139\n",
            "\n",
            "Epoch: 34/159 Loss_Train: 0.08546639233827591\n",
            "Accuracy: 0.0083 Loss_Val: 12.244431591033935\n",
            "\n",
            "Epoch: 35/159 Loss_Train: 0.38855987787246704\n",
            "Accuracy: 0.0085 Loss_Val: 12.570800294876099\n",
            "\n",
            "Epoch: 36/159 Loss_Train: 0.04049436375498772\n",
            "Accuracy: 0.0089 Loss_Val: 12.871157064437867\n",
            "\n",
            "Epoch: 37/159 Loss_Train: 0.18099835515022278\n",
            "Accuracy: 0.0087 Loss_Val: 13.39204511642456\n",
            "\n",
            "Epoch: 38/159 Loss_Train: 0.16683265566825867\n",
            "Accuracy: 0.0085 Loss_Val: 13.639569215774536\n",
            "\n",
            "Epoch: 39/159 Loss_Train: 0.055202651768922806\n",
            "Accuracy: 0.0089 Loss_Val: 13.888889937400817\n",
            "\n",
            "Epoch: 40/159 Loss_Train: 0.015615753829479218\n",
            "Accuracy: 0.009500000000000001 Loss_Val: 14.059453506469726\n",
            "\n",
            "Epoch: 41/159 Loss_Train: 0.00723783764988184\n",
            "Accuracy: 0.0101 Loss_Val: 14.387118883132935\n",
            "\n",
            "Epoch: 42/159 Loss_Train: 0.10117238759994507\n",
            "Accuracy: 0.0105 Loss_Val: 14.908302969932556\n",
            "\n",
            "Epoch: 43/159 Loss_Train: 0.352344274520874\n",
            "Accuracy: 0.0104 Loss_Val: 15.40785271167755\n",
            "\n",
            "Epoch: 44/159 Loss_Train: 0.005631863605231047\n",
            "Accuracy: 0.010699999999999998 Loss_Val: 15.918776326179504\n",
            "\n",
            "Epoch: 45/159 Loss_Train: 0.012741747312247753\n",
            "Accuracy: 0.0106 Loss_Val: 15.910440950393676\n",
            "\n",
            "Epoch: 46/159 Loss_Train: 0.012256987392902374\n",
            "Accuracy: 0.0105 Loss_Val: 16.149342560768126\n",
            "\n",
            "Epoch: 47/159 Loss_Train: 0.007058316376060247\n",
            "Accuracy: 0.0103 Loss_Val: 16.3278711938858\n",
            "\n",
            "Epoch: 48/159 Loss_Train: 0.0051222252659499645\n",
            "Accuracy: 0.01 Loss_Val: 16.31161651134491\n",
            "\n",
            "Epoch: 49/159 Loss_Train: 0.011441351845860481\n",
            "Accuracy: 0.010100000000000003 Loss_Val: 16.35402208328247\n",
            "\n",
            "Epoch: 50/159 Loss_Train: 0.004436065908521414\n",
            "Accuracy: 0.0099 Loss_Val: 16.083891820907592\n",
            "\n",
            "Epoch: 51/159 Loss_Train: 0.002616953570395708\n",
            "Accuracy: 0.01 Loss_Val: 15.992256741523743\n",
            "\n",
            "Epoch: 52/159 Loss_Train: 0.005625746212899685\n",
            "Accuracy: 0.009899999999999999 Loss_Val: 15.930970435142518\n",
            "\n",
            "Epoch: 53/159 Loss_Train: 0.011889712885022163\n",
            "Accuracy: 0.01 Loss_Val: 15.976962113380432\n",
            "\n",
            "Epoch: 54/159 Loss_Train: 0.08875133097171783\n",
            "Accuracy: 0.0097 Loss_Val: 15.997756452560425\n",
            "\n",
            "Epoch: 55/159 Loss_Train: 0.22218890488147736\n",
            "Accuracy: 0.0096 Loss_Val: 15.948243675231934\n",
            "\n",
            "Epoch: 56/159 Loss_Train: 0.009278378449380398\n",
            "Accuracy: 0.0096 Loss_Val: 16.053822269439696\n",
            "\n",
            "Epoch: 57/159 Loss_Train: 0.01941736601293087\n",
            "Accuracy: 0.0094 Loss_Val: 15.88486466884613\n",
            "\n",
            "Epoch: 58/159 Loss_Train: 0.047767721116542816\n",
            "Accuracy: 0.0085 Loss_Val: 15.564135117530823\n",
            "\n",
            "Epoch: 59/159 Loss_Train: 0.0047333380207419395\n",
            "Accuracy: 0.008 Loss_Val: 15.267095260620117\n",
            "\n",
            "Epoch: 60/159 Loss_Train: 0.002740486990660429\n",
            "Accuracy: 0.0077 Loss_Val: 15.097696199417115\n",
            "\n",
            "Epoch: 61/159 Loss_Train: 0.0033382815308868885\n",
            "Accuracy: 0.0076 Loss_Val: 14.99540259361267\n",
            "\n",
            "Epoch: 62/159 Loss_Train: 0.00729262363165617\n",
            "Accuracy: 0.006999999999999999 Loss_Val: 14.942294750213623\n",
            "\n",
            "Epoch: 63/159 Loss_Train: 0.06409038603305817\n",
            "Accuracy: 0.006699999999999999 Loss_Val: 14.96792767047882\n",
            "\n",
            "Epoch: 64/159 Loss_Train: 0.006535162217915058\n",
            "Accuracy: 0.0067 Loss_Val: 15.023333559036255\n",
            "\n",
            "Epoch: 65/159 Loss_Train: 0.0028302008286118507\n",
            "Accuracy: 0.0069 Loss_Val: 15.079191155433655\n",
            "\n",
            "Epoch: 66/159 Loss_Train: 0.014462863095104694\n",
            "Accuracy: 0.007200000000000001 Loss_Val: 15.071139678955078\n",
            "\n",
            "Epoch: 67/159 Loss_Train: 0.002119834301993251\n",
            "Accuracy: 0.0079 Loss_Val: 15.002364487648011\n",
            "\n",
            "Epoch: 68/159 Loss_Train: 0.0016024925280362368\n",
            "Accuracy: 0.0078000000000000005 Loss_Val: 14.923485512733459\n",
            "\n",
            "Epoch: 69/159 Loss_Train: 0.017673309892416\n",
            "Accuracy: 0.008 Loss_Val: 14.833922185897826\n",
            "\n",
            "Epoch: 70/159 Loss_Train: 0.0038118783850222826\n",
            "Accuracy: 0.0079 Loss_Val: 14.793573160171508\n",
            "\n",
            "Epoch: 71/159 Loss_Train: 0.0007662236457690597\n",
            "Accuracy: 0.0075 Loss_Val: 14.728610191345215\n",
            "\n",
            "Epoch: 72/159 Loss_Train: 0.00272284890525043\n",
            "Accuracy: 0.0085 Loss_Val: 14.774170150756836\n",
            "\n",
            "Epoch: 73/159 Loss_Train: 0.0031343784648925066\n",
            "Accuracy: 0.008700000000000001 Loss_Val: 14.802747449874879\n",
            "\n",
            "Epoch: 74/159 Loss_Train: 0.0006612573051825166\n",
            "Accuracy: 0.008400000000000001 Loss_Val: 14.867469663619994\n",
            "\n",
            "Epoch: 75/159 Loss_Train: 0.002289435127750039\n",
            "Accuracy: 0.008700000000000001 Loss_Val: 14.983240337371827\n",
            "\n",
            "Epoch: 76/159 Loss_Train: 0.015863582491874695\n",
            "Accuracy: 0.009100000000000002 Loss_Val: 14.885480904579163\n",
            "\n",
            "Epoch: 77/159 Loss_Train: 0.013261361047625542\n",
            "Accuracy: 0.008400000000000001 Loss_Val: 14.699252896308899\n",
            "\n",
            "Epoch: 78/159 Loss_Train: 0.0035925847478210926\n",
            "Accuracy: 0.0078000000000000005 Loss_Val: 14.576575326919556\n",
            "\n",
            "Epoch: 79/159 Loss_Train: 0.000456485606264323\n",
            "Accuracy: 0.0076 Loss_Val: 14.517796478271485\n"
          ]
        },
        {
          "output_type": "stream",
          "name": "stderr",
          "text": [
            "Training: 100%|██████████| 1/1 [00:00<00:00,  4.22it/s]\n"
          ]
        },
        {
          "output_type": "stream",
          "name": "stdout",
          "text": [
            "Epoch: 80/159 Loss_Train: 0.0021986456122249365\n",
            "Accuracy: 0.0076 Loss_Val: 14.542079763412476\n"
          ]
        },
        {
          "output_type": "stream",
          "name": "stderr",
          "text": [
            "Training: 100%|██████████| 1/1 [00:00<00:00, 13.55it/s]\n"
          ]
        },
        {
          "output_type": "stream",
          "name": "stdout",
          "text": [
            "Epoch: 81/159 Loss_Train: 0.00430176081135869\n",
            "Accuracy: 0.0074 Loss_Val: 14.32928611755371\n"
          ]
        },
        {
          "output_type": "stream",
          "name": "stderr",
          "text": [
            "Training: 100%|██████████| 1/1 [00:00<00:00, 14.63it/s]\n"
          ]
        },
        {
          "output_type": "stream",
          "name": "stdout",
          "text": [
            "Epoch: 82/159 Loss_Train: 0.0030290870927274227\n",
            "Accuracy: 0.0075 Loss_Val: 14.180921068191529\n"
          ]
        },
        {
          "output_type": "stream",
          "name": "stderr",
          "text": [
            "Training: 100%|██████████| 1/1 [00:00<00:00, 12.62it/s]\n"
          ]
        },
        {
          "output_type": "stream",
          "name": "stdout",
          "text": [
            "Epoch: 83/159 Loss_Train: 0.02108560875058174\n",
            "Accuracy: 0.0076 Loss_Val: 14.237495884895324\n"
          ]
        },
        {
          "output_type": "stream",
          "name": "stderr",
          "text": [
            "Training: 100%|██████████| 1/1 [00:00<00:00, 16.50it/s]\n"
          ]
        },
        {
          "output_type": "stream",
          "name": "stdout",
          "text": [
            "Epoch: 84/159 Loss_Train: 0.0036331098526716232\n",
            "Accuracy: 0.0072 Loss_Val: 14.318534469604492\n"
          ]
        },
        {
          "output_type": "stream",
          "name": "stderr",
          "text": [
            "Training: 100%|██████████| 1/1 [00:00<00:00, 14.20it/s]\n"
          ]
        },
        {
          "output_type": "stream",
          "name": "stdout",
          "text": [
            "Epoch: 85/159 Loss_Train: 0.00023119356774259359\n",
            "Accuracy: 0.0072 Loss_Val: 14.20011640071869\n"
          ]
        },
        {
          "output_type": "stream",
          "name": "stderr",
          "text": [
            "Training: 100%|██████████| 1/1 [00:00<00:00, 16.10it/s]\n"
          ]
        },
        {
          "output_type": "stream",
          "name": "stdout",
          "text": [
            "Epoch: 86/159 Loss_Train: 0.011222525499761105\n",
            "Accuracy: 0.0071 Loss_Val: 14.17950093269348\n"
          ]
        },
        {
          "output_type": "stream",
          "name": "stderr",
          "text": [
            "Training: 100%|██████████| 1/1 [00:00<00:00, 14.50it/s]\n"
          ]
        },
        {
          "output_type": "stream",
          "name": "stdout",
          "text": [
            "Epoch: 87/159 Loss_Train: 0.010269834659993649\n",
            "Accuracy: 0.0062 Loss_Val: 14.184173378944397\n"
          ]
        },
        {
          "output_type": "stream",
          "name": "stderr",
          "text": [
            "Training: 100%|██████████| 1/1 [00:00<00:00, 13.72it/s]\n"
          ]
        },
        {
          "output_type": "stream",
          "name": "stdout",
          "text": [
            "Epoch: 88/159 Loss_Train: 0.0005585130420513451\n",
            "Accuracy: 0.0063 Loss_Val: 14.187815732955933\n"
          ]
        },
        {
          "output_type": "stream",
          "name": "stderr",
          "text": [
            "Training: 100%|██████████| 1/1 [00:00<00:00, 14.35it/s]\n"
          ]
        },
        {
          "output_type": "stream",
          "name": "stdout",
          "text": [
            "Epoch: 89/159 Loss_Train: 0.0003168608818668872\n",
            "Accuracy: 0.006500000000000001 Loss_Val: 14.127572121620178\n"
          ]
        },
        {
          "output_type": "stream",
          "name": "stderr",
          "text": [
            "Training: 100%|██████████| 1/1 [00:00<00:00, 10.34it/s]\n"
          ]
        },
        {
          "output_type": "stream",
          "name": "stdout",
          "text": [
            "Epoch: 90/159 Loss_Train: 0.0005271724658086896\n",
            "Accuracy: 0.0063 Loss_Val: 14.086229448318482\n"
          ]
        },
        {
          "output_type": "stream",
          "name": "stderr",
          "text": [
            "Training: 100%|██████████| 1/1 [00:00<00:00, 12.27it/s]\n"
          ]
        },
        {
          "output_type": "stream",
          "name": "stdout",
          "text": [
            "Epoch: 91/159 Loss_Train: 0.0018501837039366364\n",
            "Accuracy: 0.0067 Loss_Val: 14.227477154731751\n"
          ]
        },
        {
          "output_type": "stream",
          "name": "stderr",
          "text": [
            "Training: 100%|██████████| 1/1 [00:00<00:00, 13.66it/s]\n"
          ]
        },
        {
          "output_type": "stream",
          "name": "stdout",
          "text": [
            "Epoch: 92/159 Loss_Train: 0.001273671048693359\n",
            "Accuracy: 0.0065000000000000014 Loss_Val: 14.447041440010072\n"
          ]
        },
        {
          "output_type": "stream",
          "name": "stderr",
          "text": [
            "Training: 100%|██████████| 1/1 [00:00<00:00, 15.38it/s]\n"
          ]
        },
        {
          "output_type": "stream",
          "name": "stdout",
          "text": [
            "Epoch: 93/159 Loss_Train: 0.0031736083328723907\n",
            "Accuracy: 0.0067 Loss_Val: 14.47822838306427\n"
          ]
        },
        {
          "output_type": "stream",
          "name": "stderr",
          "text": [
            "Training: 100%|██████████| 1/1 [00:00<00:00, 14.07it/s]\n"
          ]
        },
        {
          "output_type": "stream",
          "name": "stdout",
          "text": [
            "Epoch: 94/159 Loss_Train: 0.0003146917442791164\n",
            "Accuracy: 0.0073 Loss_Val: 14.644842820167542\n"
          ]
        },
        {
          "output_type": "stream",
          "name": "stderr",
          "text": [
            "Training: 100%|██████████| 1/1 [00:00<00:00, 14.36it/s]\n"
          ]
        },
        {
          "output_type": "stream",
          "name": "stdout",
          "text": [
            "Epoch: 95/159 Loss_Train: 0.0008080669795162976\n",
            "Accuracy: 0.0076 Loss_Val: 14.695477042198181\n"
          ]
        },
        {
          "output_type": "stream",
          "name": "stderr",
          "text": [
            "Training: 100%|██████████| 1/1 [00:00<00:00, 13.82it/s]\n"
          ]
        },
        {
          "output_type": "stream",
          "name": "stdout",
          "text": [
            "Epoch: 96/159 Loss_Train: 0.004792534280568361\n",
            "Accuracy: 0.0074 Loss_Val: 14.58916567325592\n"
          ]
        },
        {
          "output_type": "stream",
          "name": "stderr",
          "text": [
            "Training: 100%|██████████| 1/1 [00:00<00:00, 14.75it/s]\n"
          ]
        },
        {
          "output_type": "stream",
          "name": "stdout",
          "text": [
            "Epoch: 97/159 Loss_Train: 0.007465241942554712\n",
            "Accuracy: 0.0073 Loss_Val: 14.608525891304016\n"
          ]
        },
        {
          "output_type": "stream",
          "name": "stderr",
          "text": [
            "Training: 100%|██████████| 1/1 [00:00<00:00, 11.23it/s]\n"
          ]
        },
        {
          "output_type": "stream",
          "name": "stdout",
          "text": [
            "Epoch: 98/159 Loss_Train: 0.00022991998412180692\n",
            "Accuracy: 0.0073 Loss_Val: 14.498383865356445\n"
          ]
        },
        {
          "output_type": "stream",
          "name": "stderr",
          "text": [
            "Training: 100%|██████████| 1/1 [00:00<00:00, 15.19it/s]\n"
          ]
        },
        {
          "output_type": "stream",
          "name": "stdout",
          "text": [
            "Epoch: 99/159 Loss_Train: 0.0006558342138305306\n",
            "Accuracy: 0.0072 Loss_Val: 14.484834218025208\n"
          ]
        },
        {
          "output_type": "stream",
          "name": "stderr",
          "text": [
            "Training: 100%|██████████| 1/1 [00:00<00:00, 14.74it/s]\n"
          ]
        },
        {
          "output_type": "stream",
          "name": "stdout",
          "text": [
            "Epoch: 100/159 Loss_Train: 0.001033036969602108\n",
            "Accuracy: 0.0072 Loss_Val: 14.637249102592468\n"
          ]
        },
        {
          "output_type": "stream",
          "name": "stderr",
          "text": [
            "Training: 100%|██████████| 1/1 [00:00<00:00, 14.07it/s]\n"
          ]
        },
        {
          "output_type": "stream",
          "name": "stdout",
          "text": [
            "Epoch: 101/159 Loss_Train: 0.00032644986640661955\n",
            "Accuracy: 0.007000000000000001 Loss_Val: 14.505480232238769\n"
          ]
        },
        {
          "output_type": "stream",
          "name": "stderr",
          "text": [
            "Training: 100%|██████████| 1/1 [00:00<00:00,  8.86it/s]\n"
          ]
        },
        {
          "output_type": "stream",
          "name": "stdout",
          "text": [
            "Epoch: 102/159 Loss_Train: 0.0027394224889576435\n",
            "Accuracy: 0.006900000000000001 Loss_Val: 14.460780682563781\n"
          ]
        },
        {
          "output_type": "stream",
          "name": "stderr",
          "text": [
            "Training: 100%|██████████| 1/1 [00:00<00:00, 14.63it/s]\n"
          ]
        },
        {
          "output_type": "stream",
          "name": "stdout",
          "text": [
            "Epoch: 103/159 Loss_Train: 0.001034015673212707\n",
            "Accuracy: 0.0070999999999999995 Loss_Val: 14.47579249382019\n"
          ]
        },
        {
          "output_type": "stream",
          "name": "stderr",
          "text": [
            "Training: 100%|██████████| 1/1 [00:00<00:00, 13.89it/s]\n"
          ]
        },
        {
          "output_type": "stream",
          "name": "stdout",
          "text": [
            "Epoch: 104/159 Loss_Train: 0.0005131080979481339\n",
            "Accuracy: 0.0073 Loss_Val: 14.441085081100464\n"
          ]
        },
        {
          "output_type": "stream",
          "name": "stderr",
          "text": [
            "Training: 100%|██████████| 1/1 [00:00<00:00, 10.78it/s]\n"
          ]
        },
        {
          "output_type": "stream",
          "name": "stdout",
          "text": [
            "Epoch: 105/159 Loss_Train: 0.0011018726509064436\n",
            "Accuracy: 0.0073 Loss_Val: 14.402968530654908\n"
          ]
        },
        {
          "output_type": "stream",
          "name": "stderr",
          "text": [
            "Training: 100%|██████████| 1/1 [00:00<00:00, 12.47it/s]\n"
          ]
        },
        {
          "output_type": "stream",
          "name": "stdout",
          "text": [
            "Epoch: 106/159 Loss_Train: 0.0009004134917631745\n",
            "Accuracy: 0.0070999999999999995 Loss_Val: 14.365832476615905\n"
          ]
        },
        {
          "output_type": "stream",
          "name": "stderr",
          "text": [
            "Training: 100%|██████████| 1/1 [00:00<00:00, 14.04it/s]\n"
          ]
        },
        {
          "output_type": "stream",
          "name": "stdout",
          "text": [
            "Epoch: 107/159 Loss_Train: 0.0011096488451585174\n",
            "Accuracy: 0.0073 Loss_Val: 14.417222204208374\n"
          ]
        },
        {
          "output_type": "stream",
          "name": "stderr",
          "text": [
            "Training: 100%|██████████| 1/1 [00:00<00:00, 13.80it/s]\n"
          ]
        },
        {
          "output_type": "stream",
          "name": "stdout",
          "text": [
            "Epoch: 108/159 Loss_Train: 0.0011417014757171273\n",
            "Accuracy: 0.0074 Loss_Val: 14.423920230865479\n"
          ]
        },
        {
          "output_type": "stream",
          "name": "stderr",
          "text": [
            "Training: 100%|██████████| 1/1 [00:00<00:00, 14.11it/s]\n"
          ]
        },
        {
          "output_type": "stream",
          "name": "stdout",
          "text": [
            "Epoch: 109/159 Loss_Train: 0.0005611356464214623\n",
            "Accuracy: 0.0076 Loss_Val: 14.471625113487244\n"
          ]
        },
        {
          "output_type": "stream",
          "name": "stderr",
          "text": [
            "Training: 100%|██████████| 1/1 [00:00<00:00, 14.53it/s]\n"
          ]
        },
        {
          "output_type": "stream",
          "name": "stdout",
          "text": [
            "Epoch: 110/159 Loss_Train: 0.0019105697283521295\n",
            "Accuracy: 0.0074 Loss_Val: 14.420803804397583\n"
          ]
        },
        {
          "output_type": "stream",
          "name": "stderr",
          "text": [
            "Training: 100%|██████████| 1/1 [00:00<00:00, 11.08it/s]\n"
          ]
        },
        {
          "output_type": "stream",
          "name": "stdout",
          "text": [
            "Epoch: 111/159 Loss_Train: 0.0009679944487288594\n",
            "Accuracy: 0.0072 Loss_Val: 14.445156445503235\n"
          ]
        },
        {
          "output_type": "stream",
          "name": "stderr",
          "text": [
            "Training: 100%|██████████| 1/1 [00:00<00:00, 14.23it/s]\n"
          ]
        },
        {
          "output_type": "stream",
          "name": "stdout",
          "text": [
            "Epoch: 112/159 Loss_Train: 0.0026516185607761145\n",
            "Accuracy: 0.0074 Loss_Val: 14.586029810905456\n"
          ]
        },
        {
          "output_type": "stream",
          "name": "stderr",
          "text": [
            "Training: 100%|██████████| 1/1 [00:00<00:00, 15.67it/s]\n"
          ]
        },
        {
          "output_type": "stream",
          "name": "stdout",
          "text": [
            "Epoch: 113/159 Loss_Train: 0.0011285070795565844\n",
            "Accuracy: 0.0076 Loss_Val: 14.632566804885863\n"
          ]
        },
        {
          "output_type": "stream",
          "name": "stderr",
          "text": [
            "Training: 100%|██████████| 1/1 [00:00<00:00, 14.92it/s]\n"
          ]
        },
        {
          "output_type": "stream",
          "name": "stdout",
          "text": [
            "Epoch: 114/159 Loss_Train: 0.0007869118708185852\n",
            "Accuracy: 0.0076 Loss_Val: 14.586630020141602\n"
          ]
        },
        {
          "output_type": "stream",
          "name": "stderr",
          "text": [
            "Training: 100%|██████████| 1/1 [00:00<00:00, 13.48it/s]\n"
          ]
        },
        {
          "output_type": "stream",
          "name": "stdout",
          "text": [
            "Epoch: 115/159 Loss_Train: 0.000445105426479131\n",
            "Accuracy: 0.0079 Loss_Val: 14.607249670028686\n"
          ]
        },
        {
          "output_type": "stream",
          "name": "stderr",
          "text": [
            "Training: 100%|██████████| 1/1 [00:00<00:00, 14.39it/s]\n"
          ]
        },
        {
          "output_type": "stream",
          "name": "stdout",
          "text": [
            "Epoch: 116/159 Loss_Train: 0.00032955259666778147\n",
            "Accuracy: 0.0079 Loss_Val: 14.594492373466492\n"
          ]
        },
        {
          "output_type": "stream",
          "name": "stderr",
          "text": [
            "Training: 100%|██████████| 1/1 [00:00<00:00,  9.89it/s]\n"
          ]
        },
        {
          "output_type": "stream",
          "name": "stdout",
          "text": [
            "Epoch: 117/159 Loss_Train: 0.0005004705744795501\n",
            "Accuracy: 0.0078000000000000005 Loss_Val: 14.48897219657898\n"
          ]
        },
        {
          "output_type": "stream",
          "name": "stderr",
          "text": [
            "Training: 100%|██████████| 1/1 [00:00<00:00, 15.16it/s]\n"
          ]
        },
        {
          "output_type": "stream",
          "name": "stdout",
          "text": [
            "Epoch: 118/159 Loss_Train: 0.0005740703782066703\n",
            "Accuracy: 0.0077 Loss_Val: 14.482172808647157\n"
          ]
        },
        {
          "output_type": "stream",
          "name": "stderr",
          "text": [
            "Training: 100%|██████████| 1/1 [00:00<00:00, 15.04it/s]\n"
          ]
        },
        {
          "output_type": "stream",
          "name": "stdout",
          "text": [
            "Epoch: 119/159 Loss_Train: 0.000588566588703543\n",
            "Accuracy: 0.0079 Loss_Val: 14.65006015777588\n"
          ]
        },
        {
          "output_type": "stream",
          "name": "stderr",
          "text": [
            "Training: 100%|██████████| 1/1 [00:00<00:00, 14.49it/s]\n"
          ]
        },
        {
          "output_type": "stream",
          "name": "stdout",
          "text": [
            "Epoch: 120/159 Loss_Train: 0.009820513427257538\n",
            "Accuracy: 0.008100000000000001 Loss_Val: 14.560414400100708\n"
          ]
        },
        {
          "output_type": "stream",
          "name": "stderr",
          "text": [
            "Training: 100%|██████████| 1/1 [00:00<00:00, 14.23it/s]\n"
          ]
        },
        {
          "output_type": "stream",
          "name": "stdout",
          "text": [
            "Epoch: 121/159 Loss_Train: 0.0006706076674163342\n",
            "Accuracy: 0.0077 Loss_Val: 14.546582889556884\n"
          ]
        },
        {
          "output_type": "stream",
          "name": "stderr",
          "text": [
            "Training: 100%|██████████| 1/1 [00:00<00:00, 13.32it/s]\n"
          ]
        },
        {
          "output_type": "stream",
          "name": "stdout",
          "text": [
            "Epoch: 122/159 Loss_Train: 0.0003872016095556319\n",
            "Accuracy: 0.008100000000000001 Loss_Val: 14.611119952201843\n"
          ]
        },
        {
          "output_type": "stream",
          "name": "stderr",
          "text": [
            "Training: 100%|██████████| 1/1 [00:00<00:00, 11.56it/s]\n"
          ]
        },
        {
          "output_type": "stream",
          "name": "stdout",
          "text": [
            "Epoch: 123/159 Loss_Train: 0.0006388416513800621\n",
            "Accuracy: 0.0077 Loss_Val: 14.506782803535462\n"
          ]
        },
        {
          "output_type": "stream",
          "name": "stderr",
          "text": [
            "Training: 100%|██████████| 1/1 [00:00<00:00, 14.11it/s]\n"
          ]
        },
        {
          "output_type": "stream",
          "name": "stdout",
          "text": [
            "Epoch: 124/159 Loss_Train: 0.0003729232994373888\n",
            "Accuracy: 0.0076 Loss_Val: 14.442015771865846\n"
          ]
        },
        {
          "output_type": "stream",
          "name": "stderr",
          "text": [
            "Training: 100%|██████████| 1/1 [00:00<00:00,  9.51it/s]\n"
          ]
        },
        {
          "output_type": "stream",
          "name": "stdout",
          "text": [
            "Epoch: 125/159 Loss_Train: 0.00019585054542403668\n",
            "Accuracy: 0.0074 Loss_Val: 14.381774983406068\n"
          ]
        },
        {
          "output_type": "stream",
          "name": "stderr",
          "text": [
            "Training: 100%|██████████| 1/1 [00:00<00:00, 13.80it/s]\n"
          ]
        },
        {
          "output_type": "stream",
          "name": "stdout",
          "text": [
            "Epoch: 126/159 Loss_Train: 0.0003625178651418537\n",
            "Accuracy: 0.0077 Loss_Val: 14.418557524681091\n"
          ]
        },
        {
          "output_type": "stream",
          "name": "stderr",
          "text": [
            "Training: 100%|██████████| 1/1 [00:00<00:00,  6.37it/s]\n"
          ]
        },
        {
          "output_type": "stream",
          "name": "stdout",
          "text": [
            "Epoch: 127/159 Loss_Train: 0.0009382053976878524\n",
            "Accuracy: 0.008 Loss_Val: 14.525435967445373\n"
          ]
        },
        {
          "output_type": "stream",
          "name": "stderr",
          "text": [
            "Training: 100%|██████████| 1/1 [00:00<00:00, 14.69it/s]\n"
          ]
        },
        {
          "output_type": "stream",
          "name": "stdout",
          "text": [
            "Epoch: 128/159 Loss_Train: 0.00017693595145829022\n",
            "Accuracy: 0.0079 Loss_Val: 14.593635702133179\n"
          ]
        },
        {
          "output_type": "stream",
          "name": "stderr",
          "text": [
            "Training: 100%|██████████| 1/1 [00:00<00:00, 14.53it/s]\n"
          ]
        },
        {
          "output_type": "stream",
          "name": "stdout",
          "text": [
            "Epoch: 129/159 Loss_Train: 0.00017204604228027165\n",
            "Accuracy: 0.0079 Loss_Val: 14.66986999988556\n"
          ]
        },
        {
          "output_type": "stream",
          "name": "stderr",
          "text": [
            "Training: 100%|██████████| 1/1 [00:00<00:00,  9.33it/s]\n"
          ]
        },
        {
          "output_type": "stream",
          "name": "stdout",
          "text": [
            "Epoch: 130/159 Loss_Train: 0.002055369084700942\n",
            "Accuracy: 0.008 Loss_Val: 14.72931097984314\n"
          ]
        },
        {
          "output_type": "stream",
          "name": "stderr",
          "text": [
            "Training: 100%|██████████| 1/1 [00:00<00:00, 11.28it/s]\n"
          ]
        },
        {
          "output_type": "stream",
          "name": "stdout",
          "text": [
            "Epoch: 131/159 Loss_Train: 0.00020495083299465477\n",
            "Accuracy: 0.0079 Loss_Val: 14.671595306396485\n"
          ]
        },
        {
          "output_type": "stream",
          "name": "stderr",
          "text": [
            "Training: 100%|██████████| 1/1 [00:00<00:00, 15.52it/s]\n"
          ]
        },
        {
          "output_type": "stream",
          "name": "stdout",
          "text": [
            "Epoch: 132/159 Loss_Train: 0.0003785898443311453\n",
            "Accuracy: 0.0079 Loss_Val: 14.566775889396668\n"
          ]
        },
        {
          "output_type": "stream",
          "name": "stderr",
          "text": [
            "Training: 100%|██████████| 1/1 [00:00<00:00, 12.85it/s]\n"
          ]
        },
        {
          "output_type": "stream",
          "name": "stdout",
          "text": [
            "Epoch: 133/159 Loss_Train: 0.00020584906451404095\n",
            "Accuracy: 0.0074 Loss_Val: 14.446731171607972\n"
          ]
        },
        {
          "output_type": "stream",
          "name": "stderr",
          "text": [
            "Training: 100%|██████████| 1/1 [00:00<00:00, 13.59it/s]\n"
          ]
        },
        {
          "output_type": "stream",
          "name": "stdout",
          "text": [
            "Epoch: 134/159 Loss_Train: 0.0008307700045406818\n",
            "Accuracy: 0.0072 Loss_Val: 14.385102205276489\n"
          ]
        },
        {
          "output_type": "stream",
          "name": "stderr",
          "text": [
            "Training: 100%|██████████| 1/1 [00:00<00:00, 14.73it/s]\n"
          ]
        },
        {
          "output_type": "stream",
          "name": "stdout",
          "text": [
            "Epoch: 135/159 Loss_Train: 0.0008771467837505043\n",
            "Accuracy: 0.006999999999999999 Loss_Val: 14.366703567504883\n"
          ]
        },
        {
          "output_type": "stream",
          "name": "stderr",
          "text": [
            "Training: 100%|██████████| 1/1 [00:00<00:00, 15.06it/s]\n"
          ]
        },
        {
          "output_type": "stream",
          "name": "stdout",
          "text": [
            "Epoch: 136/159 Loss_Train: 0.0002661828766576946\n",
            "Accuracy: 0.0076 Loss_Val: 14.399432501792909\n"
          ]
        },
        {
          "output_type": "stream",
          "name": "stderr",
          "text": [
            "Training: 100%|██████████| 1/1 [00:00<00:00,  7.85it/s]\n"
          ]
        },
        {
          "output_type": "stream",
          "name": "stdout",
          "text": [
            "Epoch: 137/159 Loss_Train: 0.00012358893582131714\n",
            "Accuracy: 0.0075 Loss_Val: 14.353648538589477\n"
          ]
        },
        {
          "output_type": "stream",
          "name": "stderr",
          "text": [
            "Training: 100%|██████████| 1/1 [00:00<00:00, 15.10it/s]\n"
          ]
        },
        {
          "output_type": "stream",
          "name": "stdout",
          "text": [
            "Epoch: 138/159 Loss_Train: 0.0004867544921580702\n",
            "Accuracy: 0.0070999999999999995 Loss_Val: 14.361436867713929\n"
          ]
        },
        {
          "output_type": "stream",
          "name": "stderr",
          "text": [
            "Training: 100%|██████████| 1/1 [00:00<00:00, 13.71it/s]\n"
          ]
        },
        {
          "output_type": "stream",
          "name": "stdout",
          "text": [
            "Epoch: 139/159 Loss_Train: 0.00015461798466276377\n",
            "Accuracy: 0.0072 Loss_Val: 14.272589659690857\n"
          ]
        },
        {
          "output_type": "stream",
          "name": "stderr",
          "text": [
            "Training: 100%|██████████| 1/1 [00:00<00:00, 14.96it/s]\n"
          ]
        },
        {
          "output_type": "stream",
          "name": "stdout",
          "text": [
            "Epoch: 140/159 Loss_Train: 0.00024438113905489445\n",
            "Accuracy: 0.0072 Loss_Val: 14.406982231140137\n"
          ]
        },
        {
          "output_type": "stream",
          "name": "stderr",
          "text": [
            "Training: 100%|██████████| 1/1 [00:00<00:00, 14.39it/s]\n"
          ]
        },
        {
          "output_type": "stream",
          "name": "stdout",
          "text": [
            "Epoch: 141/159 Loss_Train: 0.0001114272527047433\n",
            "Accuracy: 0.0071 Loss_Val: 14.447042698860168\n"
          ]
        },
        {
          "output_type": "stream",
          "name": "stderr",
          "text": [
            "Training: 100%|██████████| 1/1 [00:00<00:00, 14.79it/s]\n"
          ]
        },
        {
          "output_type": "stream",
          "name": "stdout",
          "text": [
            "Epoch: 142/159 Loss_Train: 0.0004713269881904125\n",
            "Accuracy: 0.007200000000000001 Loss_Val: 14.501000509262084\n"
          ]
        },
        {
          "output_type": "stream",
          "name": "stderr",
          "text": [
            "Training: 100%|██████████| 1/1 [00:00<00:00, 14.78it/s]\n"
          ]
        },
        {
          "output_type": "stream",
          "name": "stdout",
          "text": [
            "Epoch: 143/159 Loss_Train: 0.0017299044411629438\n",
            "Accuracy: 0.0074 Loss_Val: 14.593916163444518\n"
          ]
        },
        {
          "output_type": "stream",
          "name": "stderr",
          "text": [
            "Training: 100%|██████████| 1/1 [00:00<00:00, 14.72it/s]\n"
          ]
        },
        {
          "output_type": "stream",
          "name": "stdout",
          "text": [
            "Epoch: 144/159 Loss_Train: 6.983984349062666e-05\n",
            "Accuracy: 0.0076 Loss_Val: 14.665553827285766\n"
          ]
        },
        {
          "output_type": "stream",
          "name": "stderr",
          "text": [
            "Training: 100%|██████████| 1/1 [00:00<00:00, 14.65it/s]\n"
          ]
        },
        {
          "output_type": "stream",
          "name": "stdout",
          "text": [
            "Epoch: 145/159 Loss_Train: 0.0003846299950964749\n",
            "Accuracy: 0.0075 Loss_Val: 14.552710361480713\n"
          ]
        },
        {
          "output_type": "stream",
          "name": "stderr",
          "text": [
            "Training: 100%|██████████| 1/1 [00:00<00:00, 14.32it/s]\n"
          ]
        },
        {
          "output_type": "stream",
          "name": "stdout",
          "text": [
            "Epoch: 146/159 Loss_Train: 0.00013338874850887805\n",
            "Accuracy: 0.0077 Loss_Val: 14.565391736030579\n"
          ]
        },
        {
          "output_type": "stream",
          "name": "stderr",
          "text": [
            "Training: 100%|██████████| 1/1 [00:00<00:00, 15.85it/s]\n"
          ]
        },
        {
          "output_type": "stream",
          "name": "stdout",
          "text": [
            "Epoch: 147/159 Loss_Train: 0.000286064634565264\n",
            "Accuracy: 0.0077 Loss_Val: 14.697042775154113\n"
          ]
        },
        {
          "output_type": "stream",
          "name": "stderr",
          "text": [
            "Training: 100%|██████████| 1/1 [00:00<00:00, 14.76it/s]\n"
          ]
        },
        {
          "output_type": "stream",
          "name": "stdout",
          "text": [
            "Epoch: 148/159 Loss_Train: 0.00017874976038001478\n",
            "Accuracy: 0.008 Loss_Val: 14.62816897392273\n"
          ]
        },
        {
          "output_type": "stream",
          "name": "stderr",
          "text": [
            "Training: 100%|██████████| 1/1 [00:00<00:00, 10.61it/s]\n"
          ]
        },
        {
          "output_type": "stream",
          "name": "stdout",
          "text": [
            "Epoch: 149/159 Loss_Train: 0.00015295110642910004\n",
            "Accuracy: 0.0078000000000000005 Loss_Val: 14.619975581169129\n"
          ]
        },
        {
          "output_type": "stream",
          "name": "stderr",
          "text": [
            "Training: 100%|██████████| 1/1 [00:00<00:00, 13.89it/s]\n"
          ]
        },
        {
          "output_type": "stream",
          "name": "stdout",
          "text": [
            "Epoch: 150/159 Loss_Train: 8.515379158779979e-05\n",
            "Accuracy: 0.0077 Loss_Val: 14.530703492164612\n"
          ]
        },
        {
          "output_type": "stream",
          "name": "stderr",
          "text": [
            "Training: 100%|██████████| 1/1 [00:00<00:00, 14.08it/s]\n"
          ]
        },
        {
          "output_type": "stream",
          "name": "stdout",
          "text": [
            "Epoch: 151/159 Loss_Train: 0.0005828369176015258\n",
            "Accuracy: 0.0077 Loss_Val: 14.520458664894104\n"
          ]
        },
        {
          "output_type": "stream",
          "name": "stderr",
          "text": [
            "Training: 100%|██████████| 1/1 [00:00<00:00, 14.95it/s]\n"
          ]
        },
        {
          "output_type": "stream",
          "name": "stdout",
          "text": [
            "Epoch: 152/159 Loss_Train: 0.00011969151819357648\n",
            "Accuracy: 0.0078000000000000005 Loss_Val: 14.561370615959168\n"
          ]
        },
        {
          "output_type": "stream",
          "name": "stderr",
          "text": [
            "Training: 100%|██████████| 1/1 [00:00<00:00, 14.31it/s]\n"
          ]
        },
        {
          "output_type": "stream",
          "name": "stdout",
          "text": [
            "Epoch: 153/159 Loss_Train: 0.0003648294077720493\n",
            "Accuracy: 0.0077 Loss_Val: 14.605051259994507\n"
          ]
        },
        {
          "output_type": "stream",
          "name": "stderr",
          "text": [
            "Training: 100%|██████████| 1/1 [00:00<00:00, 14.31it/s]\n"
          ]
        },
        {
          "output_type": "stream",
          "name": "stdout",
          "text": [
            "Epoch: 154/159 Loss_Train: 0.000361728947609663\n",
            "Accuracy: 0.0077 Loss_Val: 14.60610053539276\n"
          ]
        },
        {
          "output_type": "stream",
          "name": "stderr",
          "text": [
            "Training: 100%|██████████| 1/1 [00:00<00:00,  8.78it/s]\n"
          ]
        },
        {
          "output_type": "stream",
          "name": "stdout",
          "text": [
            "Epoch: 155/159 Loss_Train: 0.0003849011263810098\n",
            "Accuracy: 0.0073 Loss_Val: 14.423797149658203\n"
          ]
        },
        {
          "output_type": "stream",
          "name": "stderr",
          "text": [
            "Training: 100%|██████████| 1/1 [00:00<00:00, 13.18it/s]\n"
          ]
        },
        {
          "output_type": "stream",
          "name": "stdout",
          "text": [
            "Epoch: 156/159 Loss_Train: 0.0008427814464084804\n",
            "Accuracy: 0.0075 Loss_Val: 14.38212239742279\n"
          ]
        },
        {
          "output_type": "stream",
          "name": "stderr",
          "text": [
            "Training: 100%|██████████| 1/1 [00:00<00:00, 14.90it/s]\n"
          ]
        },
        {
          "output_type": "stream",
          "name": "stdout",
          "text": [
            "Epoch: 157/159 Loss_Train: 0.00044985272688791156\n",
            "Accuracy: 0.0077 Loss_Val: 14.420218486785888\n"
          ]
        },
        {
          "output_type": "stream",
          "name": "stderr",
          "text": [
            "Training: 100%|██████████| 1/1 [00:00<00:00, 14.52it/s]\n"
          ]
        },
        {
          "output_type": "stream",
          "name": "stdout",
          "text": [
            "Epoch: 158/159 Loss_Train: 0.001488102599978447\n",
            "Accuracy: 0.0078000000000000005 Loss_Val: 14.480855741500854\n"
          ]
        },
        {
          "output_type": "stream",
          "name": "stderr",
          "text": [
            "Training: 100%|██████████| 1/1 [00:00<00:00, 14.00it/s]\n"
          ]
        },
        {
          "output_type": "stream",
          "name": "stdout",
          "text": [
            "Epoch: 159/159 Loss_Train: 0.00015721135423518717\n",
            "Accuracy: 0.0077 Loss_Val: 14.487541255950928\n"
          ]
        }
      ]
    },
    {
      "cell_type": "code",
      "source": [
        "test_loader = DataLoader(test_dataset, batch_size=batch_size)\n",
        "\n",
        "with torch.no_grad():\n",
        "    loss_accuracy = [validation_step(val_input_ids.to(device), val_target_ids.to(device))\n",
        "        for val_input_ids, val_target_ids in val_dataloader]\n",
        "        \n",
        "    mean_accuracy = np.array(loss_accuracy)[:,0].mean()\n",
        "    mean_loss = np.array(loss_accuracy)[:,1].mean()\n",
        "\n",
        "print(f'TEST: Accuracy: {mean_accuracy} Loss_Val: {mean_loss}')"
      ],
      "metadata": {
        "id": "WGqEsYrN75vq"
      },
      "execution_count": null,
      "outputs": []
    }
  ]
}