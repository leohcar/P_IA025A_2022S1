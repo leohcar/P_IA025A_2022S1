{
  "nbformat": 4,
  "nbformat_minor": 0,
  "metadata": {
    "colab": {
      "name": "Proyecto_encoder_resnet",
      "provenance": [],
      "collapsed_sections": [],
      "include_colab_link": true
    },
    "kernelspec": {
      "name": "python3",
      "display_name": "Python 3"
    },
    "language_info": {
      "name": "python"
    },
    "accelerator": "GPU",
    "gpuClass": "standard",
    "widgets": {
      "application/vnd.jupyter.widget-state+json": {
        "6ccd88b2cc444d0f84be58f11a217845": {
          "model_module": "@jupyter-widgets/controls",
          "model_name": "HBoxModel",
          "model_module_version": "1.5.0",
          "state": {
            "_dom_classes": [],
            "_model_module": "@jupyter-widgets/controls",
            "_model_module_version": "1.5.0",
            "_model_name": "HBoxModel",
            "_view_count": null,
            "_view_module": "@jupyter-widgets/controls",
            "_view_module_version": "1.5.0",
            "_view_name": "HBoxView",
            "box_style": "",
            "children": [
              "IPY_MODEL_2e75c5a5b66f42768dfc31043c34c52a",
              "IPY_MODEL_d9ef5217ad1e4233bfbccd2da7937310",
              "IPY_MODEL_a188d9b3b3ce4c12a6ed727a792e611b"
            ],
            "layout": "IPY_MODEL_7530051a913043db9fafe1f6c91d040a"
          }
        },
        "2e75c5a5b66f42768dfc31043c34c52a": {
          "model_module": "@jupyter-widgets/controls",
          "model_name": "HTMLModel",
          "model_module_version": "1.5.0",
          "state": {
            "_dom_classes": [],
            "_model_module": "@jupyter-widgets/controls",
            "_model_module_version": "1.5.0",
            "_model_name": "HTMLModel",
            "_view_count": null,
            "_view_module": "@jupyter-widgets/controls",
            "_view_module_version": "1.5.0",
            "_view_name": "HTMLView",
            "description": "",
            "description_tooltip": null,
            "layout": "IPY_MODEL_a0ee8b359fbc409b936ec88502fe6c22",
            "placeholder": "​",
            "style": "IPY_MODEL_678ffcc8a1f145e8bc40804d3f6eef73",
            "value": ""
          }
        },
        "d9ef5217ad1e4233bfbccd2da7937310": {
          "model_module": "@jupyter-widgets/controls",
          "model_name": "FloatProgressModel",
          "model_module_version": "1.5.0",
          "state": {
            "_dom_classes": [],
            "_model_module": "@jupyter-widgets/controls",
            "_model_module_version": "1.5.0",
            "_model_name": "FloatProgressModel",
            "_view_count": null,
            "_view_module": "@jupyter-widgets/controls",
            "_view_module_version": "1.5.0",
            "_view_name": "ProgressView",
            "bar_style": "success",
            "description": "",
            "description_tooltip": null,
            "layout": "IPY_MODEL_c527c4958cda4a20b4f5961730396f01",
            "max": 169001437,
            "min": 0,
            "orientation": "horizontal",
            "style": "IPY_MODEL_6a06644b7b944bbbb21751c9354dd6c8",
            "value": 169001437
          }
        },
        "a188d9b3b3ce4c12a6ed727a792e611b": {
          "model_module": "@jupyter-widgets/controls",
          "model_name": "HTMLModel",
          "model_module_version": "1.5.0",
          "state": {
            "_dom_classes": [],
            "_model_module": "@jupyter-widgets/controls",
            "_model_module_version": "1.5.0",
            "_model_name": "HTMLModel",
            "_view_count": null,
            "_view_module": "@jupyter-widgets/controls",
            "_view_module_version": "1.5.0",
            "_view_name": "HTMLView",
            "description": "",
            "description_tooltip": null,
            "layout": "IPY_MODEL_1fa687adef454e6fa69f19df770d8d5c",
            "placeholder": "​",
            "style": "IPY_MODEL_a494e4191a8a4f5f80af5e43cef13e5a",
            "value": " 169001984/? [00:02&lt;00:00, 99418518.64it/s]"
          }
        },
        "7530051a913043db9fafe1f6c91d040a": {
          "model_module": "@jupyter-widgets/base",
          "model_name": "LayoutModel",
          "model_module_version": "1.2.0",
          "state": {
            "_model_module": "@jupyter-widgets/base",
            "_model_module_version": "1.2.0",
            "_model_name": "LayoutModel",
            "_view_count": null,
            "_view_module": "@jupyter-widgets/base",
            "_view_module_version": "1.2.0",
            "_view_name": "LayoutView",
            "align_content": null,
            "align_items": null,
            "align_self": null,
            "border": null,
            "bottom": null,
            "display": null,
            "flex": null,
            "flex_flow": null,
            "grid_area": null,
            "grid_auto_columns": null,
            "grid_auto_flow": null,
            "grid_auto_rows": null,
            "grid_column": null,
            "grid_gap": null,
            "grid_row": null,
            "grid_template_areas": null,
            "grid_template_columns": null,
            "grid_template_rows": null,
            "height": null,
            "justify_content": null,
            "justify_items": null,
            "left": null,
            "margin": null,
            "max_height": null,
            "max_width": null,
            "min_height": null,
            "min_width": null,
            "object_fit": null,
            "object_position": null,
            "order": null,
            "overflow": null,
            "overflow_x": null,
            "overflow_y": null,
            "padding": null,
            "right": null,
            "top": null,
            "visibility": null,
            "width": null
          }
        },
        "a0ee8b359fbc409b936ec88502fe6c22": {
          "model_module": "@jupyter-widgets/base",
          "model_name": "LayoutModel",
          "model_module_version": "1.2.0",
          "state": {
            "_model_module": "@jupyter-widgets/base",
            "_model_module_version": "1.2.0",
            "_model_name": "LayoutModel",
            "_view_count": null,
            "_view_module": "@jupyter-widgets/base",
            "_view_module_version": "1.2.0",
            "_view_name": "LayoutView",
            "align_content": null,
            "align_items": null,
            "align_self": null,
            "border": null,
            "bottom": null,
            "display": null,
            "flex": null,
            "flex_flow": null,
            "grid_area": null,
            "grid_auto_columns": null,
            "grid_auto_flow": null,
            "grid_auto_rows": null,
            "grid_column": null,
            "grid_gap": null,
            "grid_row": null,
            "grid_template_areas": null,
            "grid_template_columns": null,
            "grid_template_rows": null,
            "height": null,
            "justify_content": null,
            "justify_items": null,
            "left": null,
            "margin": null,
            "max_height": null,
            "max_width": null,
            "min_height": null,
            "min_width": null,
            "object_fit": null,
            "object_position": null,
            "order": null,
            "overflow": null,
            "overflow_x": null,
            "overflow_y": null,
            "padding": null,
            "right": null,
            "top": null,
            "visibility": null,
            "width": null
          }
        },
        "678ffcc8a1f145e8bc40804d3f6eef73": {
          "model_module": "@jupyter-widgets/controls",
          "model_name": "DescriptionStyleModel",
          "model_module_version": "1.5.0",
          "state": {
            "_model_module": "@jupyter-widgets/controls",
            "_model_module_version": "1.5.0",
            "_model_name": "DescriptionStyleModel",
            "_view_count": null,
            "_view_module": "@jupyter-widgets/base",
            "_view_module_version": "1.2.0",
            "_view_name": "StyleView",
            "description_width": ""
          }
        },
        "c527c4958cda4a20b4f5961730396f01": {
          "model_module": "@jupyter-widgets/base",
          "model_name": "LayoutModel",
          "model_module_version": "1.2.0",
          "state": {
            "_model_module": "@jupyter-widgets/base",
            "_model_module_version": "1.2.0",
            "_model_name": "LayoutModel",
            "_view_count": null,
            "_view_module": "@jupyter-widgets/base",
            "_view_module_version": "1.2.0",
            "_view_name": "LayoutView",
            "align_content": null,
            "align_items": null,
            "align_self": null,
            "border": null,
            "bottom": null,
            "display": null,
            "flex": null,
            "flex_flow": null,
            "grid_area": null,
            "grid_auto_columns": null,
            "grid_auto_flow": null,
            "grid_auto_rows": null,
            "grid_column": null,
            "grid_gap": null,
            "grid_row": null,
            "grid_template_areas": null,
            "grid_template_columns": null,
            "grid_template_rows": null,
            "height": null,
            "justify_content": null,
            "justify_items": null,
            "left": null,
            "margin": null,
            "max_height": null,
            "max_width": null,
            "min_height": null,
            "min_width": null,
            "object_fit": null,
            "object_position": null,
            "order": null,
            "overflow": null,
            "overflow_x": null,
            "overflow_y": null,
            "padding": null,
            "right": null,
            "top": null,
            "visibility": null,
            "width": null
          }
        },
        "6a06644b7b944bbbb21751c9354dd6c8": {
          "model_module": "@jupyter-widgets/controls",
          "model_name": "ProgressStyleModel",
          "model_module_version": "1.5.0",
          "state": {
            "_model_module": "@jupyter-widgets/controls",
            "_model_module_version": "1.5.0",
            "_model_name": "ProgressStyleModel",
            "_view_count": null,
            "_view_module": "@jupyter-widgets/base",
            "_view_module_version": "1.2.0",
            "_view_name": "StyleView",
            "bar_color": null,
            "description_width": ""
          }
        },
        "1fa687adef454e6fa69f19df770d8d5c": {
          "model_module": "@jupyter-widgets/base",
          "model_name": "LayoutModel",
          "model_module_version": "1.2.0",
          "state": {
            "_model_module": "@jupyter-widgets/base",
            "_model_module_version": "1.2.0",
            "_model_name": "LayoutModel",
            "_view_count": null,
            "_view_module": "@jupyter-widgets/base",
            "_view_module_version": "1.2.0",
            "_view_name": "LayoutView",
            "align_content": null,
            "align_items": null,
            "align_self": null,
            "border": null,
            "bottom": null,
            "display": null,
            "flex": null,
            "flex_flow": null,
            "grid_area": null,
            "grid_auto_columns": null,
            "grid_auto_flow": null,
            "grid_auto_rows": null,
            "grid_column": null,
            "grid_gap": null,
            "grid_row": null,
            "grid_template_areas": null,
            "grid_template_columns": null,
            "grid_template_rows": null,
            "height": null,
            "justify_content": null,
            "justify_items": null,
            "left": null,
            "margin": null,
            "max_height": null,
            "max_width": null,
            "min_height": null,
            "min_width": null,
            "object_fit": null,
            "object_position": null,
            "order": null,
            "overflow": null,
            "overflow_x": null,
            "overflow_y": null,
            "padding": null,
            "right": null,
            "top": null,
            "visibility": null,
            "width": null
          }
        },
        "a494e4191a8a4f5f80af5e43cef13e5a": {
          "model_module": "@jupyter-widgets/controls",
          "model_name": "DescriptionStyleModel",
          "model_module_version": "1.5.0",
          "state": {
            "_model_module": "@jupyter-widgets/controls",
            "_model_module_version": "1.5.0",
            "_model_name": "DescriptionStyleModel",
            "_view_count": null,
            "_view_module": "@jupyter-widgets/base",
            "_view_module_version": "1.2.0",
            "_view_name": "StyleView",
            "description_width": ""
          }
        }
      }
    }
  },
  "cells": [
    {
      "cell_type": "markdown",
      "metadata": {
        "id": "view-in-github",
        "colab_type": "text"
      },
      "source": [
        "<a href=\"https://colab.research.google.com/github/leohcar/P_IA025A_2022S1/blob/main/segunda_entrega/Proyecto_encoder_resnet.ipynb\" target=\"_parent\"><img src=\"https://colab.research.google.com/assets/colab-badge.svg\" alt=\"Open In Colab\"/></a>"
      ]
    },
    {
      "cell_type": "markdown",
      "source": [
        "# Encoder"
      ],
      "metadata": {
        "id": "k3m40JYHf-UB"
      }
    },
    {
      "cell_type": "code",
      "execution_count": null,
      "metadata": {
        "id": "WFKQOen_f3J8",
        "colab": {
          "base_uri": "https://localhost:8080/"
        },
        "outputId": "d1fbf0ec-3c76-418a-a494-5bfbccaeb192"
      },
      "outputs": [
        {
          "output_type": "stream",
          "name": "stdout",
          "text": [
            "Meu nome é Carlos Leonardo Ancasi Hinostroza\n"
          ]
        }
      ],
      "source": [
        "nome = 'Carlos Leonardo Ancasi Hinostroza'\n",
        "\n",
        "print(f'Meu nome é {nome}')"
      ]
    },
    {
      "cell_type": "markdown",
      "source": [
        "# Importação das bibliotecas"
      ],
      "metadata": {
        "id": "zVxl_iLNgGTB"
      }
    },
    {
      "cell_type": "code",
      "source": [
        "import collections\n",
        "import itertools\n",
        "import functools\n",
        "import math\n",
        "import random\n",
        "\n",
        "import torch\n",
        "import torchvision\n",
        "import torch.nn as nn\n",
        "import numpy as np\n",
        "from torch.utils.data import DataLoader\n",
        "from tqdm import tqdm_notebook\n",
        "\n",
        "from torchvision.datasets import MNIST"
      ],
      "metadata": {
        "id": "iwnitOBZgDBT"
      },
      "execution_count": null,
      "outputs": []
    },
    {
      "cell_type": "code",
      "source": [
        "# Check which GPU we are using\n",
        "!nvidia-smi"
      ],
      "metadata": {
        "colab": {
          "base_uri": "https://localhost:8080/"
        },
        "id": "DhwSJHu-xa-i",
        "outputId": "5f65871f-be48-4944-82d2-9ecd249b168e"
      },
      "execution_count": null,
      "outputs": [
        {
          "output_type": "stream",
          "name": "stdout",
          "text": [
            "Wed Jul  6 15:38:15 2022       \n",
            "+-----------------------------------------------------------------------------+\n",
            "| NVIDIA-SMI 460.32.03    Driver Version: 460.32.03    CUDA Version: 11.2     |\n",
            "|-------------------------------+----------------------+----------------------+\n",
            "| GPU  Name        Persistence-M| Bus-Id        Disp.A | Volatile Uncorr. ECC |\n",
            "| Fan  Temp  Perf  Pwr:Usage/Cap|         Memory-Usage | GPU-Util  Compute M. |\n",
            "|                               |                      |               MIG M. |\n",
            "|===============================+======================+======================|\n",
            "|   0  Tesla T4            Off  | 00000000:00:04.0 Off |                    0 |\n",
            "| N/A   43C    P8     9W /  70W |      0MiB / 15109MiB |      0%      Default |\n",
            "|                               |                      |                  N/A |\n",
            "+-------------------------------+----------------------+----------------------+\n",
            "                                                                               \n",
            "+-----------------------------------------------------------------------------+\n",
            "| Processes:                                                                  |\n",
            "|  GPU   GI   CI        PID   Type   Process name                  GPU Memory |\n",
            "|        ID   ID                                                   Usage      |\n",
            "|=============================================================================|\n",
            "|  No running processes found                                                 |\n",
            "+-----------------------------------------------------------------------------+\n"
          ]
        }
      ]
    },
    {
      "cell_type": "code",
      "source": [
        "device = torch.device('cpu')\n",
        "if torch.cuda.is_available():\n",
        "    device = torch.device('cuda')\n",
        "print('GPU available:', device)"
      ],
      "metadata": {
        "id": "MFMJaJoAgfWh",
        "colab": {
          "base_uri": "https://localhost:8080/"
        },
        "outputId": "f71be360-abfe-4728-db31-fe69eb4c72e4"
      },
      "execution_count": null,
      "outputs": [
        {
          "output_type": "stream",
          "name": "stdout",
          "text": [
            "GPU available: cuda\n"
          ]
        }
      ]
    },
    {
      "cell_type": "code",
      "source": [
        "random.seed(123)\n",
        "np.random.seed(123)\n",
        "torch.manual_seed(123)"
      ],
      "metadata": {
        "id": "nQ7nrCOfgmxp",
        "colab": {
          "base_uri": "https://localhost:8080/"
        },
        "outputId": "a3694c89-dc65-4891-ee42-080a9e1199db"
      },
      "execution_count": null,
      "outputs": [
        {
          "output_type": "execute_result",
          "data": {
            "text/plain": [
              "<torch._C.Generator at 0x7f6abcc71950>"
            ]
          },
          "metadata": {},
          "execution_count": 5
        }
      ]
    },
    {
      "cell_type": "markdown",
      "source": [
        "#Dataset e dataloader"
      ],
      "metadata": {
        "id": "qiGkG6Z7gqMl"
      }
    },
    {
      "cell_type": "code",
      "source": [
        "!mkdir ./data\n",
        "\n",
        "# transform = torchvision.transforms.Compose(\n",
        "#     [torchvision.transforms.Resize([224,224]),\n",
        "#      torchvision.transforms.ToTensor(),\n",
        "#      torchvision.transforms.Normalize((0.5,0.5,0.5),(0.5,0.5,0.5))])\n",
        "transform = torchvision.transforms.Compose(\n",
        "     [torchvision.transforms.ToTensor(),\n",
        "     torchvision.transforms.Normalize((0.5,0.5,0.5),(0.5,0.5,0.5))])\n",
        "\n",
        "train_dataset = torchvision.datasets.CIFAR100(root='./data', train=True,\n",
        "                                             download=True, transform=transform)\n",
        "\n",
        "test_dataset = torchvision.datasets.CIFAR100(root='./data', train=False,\n",
        "                                            download=True, transform=transform)"
      ],
      "metadata": {
        "id": "HzsxWm4zgptJ",
        "colab": {
          "base_uri": "https://localhost:8080/",
          "height": 101,
          "referenced_widgets": [
            "6ccd88b2cc444d0f84be58f11a217845",
            "2e75c5a5b66f42768dfc31043c34c52a",
            "d9ef5217ad1e4233bfbccd2da7937310",
            "a188d9b3b3ce4c12a6ed727a792e611b",
            "7530051a913043db9fafe1f6c91d040a",
            "a0ee8b359fbc409b936ec88502fe6c22",
            "678ffcc8a1f145e8bc40804d3f6eef73",
            "c527c4958cda4a20b4f5961730396f01",
            "6a06644b7b944bbbb21751c9354dd6c8",
            "1fa687adef454e6fa69f19df770d8d5c",
            "a494e4191a8a4f5f80af5e43cef13e5a"
          ]
        },
        "outputId": "d94b18fe-b1a2-44bf-c879-f11716881108"
      },
      "execution_count": null,
      "outputs": [
        {
          "output_type": "stream",
          "name": "stdout",
          "text": [
            "Downloading https://www.cs.toronto.edu/~kriz/cifar-100-python.tar.gz to ./data/cifar-100-python.tar.gz\n"
          ]
        },
        {
          "output_type": "display_data",
          "data": {
            "text/plain": [
              "  0%|          | 0/169001437 [00:00<?, ?it/s]"
            ],
            "application/vnd.jupyter.widget-view+json": {
              "version_major": 2,
              "version_minor": 0,
              "model_id": "6ccd88b2cc444d0f84be58f11a217845"
            }
          },
          "metadata": {}
        },
        {
          "output_type": "stream",
          "name": "stdout",
          "text": [
            "Extracting ./data/cifar-100-python.tar.gz to ./data\n",
            "Files already downloaded and verified\n"
          ]
        }
      ]
    },
    {
      "cell_type": "code",
      "source": [
        "print(f'numero de imagenes {len(train_dataset)}')\n",
        "img, target = train_dataset[0]\n",
        "print(img.size())"
      ],
      "metadata": {
        "colab": {
          "base_uri": "https://localhost:8080/"
        },
        "id": "vNiG6o-Y9khm",
        "outputId": "b4a5fccd-3918-410f-caff-74578d225c9d"
      },
      "execution_count": null,
      "outputs": [
        {
          "output_type": "stream",
          "name": "stdout",
          "text": [
            "numero de imagenes 50000\n",
            "torch.Size([3, 32, 32])\n"
          ]
        }
      ]
    },
    {
      "cell_type": "code",
      "source": [
        "train_size = 40000\n",
        "val_size = 10000\n",
        "train_dataset, val_dataset = torch.utils.data.random_split(train_dataset, [train_size, val_size])"
      ],
      "metadata": {
        "id": "eKBHExbNjJbh"
      },
      "execution_count": null,
      "outputs": []
    },
    {
      "cell_type": "code",
      "source": [
        "batch_size = 50\n",
        "\n",
        "train_dataloader = DataLoader(train_dataset, batch_size=batch_size, shuffle=True)\n",
        "val_dataloader = DataLoader(val_dataset, batch_size=batch_size, shuffle=False)\n",
        "test_dataloader = DataLoader(test_dataset, batch_size=batch_size, shuffle=False)\n",
        "\n",
        "print('Número de minibatches de trenamento:', len(train_dataloader))\n",
        "print('Número de minibatches de validação:', len(val_dataloader))\n",
        "print('Número de minibatches de teste:', len(test_dataloader))\n",
        "\n",
        "x_train, y_train = next(iter(train_dataloader))\n",
        "print(\"\\nDimensões dos dados de um minibatch:\", x_train.size())\n",
        "print(\"Valores mínimo e máximo dos pixels: \", torch.min(x_train), torch.max(x_train))\n",
        "print(\"Tipo dos dados das imagens:         \", type(x_train))\n",
        "print(\"Tipo das classes das imagens:       \", type(y_train))"
      ],
      "metadata": {
        "id": "dCAtbFAfjbep",
        "colab": {
          "base_uri": "https://localhost:8080/"
        },
        "outputId": "32f46fc8-f19f-4c2f-e697-b12b31501a74"
      },
      "execution_count": null,
      "outputs": [
        {
          "output_type": "stream",
          "name": "stdout",
          "text": [
            "Número de minibatches de trenamento: 800\n",
            "Número de minibatches de validação: 200\n",
            "Número de minibatches de teste: 200\n",
            "\n",
            "Dimensões dos dados de um minibatch: torch.Size([50, 3, 32, 32])\n",
            "Valores mínimo e máximo dos pixels:  tensor(-1.) tensor(1.)\n",
            "Tipo dos dados das imagens:          <class 'torch.Tensor'>\n",
            "Tipo das classes das imagens:        <class 'torch.Tensor'>\n"
          ]
        }
      ]
    },
    {
      "cell_type": "markdown",
      "source": [
        "#Bloco Básico da Resnet"
      ],
      "metadata": {
        "id": "gZTWV8YEj8bZ"
      }
    },
    {
      "cell_type": "code",
      "source": [
        "from collections import OrderedDict\n",
        "from torch import nn\n",
        "from torch import Tensor\n",
        "\n",
        "\n",
        "class MyBlock(nn.Module):\n",
        "\n",
        "    def __init__(\n",
        "        self,\n",
        "        inplanes: int,\n",
        "        planes: int,\n",
        "        identity_downsample=None,\n",
        "        stride: int = 1,\n",
        "    ) -> None:\n",
        "        super(MyBlock, self).__init__()\n",
        "        # Escreva seu código aqui.\n",
        "        self.conv1 = nn.Conv2d(inplanes, planes, kernel_size=3, stride=stride, bias=False, padding=1)\n",
        "        self.bn1 = nn.BatchNorm2d(planes)\n",
        "        self.relu = nn.ReLU(inplace=True)\n",
        "        self.conv2 = nn.Conv2d(planes, planes, kernel_size=3, stride=1, bias=False, padding=1)\n",
        "        self.bn2 = nn.BatchNorm2d(planes)\n",
        "\n",
        "        self.identity_downsample = identity_downsample\n",
        "        self.stride = stride\n",
        "\n",
        "    def forward(self, x: Tensor) -> Tensor:\n",
        "        # Escreva seu código aqui.\n",
        "        identity = x\n",
        "\n",
        "        out = self.conv1(x)\n",
        "        out = self.bn1(out)\n",
        "        out = self.relu(out)\n",
        "\n",
        "        out = self.conv2(out)\n",
        "        out = self.bn2(out)\n",
        "        \n",
        "        if self.identity_downsample is not None:\n",
        "            identity = self.identity_downsample(x)\n",
        "        out += identity\n",
        "        out = self.relu(out)\n",
        "        return out"
      ],
      "metadata": {
        "id": "FRUodY_gj5cz"
      },
      "execution_count": null,
      "outputs": []
    },
    {
      "cell_type": "code",
      "source": [
        "class CNN_resnet(nn.Module):\n",
        "    def __init__(self, image_channels, num_classes):\n",
        "\n",
        "        super(CNN_resnet,self).__init__()\n",
        "\n",
        "        self.conv1 = nn.Conv2d(image_channels, 64, kernel_size=7, stride=2, padding=3)\n",
        "        self.bn1 = nn.BatchNorm2d(64)\n",
        "        self.relu = nn.ReLU()\n",
        "        self.maxpool = nn.MaxPool2d(kernel_size=3, stride=2, padding=1)\n",
        "\n",
        "        #resnet layers\n",
        "        self.layer1 = self.__make_layer(64, 64, stride=1)\n",
        "        self.layer2 = self.__make_layer(64, 128, stride=2)\n",
        "        self.layer3 = self.__make_layer(128, 256, stride=2)\n",
        "        self.layer4 = self.__make_layer(256, 512, stride=2)\n",
        "\n",
        "        self.avgpool = nn.AdaptiveAvgPool2d((1,1))\n",
        "\n",
        "        self.fc = nn.Linear(512, num_classes)\n",
        "      \n",
        "    def __make_layer(self, in_channels, out_channels, stride):\n",
        "\n",
        "        identity_downsample = None\n",
        "        \n",
        "        if stride != 1:\n",
        "            identity_downsample = nn.Sequential(nn.Conv2d(in_channels, out_channels, kernel_size=1, stride=stride, padding=0,bias=False),\n",
        "                nn.BatchNorm2d(out_channels))\n",
        "        return nn.Sequential(MyBlock(in_channels, out_channels, identity_downsample=identity_downsample, stride=stride),\n",
        "            MyBlock(out_channels, out_channels),\n",
        "            nn.Dropout(0.3))\n",
        "    \n",
        "    def forward(self, x):\n",
        "\n",
        "        out = self.conv1(x)\n",
        "        out = self.bn1(out)\n",
        "        out = self.relu(out)\n",
        "        out = self.maxpool(out)\n",
        "\n",
        "        out = self.layer1(out)\n",
        "        out = self.layer2(out)\n",
        "        out = self.layer3(out)\n",
        "        out = self.layer4(out)\n",
        "\n",
        "        out = self.avgpool(out)\n",
        "        out = out.view(x.shape[0], -1)\n",
        "        out = self.fc(out)\n",
        "        return out\n"
      ],
      "metadata": {
        "id": "6bCvEnhxoICS"
      },
      "execution_count": null,
      "outputs": []
    },
    {
      "cell_type": "code",
      "source": [
        "model = CNN_resnet(3,100).to(device)"
      ],
      "metadata": {
        "id": "k9TVLjRcoHaW"
      },
      "execution_count": null,
      "outputs": []
    },
    {
      "cell_type": "code",
      "source": [
        "num_params = sum(p.numel() for p in model.parameters() if p.requires_grad)\n",
        "print(f'Number of model parameters: {num_params}')"
      ],
      "metadata": {
        "colab": {
          "base_uri": "https://localhost:8080/"
        },
        "id": "88LjgPiXCHTW",
        "outputId": "f01cad72-8665-42c8-f247-8c6d556373b6"
      },
      "execution_count": null,
      "outputs": [
        {
          "output_type": "stream",
          "name": "stdout",
          "text": [
            "Number of model parameters: 11227876\n"
          ]
        }
      ]
    },
    {
      "cell_type": "code",
      "source": [
        "from google.colab import drive\n",
        "drive.mount('/content/drive')"
      ],
      "metadata": {
        "colab": {
          "base_uri": "https://localhost:8080/"
        },
        "id": "2rdvOfJDzAGG",
        "outputId": "f6ef57e7-1ed4-4462-fecb-a05cc896f5f5"
      },
      "execution_count": null,
      "outputs": [
        {
          "output_type": "stream",
          "name": "stdout",
          "text": [
            "Mounted at /content/drive\n"
          ]
        }
      ]
    },
    {
      "cell_type": "code",
      "source": [
        "model_save_name = 'model_resnet18_CIFAR_01.pt'\n",
        "path_modelo = F\"/content/drive/My Drive/modelo1/{model_save_name}\""
      ],
      "metadata": {
        "id": "5GrUOps4zBPK"
      },
      "execution_count": null,
      "outputs": []
    },
    {
      "cell_type": "code",
      "source": [
        "# Iniciar o treinamento\n",
        "from tqdm import tqdm\n",
        "\n",
        "n_epochs = 20\n",
        "lr = 3e-4\n",
        "\n",
        "img_channels = 3\n",
        "num_classes = 100\n",
        "\n",
        "model = CNN_resnet(img_channels,num_classes).to(device)\n",
        "\n",
        "# train_dataloader = DataLoader(train_dataset, batch_size=batch_size, shuffle=True)\n",
        "# val_dataloader = DataLoader(val_dataset, batch_size=batch_size, shuffle=False)\n",
        "# test_dataloader = DataLoader(test_dataset, batch_size=batch_size, shuffle=False)\n",
        "\n",
        "optimizer = torch.optim.Adam(model.parameters(), lr=lr)\n",
        "\n",
        "checkpoint = {\n",
        "    'img_channels': img_channels,\n",
        "    'num_classes': num_classes,\n",
        "    'model_state_dict': model.state_dict(),\n",
        "    'optimizer_state_dict' : optimizer.state_dict(),\n",
        "    'epochs': [],\n",
        "    'loss_train': [],\n",
        "    'loss_val': [],\n",
        "    'accuracy_history': [],\n",
        "    }\n",
        "torch.save(checkpoint, path_modelo)\n",
        "\n",
        "def train_step(input_ids, target_ids):\n",
        "    model.train()\n",
        "    model.zero_grad()\n",
        "    logits = model(input_ids)\n",
        "    logits = logits.reshape(-1, logits.shape[-1])\n",
        "    target_ids = target_ids.reshape(-1)\n",
        "    loss = nn.functional.cross_entropy(logits, target_ids)\n",
        "    loss.backward()\n",
        "    optimizer.step()\n",
        "\n",
        "    return loss.item()\n",
        "\n",
        "def validation_step(input_ids, target_ids):\n",
        "    model.eval()\n",
        "    logits = model(input_ids)\n",
        "    logits = logits.reshape(-1, logits.shape[-1])\n",
        "    target_ids = target_ids.reshape(-1)\n",
        "    loss = nn.functional.cross_entropy(logits, target_ids)\n",
        "\n",
        "    _, y_pred = torch.max(logits,1)\n",
        "    accuracy_item = (y_pred.cpu().numpy() == target_ids.cpu().numpy()).mean()\n",
        "\n",
        "    return accuracy_item,loss.item()\n",
        "\n",
        "epochs = []\n",
        "loss_history = []\n",
        "loss_epoch_end = []\n",
        "accuracy_history = []\n",
        "total_trained_samples = 0\n",
        "\n",
        "with torch.no_grad():\n",
        "    loss_accuracy = [list(validation_step(val_input_ids.to(device), val_target_ids.to(device)))\n",
        "        for val_input_ids, val_target_ids in val_dataloader]\n",
        "    \n",
        "    mean_accuracy = np.array(loss_accuracy)[:,0].mean()\n",
        "    mean_loss = np.array(loss_accuracy)[:,1].mean()\n",
        "    print(f'Accuracy: {mean_accuracy} Loss_Val: {mean_loss}')\n",
        "    accuracy_history.append(mean_accuracy.item())\n",
        "\n",
        "    checkpoint['accuracy_history'].append(mean_accuracy.item())\n",
        "    checkpoint['loss_val'].append(mean_loss.item())\n",
        "    torch.save(checkpoint, path_modelo)\n",
        "    \n",
        "for i in range(n_epochs):\n",
        "    for x_train, y_train in tqdm(train_dataloader, total=len(train_dataloader), desc='Training'):\n",
        "        loss = train_step(x_train.to(device), y_train.to(device))\n",
        "        \n",
        "        total_trained_samples += x_train.size(0)\n",
        "        epochs.append(total_trained_samples / len(train_dataset))\n",
        "        loss_history.append(loss)\n",
        "    \n",
        "    loss_epoch_end.append(loss)\n",
        "    print(f'Epoch: {i:d}/{n_epochs - 1:d} Loss_Train: {loss}')\n",
        "    checkpoint['epochs'].append(i)\n",
        "    checkpoint['loss_train'].append(loss)\n",
        "    \n",
        "    with torch.no_grad():\n",
        "        loss_accuracy = [validation_step(val_input_ids.to(device), val_target_ids.to(device))\n",
        "            for val_input_ids, val_target_ids in val_dataloader]\n",
        "        \n",
        "        mean_accuracy = np.array(loss_accuracy)[:,0].mean()\n",
        "        mean_loss = np.array(loss_accuracy)[:,1].mean()\n",
        "        print(f'Accuracy: {mean_accuracy} Loss_Val: {mean_loss}')\n",
        "        accuracy_history.append(mean_accuracy.item())\n",
        "\n",
        "        checkpoint['accuracy_history'].append(mean_accuracy.item())\n",
        "        checkpoint['loss_val'].append(mean_loss.item())\n",
        "\n",
        "    torch.save(checkpoint, path_modelo)\n"
      ],
      "metadata": {
        "colab": {
          "base_uri": "https://localhost:8080/"
        },
        "id": "c8TRb8reCLOt",
        "outputId": "6eca8e4a-784f-475c-a51f-7b1d0192e7de"
      },
      "execution_count": null,
      "outputs": [
        {
          "metadata": {
            "tags": null
          },
          "name": "stdout",
          "output_type": "stream",
          "text": [
            "Accuracy: 0.0054 Loss_Val: 4.605927608013153\n"
          ]
        },
        {
          "metadata": {
            "tags": null
          },
          "name": "stderr",
          "output_type": "stream",
          "text": [
            "Training: 100%|██████████| 800/800 [00:24<00:00, 32.59it/s]\n"
          ]
        },
        {
          "metadata": {
            "tags": null
          },
          "name": "stdout",
          "output_type": "stream",
          "text": [
            "Epoch: 0/19 Loss_Train: 3.7273900508880615\n",
            "Accuracy: 0.139 Loss_Val: 3.6200682306289673\n"
          ]
        },
        {
          "metadata": {
            "tags": null
          },
          "name": "stderr",
          "output_type": "stream",
          "text": [
            "Training: 100%|██████████| 800/800 [00:24<00:00, 32.73it/s]\n"
          ]
        },
        {
          "metadata": {
            "tags": null
          },
          "name": "stdout",
          "output_type": "stream",
          "text": [
            "Epoch: 1/19 Loss_Train: 3.321450710296631\n",
            "Accuracy: 0.20910000000000004 Loss_Val: 3.175502732992172\n"
          ]
        },
        {
          "metadata": {
            "tags": null
          },
          "name": "stderr",
          "output_type": "stream",
          "text": [
            "Training: 100%|██████████| 800/800 [00:25<00:00, 31.35it/s]\n"
          ]
        },
        {
          "metadata": {
            "tags": null
          },
          "name": "stdout",
          "output_type": "stream",
          "text": [
            "Epoch: 2/19 Loss_Train: 3.0338246822357178\n",
            "Accuracy: 0.24880000000000002 Loss_Val: 2.9630845844745637\n"
          ]
        },
        {
          "metadata": {
            "tags": null
          },
          "name": "stderr",
          "output_type": "stream",
          "text": [
            "Training: 100%|██████████| 800/800 [00:25<00:00, 30.82it/s]\n"
          ]
        },
        {
          "metadata": {
            "tags": null
          },
          "name": "stdout",
          "output_type": "stream",
          "text": [
            "Epoch: 3/19 Loss_Train: 2.6470770835876465\n",
            "Accuracy: 0.29669999999999996 Loss_Val: 2.7318737614154815\n"
          ]
        },
        {
          "metadata": {
            "tags": null
          },
          "name": "stderr",
          "output_type": "stream",
          "text": [
            "Training: 100%|██████████| 800/800 [00:25<00:00, 31.11it/s]\n"
          ]
        },
        {
          "metadata": {
            "tags": null
          },
          "name": "stdout",
          "output_type": "stream",
          "text": [
            "Epoch: 4/19 Loss_Train: 2.515414237976074\n",
            "Accuracy: 0.32280000000000003 Loss_Val: 2.616809132695198\n"
          ]
        },
        {
          "metadata": {
            "tags": null
          },
          "name": "stderr",
          "output_type": "stream",
          "text": [
            "Training: 100%|██████████| 800/800 [00:25<00:00, 31.36it/s]\n"
          ]
        },
        {
          "metadata": {
            "tags": null
          },
          "name": "stdout",
          "output_type": "stream",
          "text": [
            "Epoch: 5/19 Loss_Train: 2.321904420852661\n",
            "Accuracy: 0.3539 Loss_Val: 2.4696280962228774\n"
          ]
        },
        {
          "metadata": {
            "tags": null
          },
          "name": "stderr",
          "output_type": "stream",
          "text": [
            "Training: 100%|██████████| 800/800 [00:25<00:00, 31.47it/s]\n"
          ]
        },
        {
          "metadata": {
            "tags": null
          },
          "name": "stdout",
          "output_type": "stream",
          "text": [
            "Epoch: 6/19 Loss_Train: 2.7074673175811768\n",
            "Accuracy: 0.3726 Loss_Val: 2.3994606828689573\n"
          ]
        },
        {
          "output_type": "stream",
          "name": "stderr",
          "text": [
            "Training: 100%|██████████| 800/800 [00:26<00:00, 30.71it/s]\n"
          ]
        },
        {
          "output_type": "stream",
          "name": "stdout",
          "text": [
            "Epoch: 7/19 Loss_Train: 2.256422519683838\n",
            "Accuracy: 0.3807 Loss_Val: 2.3772034394741057\n"
          ]
        },
        {
          "output_type": "stream",
          "name": "stderr",
          "text": [
            "Training: 100%|██████████| 800/800 [00:25<00:00, 31.01it/s]\n"
          ]
        },
        {
          "output_type": "stream",
          "name": "stdout",
          "text": [
            "Epoch: 8/19 Loss_Train: 2.148145914077759\n",
            "Accuracy: 0.3917 Loss_Val: 2.3069273120164873\n"
          ]
        },
        {
          "output_type": "stream",
          "name": "stderr",
          "text": [
            "Training: 100%|██████████| 800/800 [00:25<00:00, 30.87it/s]\n"
          ]
        },
        {
          "output_type": "stream",
          "name": "stdout",
          "text": [
            "Epoch: 9/19 Loss_Train: 2.1474103927612305\n",
            "Accuracy: 0.40739999999999993 Loss_Val: 2.252385718822479\n"
          ]
        },
        {
          "output_type": "stream",
          "name": "stderr",
          "text": [
            "Training: 100%|██████████| 800/800 [00:25<00:00, 31.49it/s]\n"
          ]
        },
        {
          "output_type": "stream",
          "name": "stdout",
          "text": [
            "Epoch: 10/19 Loss_Train: 2.163309097290039\n",
            "Accuracy: 0.4287 Loss_Val: 2.1723175901174545\n"
          ]
        },
        {
          "output_type": "stream",
          "name": "stderr",
          "text": [
            "Training: 100%|██████████| 800/800 [00:25<00:00, 31.50it/s]\n"
          ]
        },
        {
          "output_type": "stream",
          "name": "stdout",
          "text": [
            "Epoch: 11/19 Loss_Train: 2.0238003730773926\n",
            "Accuracy: 0.43540000000000006 Loss_Val: 2.1504075640439986\n"
          ]
        },
        {
          "output_type": "stream",
          "name": "stderr",
          "text": [
            "Training: 100%|██████████| 800/800 [00:25<00:00, 31.29it/s]\n"
          ]
        },
        {
          "output_type": "stream",
          "name": "stdout",
          "text": [
            "Epoch: 12/19 Loss_Train: 2.101001739501953\n",
            "Accuracy: 0.4477 Loss_Val: 2.1271388870477677\n"
          ]
        },
        {
          "output_type": "stream",
          "name": "stderr",
          "text": [
            "Training: 100%|██████████| 800/800 [00:25<00:00, 31.11it/s]\n"
          ]
        },
        {
          "output_type": "stream",
          "name": "stdout",
          "text": [
            "Epoch: 13/19 Loss_Train: 1.6977766752243042\n",
            "Accuracy: 0.44980000000000003 Loss_Val: 2.121456490159035\n"
          ]
        },
        {
          "output_type": "stream",
          "name": "stderr",
          "text": [
            "Training: 100%|██████████| 800/800 [00:26<00:00, 30.74it/s]\n"
          ]
        },
        {
          "output_type": "stream",
          "name": "stdout",
          "text": [
            "Epoch: 14/19 Loss_Train: 2.1567189693450928\n",
            "Accuracy: 0.45370000000000005 Loss_Val: 2.097095745205879\n"
          ]
        },
        {
          "output_type": "stream",
          "name": "stderr",
          "text": [
            "Training: 100%|██████████| 800/800 [00:25<00:00, 31.32it/s]\n"
          ]
        },
        {
          "output_type": "stream",
          "name": "stdout",
          "text": [
            "Epoch: 15/19 Loss_Train: 1.3820273876190186\n",
            "Accuracy: 0.45640000000000003 Loss_Val: 2.0855238515138628\n"
          ]
        },
        {
          "output_type": "stream",
          "name": "stderr",
          "text": [
            "Training: 100%|██████████| 800/800 [00:25<00:00, 31.25it/s]\n"
          ]
        },
        {
          "output_type": "stream",
          "name": "stdout",
          "text": [
            "Epoch: 16/19 Loss_Train: 2.1520774364471436\n",
            "Accuracy: 0.46140000000000003 Loss_Val: 2.0862388652563095\n"
          ]
        },
        {
          "output_type": "stream",
          "name": "stderr",
          "text": [
            "Training: 100%|██████████| 800/800 [00:25<00:00, 31.87it/s]\n"
          ]
        },
        {
          "output_type": "stream",
          "name": "stdout",
          "text": [
            "Epoch: 17/19 Loss_Train: 1.5310258865356445\n",
            "Accuracy: 0.4593 Loss_Val: 2.104803954362869\n"
          ]
        },
        {
          "output_type": "stream",
          "name": "stderr",
          "text": [
            "Training: 100%|██████████| 800/800 [00:25<00:00, 31.62it/s]\n"
          ]
        },
        {
          "output_type": "stream",
          "name": "stdout",
          "text": [
            "Epoch: 18/19 Loss_Train: 1.3641448020935059\n",
            "Accuracy: 0.45890000000000003 Loss_Val: 2.147762584686279\n"
          ]
        },
        {
          "output_type": "stream",
          "name": "stderr",
          "text": [
            "Training: 100%|██████████| 800/800 [00:25<00:00, 31.49it/s]\n"
          ]
        },
        {
          "output_type": "stream",
          "name": "stdout",
          "text": [
            "Epoch: 19/19 Loss_Train: 1.4664912223815918\n",
            "Accuracy: 0.46540000000000004 Loss_Val: 2.1404479509592056\n"
          ]
        }
      ]
    },
    {
      "cell_type": "code",
      "source": [
        "# continuar com o  treino\n",
        "from tqdm import tqdm\n",
        "\n",
        "n_epochs = 60\n",
        "lr = 3e-4\n",
        "path_modelo_load='model_resnet18_CIFAR_02.pt'\n",
        "path_modelo_save='model_resnet18_CIFAR_03.pt'\n",
        "checkpoint = torch.load(path_modelo_load)\n",
        "\n",
        "model = CNN_resnet(checkpoint['img_channels'],checkpoint['num_classes']).to(device)\n",
        "optimizer = torch.optim.Adam(model.parameters(), lr=lr)\n",
        "\n",
        "model.load_state_dict(checkpoint['model_state_dict'])\n",
        "optimizer.load_state_dict(checkpoint['optimizer_state_dict'])\n",
        "\n",
        "def train_step(input_ids, target_ids):\n",
        "    model.train()\n",
        "    model.zero_grad()\n",
        "    logits = model(input_ids)\n",
        "    logits = logits.reshape(-1, logits.shape[-1])\n",
        "    target_ids = target_ids.reshape(-1)\n",
        "    loss = nn.functional.cross_entropy(logits, target_ids)\n",
        "    loss.backward()\n",
        "    optimizer.step()\n",
        "\n",
        "    return loss.item()\n",
        "\n",
        "def validation_step(input_ids, target_ids):\n",
        "    model.eval()\n",
        "    logits = model(input_ids)\n",
        "    logits = logits.reshape(-1, logits.shape[-1])\n",
        "    target_ids = target_ids.reshape(-1)\n",
        "    loss = nn.functional.cross_entropy(logits, target_ids)\n",
        "\n",
        "    _, y_pred = torch.max(logits,1)\n",
        "    accuracy_item = (y_pred.cpu().numpy() == target_ids.cpu().numpy()).mean()\n",
        "\n",
        "    return accuracy_item,loss.item()\n",
        "\n",
        "epochs = []\n",
        "loss_history = []\n",
        "loss_epoch_end = checkpoint['loss_train']\n",
        "accuracy_history = checkpoint['accuracy_history']\n",
        "total_trained_samples = 0\n",
        "epochs_init = checkpoint['epochs'][-1]+1\n",
        "\n",
        "for s in zip(checkpoint['accuracy_history'],checkpoint['loss_val'],checkpoint['epochs'],checkpoint['loss_train']):\n",
        "    print(f'Accuracy: {s[0]} Loss_Val: {s[1]}')\n",
        "    print(f'')\n",
        "    print(f'Epoch: {s[2]:d}/{n_epochs - 1:d} Loss_Train: {s[3]}')\n",
        "print(f\"Accuracy: { checkpoint['accuracy_history'][-1] } Loss_Val: {checkpoint['loss_val'][-1]}\")\n",
        "\n",
        "    \n",
        "for i in range(epochs_init,n_epochs):\n",
        "    for x_train, y_train in tqdm(train_dataloader, total=len(train_dataloader), desc='Training'):\n",
        "        loss = train_step(x_train.to(device), y_train.to(device))\n",
        "        \n",
        "        total_trained_samples += x_train.size(0)\n",
        "        epochs.append(total_trained_samples / len(train_dataset))\n",
        "        loss_history.append(loss)\n",
        "    \n",
        "    loss_epoch_end.append(loss)\n",
        "    print(f'Epoch: {i:d}/{n_epochs - 1:d} Loss_Train: {loss}')\n",
        "    checkpoint['epochs'].append(i)\n",
        "    checkpoint['loss_train'].append(loss)\n",
        "    \n",
        "    with torch.no_grad():\n",
        "        loss_accuracy = [validation_step(val_input_ids.to(device), val_target_ids.to(device))\n",
        "            for val_input_ids, val_target_ids in val_dataloader]\n",
        "        \n",
        "        mean_accuracy = np.array(loss_accuracy)[:,0].mean()\n",
        "        mean_loss = np.array(loss_accuracy)[:,1].mean()\n",
        "        print(f'Accuracy: {mean_accuracy} Loss_Val: {mean_loss}')\n",
        "        accuracy_history.append(mean_accuracy.item())\n",
        "\n",
        "        checkpoint['accuracy_history'].append(mean_accuracy.item())\n",
        "        checkpoint['loss_val'].append(mean_loss.item())\n",
        "\n",
        "    torch.save(checkpoint, path_modelo_save)\n"
      ],
      "metadata": {
        "colab": {
          "base_uri": "https://localhost:8080/"
        },
        "outputId": "49e13490-46c1-4e0e-e003-c44d052f0d61",
        "id": "dkB_dsdo6jef"
      },
      "execution_count": null,
      "outputs": [
        {
          "metadata": {
            "tags": null
          },
          "name": "stdout",
          "output_type": "stream",
          "text": [
            "Accuracy: 0.0054 Loss_Val: 4.605927608013153\n",
            "\n",
            "Epoch: 0/59 Loss_Train: 3.7273900508880615\n",
            "Accuracy: 0.139 Loss_Val: 3.6200682306289673\n",
            "\n",
            "Epoch: 1/59 Loss_Train: 3.321450710296631\n",
            "Accuracy: 0.20910000000000004 Loss_Val: 3.175502732992172\n",
            "\n",
            "Epoch: 2/59 Loss_Train: 3.0338246822357178\n",
            "Accuracy: 0.24880000000000002 Loss_Val: 2.9630845844745637\n",
            "\n",
            "Epoch: 3/59 Loss_Train: 2.6470770835876465\n",
            "Accuracy: 0.29669999999999996 Loss_Val: 2.7318737614154815\n",
            "\n",
            "Epoch: 4/59 Loss_Train: 2.515414237976074\n",
            "Accuracy: 0.32280000000000003 Loss_Val: 2.616809132695198\n",
            "\n",
            "Epoch: 5/59 Loss_Train: 2.321904420852661\n",
            "Accuracy: 0.3539 Loss_Val: 2.4696280962228774\n",
            "\n",
            "Epoch: 6/59 Loss_Train: 2.7074673175811768\n",
            "Accuracy: 0.3726 Loss_Val: 2.3994606828689573\n",
            "\n",
            "Epoch: 7/59 Loss_Train: 2.256422519683838\n",
            "Accuracy: 0.3807 Loss_Val: 2.3772034394741057\n",
            "\n",
            "Epoch: 8/59 Loss_Train: 2.148145914077759\n",
            "Accuracy: 0.3917 Loss_Val: 2.3069273120164873\n",
            "\n",
            "Epoch: 9/59 Loss_Train: 2.1474103927612305\n",
            "Accuracy: 0.40739999999999993 Loss_Val: 2.252385718822479\n",
            "\n",
            "Epoch: 10/59 Loss_Train: 2.163309097290039\n",
            "Accuracy: 0.4287 Loss_Val: 2.1723175901174545\n",
            "\n",
            "Epoch: 11/59 Loss_Train: 2.0238003730773926\n",
            "Accuracy: 0.43540000000000006 Loss_Val: 2.1504075640439986\n",
            "\n",
            "Epoch: 12/59 Loss_Train: 2.101001739501953\n",
            "Accuracy: 0.4477 Loss_Val: 2.1271388870477677\n",
            "\n",
            "Epoch: 13/59 Loss_Train: 1.6977766752243042\n",
            "Accuracy: 0.44980000000000003 Loss_Val: 2.121456490159035\n",
            "\n",
            "Epoch: 14/59 Loss_Train: 2.1567189693450928\n",
            "Accuracy: 0.45370000000000005 Loss_Val: 2.097095745205879\n",
            "\n",
            "Epoch: 15/59 Loss_Train: 1.3820273876190186\n",
            "Accuracy: 0.45640000000000003 Loss_Val: 2.0855238515138628\n",
            "\n",
            "Epoch: 16/59 Loss_Train: 2.1520774364471436\n",
            "Accuracy: 0.46140000000000003 Loss_Val: 2.0862388652563095\n",
            "\n",
            "Epoch: 17/59 Loss_Train: 1.5310258865356445\n",
            "Accuracy: 0.4593 Loss_Val: 2.104803954362869\n",
            "\n",
            "Epoch: 18/59 Loss_Train: 1.3641448020935059\n",
            "Accuracy: 0.45890000000000003 Loss_Val: 2.147762584686279\n",
            "\n",
            "Epoch: 19/59 Loss_Train: 1.4664912223815918\n",
            "Accuracy: 0.46540000000000004 Loss_Val: 2.1404479509592056\n",
            "\n",
            "Epoch: 20/59 Loss_Train: 1.5574946403503418\n",
            "Accuracy: 0.4692 Loss_Val: 2.130941156744957\n",
            "\n",
            "Epoch: 21/59 Loss_Train: 1.5574946403503418\n",
            "Accuracy: 0.4692 Loss_Val: 2.168637663722038\n",
            "\n",
            "Epoch: 22/59 Loss_Train: 1.6662640571594238\n",
            "Accuracy: 0.4705 Loss_Val: 2.175406448841095\n",
            "\n",
            "Epoch: 23/59 Loss_Train: 1.6662640571594238\n",
            "Accuracy: 0.4705 Loss_Val: 2.1854636776447296\n",
            "\n",
            "Epoch: 24/59 Loss_Train: 1.016125202178955\n",
            "Accuracy: 0.4725 Loss_Val: 2.200759751200676\n",
            "\n",
            "Epoch: 25/59 Loss_Train: 1.016125202178955\n",
            "Accuracy: 0.4725 Loss_Val: 2.235375030040741\n",
            "\n",
            "Epoch: 26/59 Loss_Train: 1.1285314559936523\n",
            "Accuracy: 0.47320000000000007 Loss_Val: 2.19899845123291\n",
            "\n",
            "Epoch: 27/59 Loss_Train: 1.1285314559936523\n",
            "Accuracy: 0.47320000000000007 Loss_Val: 2.317559649348259\n",
            "\n",
            "Epoch: 28/59 Loss_Train: 1.272201418876648\n",
            "Accuracy: 0.4764 Loss_Val: 2.2872588312625886\n",
            "\n",
            "Epoch: 29/59 Loss_Train: 1.272201418876648\n",
            "Accuracy: 0.4764 Loss_Val: 2.351540182828903\n",
            "\n",
            "Epoch: 30/59 Loss_Train: 0.8169954419136047\n",
            "Accuracy: 0.4772 Loss_Val: 2.3576837438344955\n",
            "\n",
            "Epoch: 31/59 Loss_Train: 0.8169954419136047\n",
            "Accuracy: 0.4772 Loss_Val: 2.4318143862485884\n",
            "\n",
            "Epoch: 32/59 Loss_Train: 1.1435526609420776\n",
            "Accuracy: 0.48590000000000005 Loss_Val: 2.398337481021881\n",
            "\n",
            "Epoch: 33/59 Loss_Train: 1.1435526609420776\n",
            "Accuracy: 0.48590000000000005 Loss_Val: 2.474027380943298\n",
            "\n",
            "Epoch: 34/59 Loss_Train: 0.8695076107978821\n",
            "Accuracy: 0.47550000000000003 Loss_Val: 2.489931060671806\n",
            "\n",
            "Epoch: 35/59 Loss_Train: 0.8695076107978821\n",
            "Accuracy: 0.47550000000000003 Loss_Val: 2.5393629866838454\n",
            "\n",
            "Epoch: 36/59 Loss_Train: 1.0326125621795654\n",
            "Accuracy: 0.4783 Loss_Val: 2.555114445090294\n",
            "\n",
            "Epoch: 37/59 Loss_Train: 1.0326125621795654\n",
            "Accuracy: 0.4783 Loss_Val: 2.623495034575462\n",
            "\n",
            "Epoch: 38/59 Loss_Train: 1.160423755645752\n",
            "Accuracy: 0.4804 Loss_Val: 2.653303989171982\n",
            "\n",
            "Epoch: 39/59 Loss_Train: 1.160423755645752\n",
            "Accuracy: 0.48009999999999997 Loss_Val: 2.590230191349983\n"
          ]
        },
        {
          "metadata": {
            "tags": null
          },
          "name": "stderr",
          "output_type": "stream",
          "text": [
            "Training: 100%|██████████| 800/800 [00:24<00:00, 32.15it/s]\n"
          ]
        },
        {
          "metadata": {
            "tags": null
          },
          "name": "stdout",
          "output_type": "stream",
          "text": [
            "Epoch: 40/59 Loss_Train: 1.4808993339538574\n",
            "Accuracy: 0.4686 Loss_Val: 2.127242791056633\n"
          ]
        },
        {
          "metadata": {
            "tags": null
          },
          "name": "stderr",
          "output_type": "stream",
          "text": [
            "Training: 100%|██████████| 800/800 [00:24<00:00, 32.56it/s]\n"
          ]
        },
        {
          "metadata": {
            "tags": null
          },
          "name": "stdout",
          "output_type": "stream",
          "text": [
            "Epoch: 41/59 Loss_Train: 1.2375434637069702\n",
            "Accuracy: 0.47240000000000004 Loss_Val: 2.1607748943567278\n"
          ]
        },
        {
          "metadata": {
            "tags": null
          },
          "name": "stderr",
          "output_type": "stream",
          "text": [
            "Training: 100%|██████████| 800/800 [00:24<00:00, 32.64it/s]\n"
          ]
        },
        {
          "metadata": {
            "tags": null
          },
          "name": "stdout",
          "output_type": "stream",
          "text": [
            "Epoch: 42/59 Loss_Train: 1.4429055452346802\n",
            "Accuracy: 0.47370000000000007 Loss_Val: 2.1532542270421984\n"
          ]
        },
        {
          "metadata": {
            "tags": null
          },
          "name": "stderr",
          "output_type": "stream",
          "text": [
            "Training: 100%|██████████| 800/800 [00:24<00:00, 32.61it/s]\n"
          ]
        },
        {
          "metadata": {
            "tags": null
          },
          "name": "stdout",
          "output_type": "stream",
          "text": [
            "Epoch: 43/59 Loss_Train: 0.9805395007133484\n",
            "Accuracy: 0.4782 Loss_Val: 2.1201604956388476\n"
          ]
        },
        {
          "metadata": {
            "tags": null
          },
          "name": "stderr",
          "output_type": "stream",
          "text": [
            "Training: 100%|██████████| 800/800 [00:24<00:00, 32.90it/s]\n"
          ]
        },
        {
          "metadata": {
            "tags": null
          },
          "name": "stdout",
          "output_type": "stream",
          "text": [
            "Epoch: 44/59 Loss_Train: 1.5782846212387085\n",
            "Accuracy: 0.47259999999999996 Loss_Val: 2.2685711854696273\n"
          ]
        },
        {
          "metadata": {
            "tags": null
          },
          "name": "stderr",
          "output_type": "stream",
          "text": [
            "Training: 100%|██████████| 800/800 [00:24<00:00, 32.79it/s]\n"
          ]
        },
        {
          "metadata": {
            "tags": null
          },
          "name": "stdout",
          "output_type": "stream",
          "text": [
            "Epoch: 45/59 Loss_Train: 1.2447576522827148\n",
            "Accuracy: 0.475 Loss_Val: 2.25900589466095\n"
          ]
        },
        {
          "metadata": {
            "tags": null
          },
          "name": "stderr",
          "output_type": "stream",
          "text": [
            "Training: 100%|██████████| 800/800 [00:24<00:00, 32.27it/s]\n"
          ]
        },
        {
          "metadata": {
            "tags": null
          },
          "name": "stdout",
          "output_type": "stream",
          "text": [
            "Epoch: 46/59 Loss_Train: 0.8718470931053162\n",
            "Accuracy: 0.47730000000000006 Loss_Val: 2.2468951708078384\n"
          ]
        },
        {
          "metadata": {
            "tags": null
          },
          "name": "stderr",
          "output_type": "stream",
          "text": [
            "Training: 100%|██████████| 800/800 [00:26<00:00, 30.30it/s]\n"
          ]
        },
        {
          "metadata": {
            "tags": null
          },
          "name": "stdout",
          "output_type": "stream",
          "text": [
            "Epoch: 47/59 Loss_Train: 1.4822967052459717\n",
            "Accuracy: 0.47450000000000003 Loss_Val: 2.3091348141431807\n"
          ]
        },
        {
          "metadata": {
            "tags": null
          },
          "name": "stderr",
          "output_type": "stream",
          "text": [
            "Training: 100%|██████████| 800/800 [00:24<00:00, 32.04it/s]\n"
          ]
        },
        {
          "metadata": {
            "tags": null
          },
          "name": "stdout",
          "output_type": "stream",
          "text": [
            "Epoch: 48/59 Loss_Train: 1.0757259130477905\n",
            "Accuracy: 0.47550000000000003 Loss_Val: 2.2871242076158524\n"
          ]
        },
        {
          "metadata": {
            "tags": null
          },
          "name": "stderr",
          "output_type": "stream",
          "text": [
            "Training: 100%|██████████| 800/800 [00:24<00:00, 32.51it/s]\n"
          ]
        },
        {
          "metadata": {
            "tags": null
          },
          "name": "stdout",
          "output_type": "stream",
          "text": [
            "Epoch: 49/59 Loss_Train: 0.8146610856056213\n",
            "Accuracy: 0.4767 Loss_Val: 2.3264407187700273\n"
          ]
        },
        {
          "metadata": {
            "tags": null
          },
          "name": "stderr",
          "output_type": "stream",
          "text": [
            "Training: 100%|██████████| 800/800 [00:23<00:00, 33.35it/s]\n"
          ]
        },
        {
          "metadata": {
            "tags": null
          },
          "name": "stdout",
          "output_type": "stream",
          "text": [
            "Epoch: 50/59 Loss_Train: 0.8722101449966431\n",
            "Accuracy: 0.4838 Loss_Val: 2.354044234752655\n"
          ]
        },
        {
          "metadata": {
            "tags": null
          },
          "name": "stderr",
          "output_type": "stream",
          "text": [
            "Training: 100%|██████████| 800/800 [00:24<00:00, 33.15it/s]\n"
          ]
        },
        {
          "metadata": {
            "tags": null
          },
          "name": "stdout",
          "output_type": "stream",
          "text": [
            "Epoch: 51/59 Loss_Train: 0.968207836151123\n",
            "Accuracy: 0.483 Loss_Val: 2.3877939677238462\n"
          ]
        },
        {
          "metadata": {
            "tags": null
          },
          "name": "stderr",
          "output_type": "stream",
          "text": [
            "Training: 100%|██████████| 800/800 [00:24<00:00, 32.86it/s]\n"
          ]
        },
        {
          "metadata": {
            "tags": null
          },
          "name": "stdout",
          "output_type": "stream",
          "text": [
            "Epoch: 52/59 Loss_Train: 0.7890430688858032\n",
            "Accuracy: 0.48090000000000005 Loss_Val: 2.4257362699508667\n"
          ]
        },
        {
          "metadata": {
            "tags": null
          },
          "name": "stderr",
          "output_type": "stream",
          "text": [
            "Training: 100%|██████████| 800/800 [00:24<00:00, 33.00it/s]\n"
          ]
        },
        {
          "metadata": {
            "tags": null
          },
          "name": "stdout",
          "output_type": "stream",
          "text": [
            "Epoch: 53/59 Loss_Train: 0.9256832003593445\n",
            "Accuracy: 0.4739999999999999 Loss_Val: 2.4899604880809783\n"
          ]
        },
        {
          "metadata": {
            "tags": null
          },
          "name": "stderr",
          "output_type": "stream",
          "text": [
            "Training: 100%|██████████| 800/800 [00:24<00:00, 32.96it/s]\n"
          ]
        },
        {
          "metadata": {
            "tags": null
          },
          "name": "stdout",
          "output_type": "stream",
          "text": [
            "Epoch: 54/59 Loss_Train: 0.5976075530052185\n",
            "Accuracy: 0.47609999999999997 Loss_Val: 2.4892783945798875\n"
          ]
        },
        {
          "metadata": {
            "tags": null
          },
          "name": "stderr",
          "output_type": "stream",
          "text": [
            "Training: 100%|██████████| 800/800 [00:24<00:00, 33.03it/s]\n"
          ]
        },
        {
          "metadata": {
            "tags": null
          },
          "name": "stdout",
          "output_type": "stream",
          "text": [
            "Epoch: 55/59 Loss_Train: 0.8219944834709167\n",
            "Accuracy: 0.47450000000000003 Loss_Val: 2.543572051525116\n"
          ]
        },
        {
          "output_type": "stream",
          "name": "stderr",
          "text": [
            "Training: 100%|██████████| 800/800 [00:24<00:00, 33.12it/s]\n"
          ]
        },
        {
          "output_type": "stream",
          "name": "stdout",
          "text": [
            "Epoch: 56/59 Loss_Train: 0.6273702383041382\n",
            "Accuracy: 0.47450000000000003 Loss_Val: 2.604168074131012\n"
          ]
        },
        {
          "output_type": "stream",
          "name": "stderr",
          "text": [
            "Training: 100%|██████████| 800/800 [00:24<00:00, 32.89it/s]\n"
          ]
        },
        {
          "output_type": "stream",
          "name": "stdout",
          "text": [
            "Epoch: 57/59 Loss_Train: 0.6101028323173523\n",
            "Accuracy: 0.48190000000000005 Loss_Val: 2.5528094500303267\n"
          ]
        },
        {
          "output_type": "stream",
          "name": "stderr",
          "text": [
            "Training:  83%|████████▎ | 667/800 [00:20<00:04, 32.65it/s]"
          ]
        }
      ]
    },
    {
      "cell_type": "code",
      "source": [
        "test_loader = DataLoader(test_dataset, batch_size=batch_size)\n",
        "\n",
        "with torch.no_grad():\n",
        "    loss_accuracy = [validation_step(val_input_ids.to(device), val_target_ids.to(device))\n",
        "        for val_input_ids, val_target_ids in val_dataloader]\n",
        "        \n",
        "    mean_accuracy = np.array(loss_accuracy)[:,0].mean()\n",
        "    mean_loss = np.array(loss_accuracy)[:,1].mean()\n",
        "\n",
        "print(f'TEST: Accuracy: {mean_accuracy} Loss_Val: {mean_loss}')"
      ],
      "metadata": {
        "id": "WGqEsYrN75vq",
        "colab": {
          "base_uri": "https://localhost:8080/"
        },
        "outputId": "f13a10ac-49e6-4a23-d6e8-ed466e59a49d"
      },
      "execution_count": null,
      "outputs": [
        {
          "output_type": "stream",
          "name": "stdout",
          "text": [
            "TEST: Accuracy: 0.4772 Loss_Val: 2.6944082736968995\n"
          ]
        }
      ]
    }
  ]
}